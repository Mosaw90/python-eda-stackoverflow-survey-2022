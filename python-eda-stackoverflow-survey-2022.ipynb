{
 "cells": [
  {
   "cell_type": "markdown",
   "id": "41f7a52f",
   "metadata": {},
   "source": [
    "## Exploratory Data Analysis using Python - A Case Study\n",
    "\n",
    "\n",
    "## Introduction\n",
    "\n",
    "**We'll analyze the StackOverflow developer survey dataset. The dataset contains responses to an annual survey conducted by StackOverflow. You can find the raw data & official analysis here [StackOverflow](https://insights.stackoverflow.com/survey).**\n",
    "\n",
    "**There are several options for getting the dataset into Jupyter:**\n",
    "\n",
    "- **Download the CSV manually and upload it via Jupyter's GUI**\n",
    "- **Use the `urlretrieve` function from the `urllib.request` to download CSV files from a raw URL**\n",
    "\n",
    "**Here, we'll download the data from [StackOverflow](https://insights.stackoverflow.com/survey) manually and upload it to jupyter.**"
   ]
  },
  {
   "cell_type": "code",
   "execution_count": 1,
   "id": "59f43395",
   "metadata": {},
   "outputs": [],
   "source": [
    "import os"
   ]
  },
  {
   "cell_type": "code",
   "execution_count": 2,
   "id": "ca9fabf2",
   "metadata": {},
   "outputs": [
    {
     "data": {
      "text/plain": [
       "['README_2022.txt',\n",
       " 'so_survey_2022.pdf',\n",
       " 'survey_results_public.csv',\n",
       " 'survey_results_schema.csv']"
      ]
     },
     "execution_count": 2,
     "metadata": {},
     "output_type": "execute_result"
    }
   ],
   "source": [
    "os.listdir('stack-overflow-developer-survey-2022')"
   ]
  },
  {
   "cell_type": "markdown",
   "id": "2f193479",
   "metadata": {},
   "source": [
    "**The `stack-overflow-developer-survey-2022` contains four files:**\n",
    "- **`README_2022.txt`: This is a text file with information about the survey.**\n",
    "- **`so_survey_2022.pdf`: This is a PDF file of the survey instrument.**\n",
    "- **`survey_results_public.csv`: This is a CSV file with main survey results, one respondent per row and one column per answer.**\n",
    "- **`survey_results_schema.csv`: This is also a CSV file with survey schema, i.e., the questions that correspond to each column name.**\n",
    "\n",
    "**We load the csv files using Pandas library. We'll call the loaded files `survey_raw_df` and `schema_raw` for the `survey_results_public.csv` and `survey_results_schema.csv` respectively into data frames to indicate there are unprocessed data that we'll clean, filter and modify for analysis.**"
   ]
  },
  {
   "cell_type": "code",
   "execution_count": 3,
   "id": "41d8a90b",
   "metadata": {},
   "outputs": [],
   "source": [
    "import pandas as pd"
   ]
  },
  {
   "cell_type": "code",
   "execution_count": 4,
   "id": "b7f22dfd",
   "metadata": {},
   "outputs": [],
   "source": [
    "survey_raw_df = pd.read_csv('stack-overflow-developer-survey-2022/survey_results_public.csv')"
   ]
  },
  {
   "cell_type": "code",
   "execution_count": 5,
   "id": "ea77ecd1",
   "metadata": {},
   "outputs": [
    {
     "data": {
      "text/html": [
       "<div>\n",
       "<style scoped>\n",
       "    .dataframe tbody tr th:only-of-type {\n",
       "        vertical-align: middle;\n",
       "    }\n",
       "\n",
       "    .dataframe tbody tr th {\n",
       "        vertical-align: top;\n",
       "    }\n",
       "\n",
       "    .dataframe thead th {\n",
       "        text-align: right;\n",
       "    }\n",
       "</style>\n",
       "<table border=\"1\" class=\"dataframe\">\n",
       "  <thead>\n",
       "    <tr style=\"text-align: right;\">\n",
       "      <th></th>\n",
       "      <th>ResponseId</th>\n",
       "      <th>MainBranch</th>\n",
       "      <th>Employment</th>\n",
       "      <th>RemoteWork</th>\n",
       "      <th>CodingActivities</th>\n",
       "      <th>EdLevel</th>\n",
       "      <th>LearnCode</th>\n",
       "      <th>LearnCodeOnline</th>\n",
       "      <th>LearnCodeCoursesCert</th>\n",
       "      <th>YearsCode</th>\n",
       "      <th>...</th>\n",
       "      <th>TimeSearching</th>\n",
       "      <th>TimeAnswering</th>\n",
       "      <th>Onboarding</th>\n",
       "      <th>ProfessionalTech</th>\n",
       "      <th>TrueFalse_1</th>\n",
       "      <th>TrueFalse_2</th>\n",
       "      <th>TrueFalse_3</th>\n",
       "      <th>SurveyLength</th>\n",
       "      <th>SurveyEase</th>\n",
       "      <th>ConvertedCompYearly</th>\n",
       "    </tr>\n",
       "  </thead>\n",
       "  <tbody>\n",
       "    <tr>\n",
       "      <th>0</th>\n",
       "      <td>1</td>\n",
       "      <td>None of these</td>\n",
       "      <td>NaN</td>\n",
       "      <td>NaN</td>\n",
       "      <td>NaN</td>\n",
       "      <td>NaN</td>\n",
       "      <td>NaN</td>\n",
       "      <td>NaN</td>\n",
       "      <td>NaN</td>\n",
       "      <td>NaN</td>\n",
       "      <td>...</td>\n",
       "      <td>NaN</td>\n",
       "      <td>NaN</td>\n",
       "      <td>NaN</td>\n",
       "      <td>NaN</td>\n",
       "      <td>NaN</td>\n",
       "      <td>NaN</td>\n",
       "      <td>NaN</td>\n",
       "      <td>NaN</td>\n",
       "      <td>NaN</td>\n",
       "      <td>NaN</td>\n",
       "    </tr>\n",
       "    <tr>\n",
       "      <th>1</th>\n",
       "      <td>2</td>\n",
       "      <td>I am a developer by profession</td>\n",
       "      <td>Employed, full-time</td>\n",
       "      <td>Fully remote</td>\n",
       "      <td>Hobby;Contribute to open-source projects</td>\n",
       "      <td>NaN</td>\n",
       "      <td>NaN</td>\n",
       "      <td>NaN</td>\n",
       "      <td>NaN</td>\n",
       "      <td>NaN</td>\n",
       "      <td>...</td>\n",
       "      <td>NaN</td>\n",
       "      <td>NaN</td>\n",
       "      <td>NaN</td>\n",
       "      <td>NaN</td>\n",
       "      <td>NaN</td>\n",
       "      <td>NaN</td>\n",
       "      <td>NaN</td>\n",
       "      <td>Too long</td>\n",
       "      <td>Difficult</td>\n",
       "      <td>NaN</td>\n",
       "    </tr>\n",
       "    <tr>\n",
       "      <th>2</th>\n",
       "      <td>3</td>\n",
       "      <td>I am not primarily a developer, but I write co...</td>\n",
       "      <td>Employed, full-time</td>\n",
       "      <td>Hybrid (some remote, some in-person)</td>\n",
       "      <td>Hobby</td>\n",
       "      <td>Master’s degree (M.A., M.S., M.Eng., MBA, etc.)</td>\n",
       "      <td>Books / Physical media;Friend or family member...</td>\n",
       "      <td>Technical documentation;Blogs;Programming Game...</td>\n",
       "      <td>NaN</td>\n",
       "      <td>14</td>\n",
       "      <td>...</td>\n",
       "      <td>NaN</td>\n",
       "      <td>NaN</td>\n",
       "      <td>NaN</td>\n",
       "      <td>NaN</td>\n",
       "      <td>NaN</td>\n",
       "      <td>NaN</td>\n",
       "      <td>NaN</td>\n",
       "      <td>Appropriate in length</td>\n",
       "      <td>Neither easy nor difficult</td>\n",
       "      <td>40205.0</td>\n",
       "    </tr>\n",
       "    <tr>\n",
       "      <th>3</th>\n",
       "      <td>4</td>\n",
       "      <td>I am a developer by profession</td>\n",
       "      <td>Employed, full-time</td>\n",
       "      <td>Fully remote</td>\n",
       "      <td>I don’t code outside of work</td>\n",
       "      <td>Bachelor’s degree (B.A., B.S., B.Eng., etc.)</td>\n",
       "      <td>Books / Physical media;School (i.e., Universit...</td>\n",
       "      <td>NaN</td>\n",
       "      <td>NaN</td>\n",
       "      <td>20</td>\n",
       "      <td>...</td>\n",
       "      <td>NaN</td>\n",
       "      <td>NaN</td>\n",
       "      <td>NaN</td>\n",
       "      <td>NaN</td>\n",
       "      <td>NaN</td>\n",
       "      <td>NaN</td>\n",
       "      <td>NaN</td>\n",
       "      <td>Appropriate in length</td>\n",
       "      <td>Easy</td>\n",
       "      <td>215232.0</td>\n",
       "    </tr>\n",
       "    <tr>\n",
       "      <th>4</th>\n",
       "      <td>5</td>\n",
       "      <td>I am a developer by profession</td>\n",
       "      <td>Employed, full-time</td>\n",
       "      <td>Hybrid (some remote, some in-person)</td>\n",
       "      <td>Hobby</td>\n",
       "      <td>Bachelor’s degree (B.A., B.S., B.Eng., etc.)</td>\n",
       "      <td>Other online resources (e.g., videos, blogs, f...</td>\n",
       "      <td>Technical documentation;Blogs;Stack Overflow;O...</td>\n",
       "      <td>NaN</td>\n",
       "      <td>8</td>\n",
       "      <td>...</td>\n",
       "      <td>NaN</td>\n",
       "      <td>NaN</td>\n",
       "      <td>NaN</td>\n",
       "      <td>NaN</td>\n",
       "      <td>NaN</td>\n",
       "      <td>NaN</td>\n",
       "      <td>NaN</td>\n",
       "      <td>Too long</td>\n",
       "      <td>Easy</td>\n",
       "      <td>NaN</td>\n",
       "    </tr>\n",
       "    <tr>\n",
       "      <th>...</th>\n",
       "      <td>...</td>\n",
       "      <td>...</td>\n",
       "      <td>...</td>\n",
       "      <td>...</td>\n",
       "      <td>...</td>\n",
       "      <td>...</td>\n",
       "      <td>...</td>\n",
       "      <td>...</td>\n",
       "      <td>...</td>\n",
       "      <td>...</td>\n",
       "      <td>...</td>\n",
       "      <td>...</td>\n",
       "      <td>...</td>\n",
       "      <td>...</td>\n",
       "      <td>...</td>\n",
       "      <td>...</td>\n",
       "      <td>...</td>\n",
       "      <td>...</td>\n",
       "      <td>...</td>\n",
       "      <td>...</td>\n",
       "      <td>...</td>\n",
       "    </tr>\n",
       "    <tr>\n",
       "      <th>73263</th>\n",
       "      <td>73264</td>\n",
       "      <td>I am a developer by profession</td>\n",
       "      <td>Employed, full-time</td>\n",
       "      <td>Fully remote</td>\n",
       "      <td>Freelance/contract work</td>\n",
       "      <td>Bachelor’s degree (B.A., B.S., B.Eng., etc.)</td>\n",
       "      <td>Books / Physical media;Other online resources ...</td>\n",
       "      <td>Technical documentation;Blogs;Written Tutorial...</td>\n",
       "      <td>Udemy</td>\n",
       "      <td>8</td>\n",
       "      <td>...</td>\n",
       "      <td>30-60 minutes a day</td>\n",
       "      <td>Less than 15 minutes a day</td>\n",
       "      <td>Just right</td>\n",
       "      <td>DevOps function;Microservices;Developer portal...</td>\n",
       "      <td>Yes</td>\n",
       "      <td>Yes</td>\n",
       "      <td>Yes</td>\n",
       "      <td>Too long</td>\n",
       "      <td>Easy</td>\n",
       "      <td>NaN</td>\n",
       "    </tr>\n",
       "    <tr>\n",
       "      <th>73264</th>\n",
       "      <td>73265</td>\n",
       "      <td>I am a developer by profession</td>\n",
       "      <td>Employed, full-time</td>\n",
       "      <td>Full in-person</td>\n",
       "      <td>Hobby</td>\n",
       "      <td>Master’s degree (M.A., M.S., M.Eng., MBA, etc.)</td>\n",
       "      <td>Other online resources (e.g., videos, blogs, f...</td>\n",
       "      <td>Technical documentation;Blogs;Written Tutorial...</td>\n",
       "      <td>Coursera;Udemy;Udacity</td>\n",
       "      <td>6</td>\n",
       "      <td>...</td>\n",
       "      <td>15-30 minutes a day</td>\n",
       "      <td>60-120 minutes a day</td>\n",
       "      <td>Very long</td>\n",
       "      <td>None of these</td>\n",
       "      <td>No</td>\n",
       "      <td>Yes</td>\n",
       "      <td>Yes</td>\n",
       "      <td>Too long</td>\n",
       "      <td>Easy</td>\n",
       "      <td>NaN</td>\n",
       "    </tr>\n",
       "    <tr>\n",
       "      <th>73265</th>\n",
       "      <td>73266</td>\n",
       "      <td>I am not primarily a developer, but I write co...</td>\n",
       "      <td>Employed, full-time</td>\n",
       "      <td>Hybrid (some remote, some in-person)</td>\n",
       "      <td>Hobby;School or academic work</td>\n",
       "      <td>Bachelor’s degree (B.A., B.S., B.Eng., etc.)</td>\n",
       "      <td>Books / Physical media;Other online resources ...</td>\n",
       "      <td>Technical documentation;Programming Games;Stac...</td>\n",
       "      <td>Udemy;Codecademy;Pluralsight;edX</td>\n",
       "      <td>42</td>\n",
       "      <td>...</td>\n",
       "      <td>30-60 minutes a day</td>\n",
       "      <td>60-120 minutes a day</td>\n",
       "      <td>Just right</td>\n",
       "      <td>None of these</td>\n",
       "      <td>No</td>\n",
       "      <td>No</td>\n",
       "      <td>No</td>\n",
       "      <td>Appropriate in length</td>\n",
       "      <td>Easy</td>\n",
       "      <td>NaN</td>\n",
       "    </tr>\n",
       "    <tr>\n",
       "      <th>73266</th>\n",
       "      <td>73267</td>\n",
       "      <td>I am a developer by profession</td>\n",
       "      <td>Employed, full-time</td>\n",
       "      <td>Hybrid (some remote, some in-person)</td>\n",
       "      <td>Hobby</td>\n",
       "      <td>Bachelor’s degree (B.A., B.S., B.Eng., etc.)</td>\n",
       "      <td>Books / Physical media;On the job training</td>\n",
       "      <td>NaN</td>\n",
       "      <td>NaN</td>\n",
       "      <td>50</td>\n",
       "      <td>...</td>\n",
       "      <td>NaN</td>\n",
       "      <td>NaN</td>\n",
       "      <td>NaN</td>\n",
       "      <td>NaN</td>\n",
       "      <td>NaN</td>\n",
       "      <td>NaN</td>\n",
       "      <td>NaN</td>\n",
       "      <td>Appropriate in length</td>\n",
       "      <td>Easy</td>\n",
       "      <td>NaN</td>\n",
       "    </tr>\n",
       "    <tr>\n",
       "      <th>73267</th>\n",
       "      <td>73268</td>\n",
       "      <td>I used to be a developer by profession, but no...</td>\n",
       "      <td>Independent contractor, freelancer, or self-em...</td>\n",
       "      <td>Fully remote</td>\n",
       "      <td>Hobby;Contribute to open-source projects;Boots...</td>\n",
       "      <td>Bachelor’s degree (B.A., B.S., B.Eng., etc.)</td>\n",
       "      <td>Books / Physical media;Friend or family member...</td>\n",
       "      <td>Technical documentation;Blogs;Programming Game...</td>\n",
       "      <td>Udemy;Pluralsight</td>\n",
       "      <td>16</td>\n",
       "      <td>...</td>\n",
       "      <td>NaN</td>\n",
       "      <td>NaN</td>\n",
       "      <td>NaN</td>\n",
       "      <td>NaN</td>\n",
       "      <td>NaN</td>\n",
       "      <td>NaN</td>\n",
       "      <td>NaN</td>\n",
       "      <td>Appropriate in length</td>\n",
       "      <td>Easy</td>\n",
       "      <td>NaN</td>\n",
       "    </tr>\n",
       "  </tbody>\n",
       "</table>\n",
       "<p>73268 rows × 79 columns</p>\n",
       "</div>"
      ],
      "text/plain": [
       "       ResponseId                                         MainBranch  \\\n",
       "0               1                                      None of these   \n",
       "1               2                     I am a developer by profession   \n",
       "2               3  I am not primarily a developer, but I write co...   \n",
       "3               4                     I am a developer by profession   \n",
       "4               5                     I am a developer by profession   \n",
       "...           ...                                                ...   \n",
       "73263       73264                     I am a developer by profession   \n",
       "73264       73265                     I am a developer by profession   \n",
       "73265       73266  I am not primarily a developer, but I write co...   \n",
       "73266       73267                     I am a developer by profession   \n",
       "73267       73268  I used to be a developer by profession, but no...   \n",
       "\n",
       "                                              Employment  \\\n",
       "0                                                    NaN   \n",
       "1                                    Employed, full-time   \n",
       "2                                    Employed, full-time   \n",
       "3                                    Employed, full-time   \n",
       "4                                    Employed, full-time   \n",
       "...                                                  ...   \n",
       "73263                                Employed, full-time   \n",
       "73264                                Employed, full-time   \n",
       "73265                                Employed, full-time   \n",
       "73266                                Employed, full-time   \n",
       "73267  Independent contractor, freelancer, or self-em...   \n",
       "\n",
       "                                 RemoteWork  \\\n",
       "0                                       NaN   \n",
       "1                              Fully remote   \n",
       "2      Hybrid (some remote, some in-person)   \n",
       "3                              Fully remote   \n",
       "4      Hybrid (some remote, some in-person)   \n",
       "...                                     ...   \n",
       "73263                          Fully remote   \n",
       "73264                        Full in-person   \n",
       "73265  Hybrid (some remote, some in-person)   \n",
       "73266  Hybrid (some remote, some in-person)   \n",
       "73267                          Fully remote   \n",
       "\n",
       "                                        CodingActivities  \\\n",
       "0                                                    NaN   \n",
       "1               Hobby;Contribute to open-source projects   \n",
       "2                                                  Hobby   \n",
       "3                           I don’t code outside of work   \n",
       "4                                                  Hobby   \n",
       "...                                                  ...   \n",
       "73263                            Freelance/contract work   \n",
       "73264                                              Hobby   \n",
       "73265                      Hobby;School or academic work   \n",
       "73266                                              Hobby   \n",
       "73267  Hobby;Contribute to open-source projects;Boots...   \n",
       "\n",
       "                                               EdLevel  \\\n",
       "0                                                  NaN   \n",
       "1                                                  NaN   \n",
       "2      Master’s degree (M.A., M.S., M.Eng., MBA, etc.)   \n",
       "3         Bachelor’s degree (B.A., B.S., B.Eng., etc.)   \n",
       "4         Bachelor’s degree (B.A., B.S., B.Eng., etc.)   \n",
       "...                                                ...   \n",
       "73263     Bachelor’s degree (B.A., B.S., B.Eng., etc.)   \n",
       "73264  Master’s degree (M.A., M.S., M.Eng., MBA, etc.)   \n",
       "73265     Bachelor’s degree (B.A., B.S., B.Eng., etc.)   \n",
       "73266     Bachelor’s degree (B.A., B.S., B.Eng., etc.)   \n",
       "73267     Bachelor’s degree (B.A., B.S., B.Eng., etc.)   \n",
       "\n",
       "                                               LearnCode  \\\n",
       "0                                                    NaN   \n",
       "1                                                    NaN   \n",
       "2      Books / Physical media;Friend or family member...   \n",
       "3      Books / Physical media;School (i.e., Universit...   \n",
       "4      Other online resources (e.g., videos, blogs, f...   \n",
       "...                                                  ...   \n",
       "73263  Books / Physical media;Other online resources ...   \n",
       "73264  Other online resources (e.g., videos, blogs, f...   \n",
       "73265  Books / Physical media;Other online resources ...   \n",
       "73266         Books / Physical media;On the job training   \n",
       "73267  Books / Physical media;Friend or family member...   \n",
       "\n",
       "                                         LearnCodeOnline  \\\n",
       "0                                                    NaN   \n",
       "1                                                    NaN   \n",
       "2      Technical documentation;Blogs;Programming Game...   \n",
       "3                                                    NaN   \n",
       "4      Technical documentation;Blogs;Stack Overflow;O...   \n",
       "...                                                  ...   \n",
       "73263  Technical documentation;Blogs;Written Tutorial...   \n",
       "73264  Technical documentation;Blogs;Written Tutorial...   \n",
       "73265  Technical documentation;Programming Games;Stac...   \n",
       "73266                                                NaN   \n",
       "73267  Technical documentation;Blogs;Programming Game...   \n",
       "\n",
       "                   LearnCodeCoursesCert YearsCode  ...        TimeSearching  \\\n",
       "0                                   NaN       NaN  ...                  NaN   \n",
       "1                                   NaN       NaN  ...                  NaN   \n",
       "2                                   NaN        14  ...                  NaN   \n",
       "3                                   NaN        20  ...                  NaN   \n",
       "4                                   NaN         8  ...                  NaN   \n",
       "...                                 ...       ...  ...                  ...   \n",
       "73263                             Udemy         8  ...  30-60 minutes a day   \n",
       "73264            Coursera;Udemy;Udacity         6  ...  15-30 minutes a day   \n",
       "73265  Udemy;Codecademy;Pluralsight;edX        42  ...  30-60 minutes a day   \n",
       "73266                               NaN        50  ...                  NaN   \n",
       "73267                 Udemy;Pluralsight        16  ...                  NaN   \n",
       "\n",
       "                    TimeAnswering  Onboarding  \\\n",
       "0                             NaN         NaN   \n",
       "1                             NaN         NaN   \n",
       "2                             NaN         NaN   \n",
       "3                             NaN         NaN   \n",
       "4                             NaN         NaN   \n",
       "...                           ...         ...   \n",
       "73263  Less than 15 minutes a day  Just right   \n",
       "73264        60-120 minutes a day   Very long   \n",
       "73265        60-120 minutes a day  Just right   \n",
       "73266                         NaN         NaN   \n",
       "73267                         NaN         NaN   \n",
       "\n",
       "                                        ProfessionalTech TrueFalse_1  \\\n",
       "0                                                    NaN         NaN   \n",
       "1                                                    NaN         NaN   \n",
       "2                                                    NaN         NaN   \n",
       "3                                                    NaN         NaN   \n",
       "4                                                    NaN         NaN   \n",
       "...                                                  ...         ...   \n",
       "73263  DevOps function;Microservices;Developer portal...         Yes   \n",
       "73264                                      None of these          No   \n",
       "73265                                      None of these          No   \n",
       "73266                                                NaN         NaN   \n",
       "73267                                                NaN         NaN   \n",
       "\n",
       "      TrueFalse_2 TrueFalse_3           SurveyLength  \\\n",
       "0             NaN         NaN                    NaN   \n",
       "1             NaN         NaN               Too long   \n",
       "2             NaN         NaN  Appropriate in length   \n",
       "3             NaN         NaN  Appropriate in length   \n",
       "4             NaN         NaN               Too long   \n",
       "...           ...         ...                    ...   \n",
       "73263         Yes         Yes               Too long   \n",
       "73264         Yes         Yes               Too long   \n",
       "73265          No          No  Appropriate in length   \n",
       "73266         NaN         NaN  Appropriate in length   \n",
       "73267         NaN         NaN  Appropriate in length   \n",
       "\n",
       "                       SurveyEase ConvertedCompYearly  \n",
       "0                             NaN                 NaN  \n",
       "1                       Difficult                 NaN  \n",
       "2      Neither easy nor difficult             40205.0  \n",
       "3                            Easy            215232.0  \n",
       "4                            Easy                 NaN  \n",
       "...                           ...                 ...  \n",
       "73263                        Easy                 NaN  \n",
       "73264                        Easy                 NaN  \n",
       "73265                        Easy                 NaN  \n",
       "73266                        Easy                 NaN  \n",
       "73267                        Easy                 NaN  \n",
       "\n",
       "[73268 rows x 79 columns]"
      ]
     },
     "execution_count": 5,
     "metadata": {},
     "output_type": "execute_result"
    }
   ],
   "source": [
    "survey_raw_df"
   ]
  },
  {
   "cell_type": "markdown",
   "id": "cbd92663",
   "metadata": {},
   "source": [
    "**The dataset above contains `73268` rows and `79` columns.**"
   ]
  },
  {
   "cell_type": "code",
   "execution_count": 6,
   "id": "2849608e",
   "metadata": {},
   "outputs": [
    {
     "data": {
      "text/plain": [
       "Index(['ResponseId', 'MainBranch', 'Employment', 'RemoteWork',\n",
       "       'CodingActivities', 'EdLevel', 'LearnCode', 'LearnCodeOnline',\n",
       "       'LearnCodeCoursesCert', 'YearsCode', 'YearsCodePro', 'DevType',\n",
       "       'OrgSize', 'PurchaseInfluence', 'BuyNewTool', 'Country', 'Currency',\n",
       "       'CompTotal', 'CompFreq', 'LanguageHaveWorkedWith',\n",
       "       'LanguageWantToWorkWith', 'DatabaseHaveWorkedWith',\n",
       "       'DatabaseWantToWorkWith', 'PlatformHaveWorkedWith',\n",
       "       'PlatformWantToWorkWith', 'WebframeHaveWorkedWith',\n",
       "       'WebframeWantToWorkWith', 'MiscTechHaveWorkedWith',\n",
       "       'MiscTechWantToWorkWith', 'ToolsTechHaveWorkedWith',\n",
       "       'ToolsTechWantToWorkWith', 'NEWCollabToolsHaveWorkedWith',\n",
       "       'NEWCollabToolsWantToWorkWith', 'OpSysProfessional use',\n",
       "       'OpSysPersonal use', 'VersionControlSystem', 'VCInteraction',\n",
       "       'VCHostingPersonal use', 'VCHostingProfessional use',\n",
       "       'OfficeStackAsyncHaveWorkedWith', 'OfficeStackAsyncWantToWorkWith',\n",
       "       'OfficeStackSyncHaveWorkedWith', 'OfficeStackSyncWantToWorkWith',\n",
       "       'Blockchain', 'NEWSOSites', 'SOVisitFreq', 'SOAccount', 'SOPartFreq',\n",
       "       'SOComm', 'Age', 'Gender', 'Trans', 'Sexuality', 'Ethnicity',\n",
       "       'Accessibility', 'MentalHealth', 'TBranch', 'ICorPM', 'WorkExp',\n",
       "       'Knowledge_1', 'Knowledge_2', 'Knowledge_3', 'Knowledge_4',\n",
       "       'Knowledge_5', 'Knowledge_6', 'Knowledge_7', 'Frequency_1',\n",
       "       'Frequency_2', 'Frequency_3', 'TimeSearching', 'TimeAnswering',\n",
       "       'Onboarding', 'ProfessionalTech', 'TrueFalse_1', 'TrueFalse_2',\n",
       "       'TrueFalse_3', 'SurveyLength', 'SurveyEase', 'ConvertedCompYearly'],\n",
       "      dtype='object')"
      ]
     },
     "execution_count": 6,
     "metadata": {},
     "output_type": "execute_result"
    }
   ],
   "source": [
    "survey_raw_df.columns"
   ]
  },
  {
   "cell_type": "code",
   "execution_count": 7,
   "id": "cd1a75ea",
   "metadata": {},
   "outputs": [],
   "source": [
    "schema_fname = 'stack-overflow-developer-survey-2022/survey_results_schema.csv'"
   ]
  },
  {
   "cell_type": "markdown",
   "id": "f81a567a",
   "metadata": {},
   "source": [
    "**`schema` can be use to get the full question text for any column in `survey_raw_df`.**"
   ]
  },
  {
   "cell_type": "code",
   "execution_count": 8,
   "id": "322e38f9",
   "metadata": {},
   "outputs": [
    {
     "data": {
      "text/plain": [
       "qname\n",
       "S0             <div><span style=\"font-size:19px;\"><strong>Hel...\n",
       "MetaInfo                                       Browser Meta Info\n",
       "S1             <span style=\"font-size:22px; font-family: aria...\n",
       "MainBranch     Which of the following options best describes ...\n",
       "Employment     Which of the following best describes your cur...\n",
       "                                     ...                        \n",
       "Frequency_2    Interacting with people outside of your immedi...\n",
       "Frequency_3    Encountering knowledge silos (where one indivi...\n",
       "TrueFalse_1    Are you involved in supporting new hires durin...\n",
       "TrueFalse_2    Do you use learning resources provided by your...\n",
       "TrueFalse_3    Does your employer give you time to learn new ...\n",
       "Name: question, Length: 79, dtype: object"
      ]
     },
     "execution_count": 8,
     "metadata": {},
     "output_type": "execute_result"
    }
   ],
   "source": [
    "schema_raw = pd.read_csv(schema_fname, index_col='qname').question\n",
    "\n",
    "schema_raw"
   ]
  },
  {
   "cell_type": "code",
   "execution_count": 9,
   "id": "0a7f5992",
   "metadata": {},
   "outputs": [
    {
     "data": {
      "text/plain": [
       "'Where do you live? <span style=\"font-weight: bolder;\">*</span>'"
      ]
     },
     "execution_count": 9,
     "metadata": {},
     "output_type": "execute_result"
    }
   ],
   "source": [
    "schema_raw.Country"
   ]
  },
  {
   "cell_type": "code",
   "execution_count": 10,
   "id": "c5569561",
   "metadata": {},
   "outputs": [
    {
     "data": {
      "text/plain": [
       "'Which <b>programming, scripting, and markup languages</b> have you done extensive development work in over the past year, and which do you want to work in over the next year? (If you both worked with the language and want to continue to do so, please check both boxes in that row.)'"
      ]
     },
     "execution_count": 10,
     "metadata": {},
     "output_type": "execute_result"
    }
   ],
   "source": [
    "schema_raw.Language"
   ]
  },
  {
   "cell_type": "markdown",
   "id": "022de661",
   "metadata": {},
   "source": [
    "**Looking at some questions in `schema`, we can see some `HTML` tags in some question. Let's remove the `HTML` tags by using a library in python called `BeautifulSoup`.**\n",
    "\n",
    "**We'll import the `BeautifulSoup` and also define a function called `remove_html_tags` for the removal of the tags from our `series`.**"
   ]
  },
  {
   "cell_type": "code",
   "execution_count": 11,
   "id": "0825b7d0",
   "metadata": {},
   "outputs": [],
   "source": [
    "from bs4 import BeautifulSoup"
   ]
  },
  {
   "cell_type": "code",
   "execution_count": 12,
   "id": "f622519b",
   "metadata": {},
   "outputs": [],
   "source": [
    "def remove_html_tags(text):\n",
    "    soup = BeautifulSoup(text, 'html.parser')\n",
    "    return soup.get_text()"
   ]
  },
  {
   "cell_type": "code",
   "execution_count": 13,
   "id": "a6baa5c0",
   "metadata": {},
   "outputs": [],
   "source": [
    "schema_raw = schema_raw.apply(remove_html_tags)"
   ]
  },
  {
   "cell_type": "code",
   "execution_count": 14,
   "id": "c7378f80",
   "metadata": {},
   "outputs": [
    {
     "data": {
      "text/plain": [
       "'Where do you live? *'"
      ]
     },
     "execution_count": 14,
     "metadata": {},
     "output_type": "execute_result"
    }
   ],
   "source": [
    "schema_raw.Country"
   ]
  },
  {
   "cell_type": "code",
   "execution_count": 15,
   "id": "51827e0c",
   "metadata": {},
   "outputs": [
    {
     "data": {
      "text/plain": [
       "'Which programming, scripting, and markup languages have you done extensive development work in over the past year, and which do you want to work in over the next year? (If you both worked with the language and want to continue to do so, please check both boxes in that row.)'"
      ]
     },
     "execution_count": 15,
     "metadata": {},
     "output_type": "execute_result"
    }
   ],
   "source": [
    "schema_raw.Language"
   ]
  },
  {
   "cell_type": "markdown",
   "id": "61544c7c",
   "metadata": {},
   "source": [
    "**Our dataset have been loaded succefully. We can now move to the next step of preprocessing & cleaning the data for analysis.**"
   ]
  },
  {
   "cell_type": "markdown",
   "id": "d40c199d",
   "metadata": {},
   "source": [
    "## Data Preparation and Cleaning\n",
    "\n",
    "**We'll limit our analysis to the following areas:**\n",
    "\n",
    "- Demographics of the survey respondents and the programming community\n",
    "- Distribution of programming skills, experiences and preferences\n",
    "- Employment-related information, preferences and opinions\n",
    "\n",
    "**There are variations with the column names both in `survey_raw_df` and `schema_raw`. Some questions have two responses to them, which causes some differences in the column names in the data frames. For example, in `schema_raw`, we have a column named `Language` asking a question about pragramming languages, while in `survey_raw_df`, we have two columns `LanguageHaveWorkedWith` and `LanguageWantToWorkWith` responding to the question.**\n",
    "\n",
    "**For the about reason, we'll create two subsets of columns with relevant data for our analysis.**"
   ]
  },
  {
   "cell_type": "code",
   "execution_count": 16,
   "id": "b0c20bbd",
   "metadata": {},
   "outputs": [],
   "source": [
    "# selected_columns for survey_raw_df\n",
    "selected_columns = [\n",
    "    # Demographics\n",
    "    'Country',\n",
    "    'Age',\n",
    "    'Gender',\n",
    "    'EdLevel',\n",
    "    'Ethnicity',\n",
    "    'Trans',\n",
    "    # Programming experience\n",
    "    'CodingActivities',\n",
    "    'LearnCode',\n",
    "    'LearnCodeOnline',\n",
    "    'LearnCodeCoursesCert', \n",
    "    'YearsCode', \n",
    "    'YearsCodePro', \n",
    "    'LanguageHaveWorkedWith',\n",
    "    'LanguageWantToWorkWith', \n",
    "    'DatabaseHaveWorkedWith',\n",
    "    'DatabaseWantToWorkWith',\n",
    "    # Employment\n",
    "    'Employment', \n",
    "    'RemoteWork',\n",
    "    'OrgSize',\n",
    "    'DevType',\n",
    "    'CompTotal',\n",
    "    'CompFreq'\n",
    "]\n",
    "\n",
    "# selected_columns1 for schema_raw\n",
    "selected_columns1 = [\n",
    "    # Demographics\n",
    "    'Country',\n",
    "    'Age',\n",
    "    'Gender',\n",
    "    'EdLevel',\n",
    "    'Ethnicity',\n",
    "    'Trans',\n",
    "    # Programming experience\n",
    "    'CodingActivities',\n",
    "    'LearnCode',\n",
    "    'LearnCodeOnline',\n",
    "    'LearnCodeCoursesCert', \n",
    "    'YearsCode', \n",
    "    'YearsCodePro', \n",
    "    'Language',\n",
    "    'Database',\n",
    "    # Employment\n",
    "    'Employment', \n",
    "    'RemoteWork',\n",
    "    'OrgSize',\n",
    "    'DevType',\n",
    "    'CompTotal',\n",
    "    'CompFreq'\n",
    "]"
   ]
  },
  {
   "cell_type": "code",
   "execution_count": 17,
   "id": "4903e3e0",
   "metadata": {},
   "outputs": [
    {
     "data": {
      "text/plain": [
       "22"
      ]
     },
     "execution_count": 17,
     "metadata": {},
     "output_type": "execute_result"
    }
   ],
   "source": [
    "len(selected_columns)"
   ]
  },
  {
   "cell_type": "code",
   "execution_count": 18,
   "id": "e98df12d",
   "metadata": {},
   "outputs": [
    {
     "data": {
      "text/plain": [
       "20"
      ]
     },
     "execution_count": 18,
     "metadata": {},
     "output_type": "execute_result"
    }
   ],
   "source": [
    "len(selected_columns1)"
   ]
  },
  {
   "cell_type": "markdown",
   "id": "7932914a",
   "metadata": {},
   "source": [
    "**Now we can extract a copy of the data from these columns into two new data frames `survey_df` and `schema`. We can continue to modify further without affecting the original data frames.**"
   ]
  },
  {
   "cell_type": "code",
   "execution_count": 19,
   "id": "3d529756",
   "metadata": {},
   "outputs": [],
   "source": [
    "survey_df = survey_raw_df[selected_columns].copy()"
   ]
  },
  {
   "cell_type": "code",
   "execution_count": 20,
   "id": "1ef843f3",
   "metadata": {},
   "outputs": [],
   "source": [
    "schema = schema_raw[selected_columns1].copy()"
   ]
  },
  {
   "cell_type": "code",
   "execution_count": 21,
   "id": "f73b85a8",
   "metadata": {},
   "outputs": [
    {
     "data": {
      "text/html": [
       "<div>\n",
       "<style scoped>\n",
       "    .dataframe tbody tr th:only-of-type {\n",
       "        vertical-align: middle;\n",
       "    }\n",
       "\n",
       "    .dataframe tbody tr th {\n",
       "        vertical-align: top;\n",
       "    }\n",
       "\n",
       "    .dataframe thead th {\n",
       "        text-align: right;\n",
       "    }\n",
       "</style>\n",
       "<table border=\"1\" class=\"dataframe\">\n",
       "  <thead>\n",
       "    <tr style=\"text-align: right;\">\n",
       "      <th></th>\n",
       "      <th>Country</th>\n",
       "      <th>Age</th>\n",
       "      <th>Gender</th>\n",
       "      <th>EdLevel</th>\n",
       "      <th>Ethnicity</th>\n",
       "      <th>Trans</th>\n",
       "      <th>CodingActivities</th>\n",
       "      <th>LearnCode</th>\n",
       "      <th>LearnCodeOnline</th>\n",
       "      <th>LearnCodeCoursesCert</th>\n",
       "      <th>...</th>\n",
       "      <th>LanguageHaveWorkedWith</th>\n",
       "      <th>LanguageWantToWorkWith</th>\n",
       "      <th>DatabaseHaveWorkedWith</th>\n",
       "      <th>DatabaseWantToWorkWith</th>\n",
       "      <th>Employment</th>\n",
       "      <th>RemoteWork</th>\n",
       "      <th>OrgSize</th>\n",
       "      <th>DevType</th>\n",
       "      <th>CompTotal</th>\n",
       "      <th>CompFreq</th>\n",
       "    </tr>\n",
       "  </thead>\n",
       "  <tbody>\n",
       "    <tr>\n",
       "      <th>0</th>\n",
       "      <td>NaN</td>\n",
       "      <td>NaN</td>\n",
       "      <td>NaN</td>\n",
       "      <td>NaN</td>\n",
       "      <td>NaN</td>\n",
       "      <td>NaN</td>\n",
       "      <td>NaN</td>\n",
       "      <td>NaN</td>\n",
       "      <td>NaN</td>\n",
       "      <td>NaN</td>\n",
       "      <td>...</td>\n",
       "      <td>NaN</td>\n",
       "      <td>NaN</td>\n",
       "      <td>NaN</td>\n",
       "      <td>NaN</td>\n",
       "      <td>NaN</td>\n",
       "      <td>NaN</td>\n",
       "      <td>NaN</td>\n",
       "      <td>NaN</td>\n",
       "      <td>NaN</td>\n",
       "      <td>NaN</td>\n",
       "    </tr>\n",
       "    <tr>\n",
       "      <th>1</th>\n",
       "      <td>Canada</td>\n",
       "      <td>NaN</td>\n",
       "      <td>NaN</td>\n",
       "      <td>NaN</td>\n",
       "      <td>NaN</td>\n",
       "      <td>NaN</td>\n",
       "      <td>Hobby;Contribute to open-source projects</td>\n",
       "      <td>NaN</td>\n",
       "      <td>NaN</td>\n",
       "      <td>NaN</td>\n",
       "      <td>...</td>\n",
       "      <td>JavaScript;TypeScript</td>\n",
       "      <td>Rust;TypeScript</td>\n",
       "      <td>NaN</td>\n",
       "      <td>NaN</td>\n",
       "      <td>Employed, full-time</td>\n",
       "      <td>Fully remote</td>\n",
       "      <td>NaN</td>\n",
       "      <td>NaN</td>\n",
       "      <td>NaN</td>\n",
       "      <td>NaN</td>\n",
       "    </tr>\n",
       "    <tr>\n",
       "      <th>2</th>\n",
       "      <td>United Kingdom of Great Britain and Northern I...</td>\n",
       "      <td>25-34 years old</td>\n",
       "      <td>Man</td>\n",
       "      <td>Master’s degree (M.A., M.S., M.Eng., MBA, etc.)</td>\n",
       "      <td>White</td>\n",
       "      <td>No</td>\n",
       "      <td>Hobby</td>\n",
       "      <td>Books / Physical media;Friend or family member...</td>\n",
       "      <td>Technical documentation;Blogs;Programming Game...</td>\n",
       "      <td>NaN</td>\n",
       "      <td>...</td>\n",
       "      <td>C#;C++;HTML/CSS;JavaScript;Python</td>\n",
       "      <td>C#;C++;HTML/CSS;JavaScript;TypeScript</td>\n",
       "      <td>Microsoft SQL Server</td>\n",
       "      <td>Microsoft SQL Server</td>\n",
       "      <td>Employed, full-time</td>\n",
       "      <td>Hybrid (some remote, some in-person)</td>\n",
       "      <td>20 to 99 employees</td>\n",
       "      <td>Data scientist or machine learning specialist;...</td>\n",
       "      <td>32000.0</td>\n",
       "      <td>Yearly</td>\n",
       "    </tr>\n",
       "    <tr>\n",
       "      <th>3</th>\n",
       "      <td>Israel</td>\n",
       "      <td>35-44 years old</td>\n",
       "      <td>Man</td>\n",
       "      <td>Bachelor’s degree (B.A., B.S., B.Eng., etc.)</td>\n",
       "      <td>White</td>\n",
       "      <td>No</td>\n",
       "      <td>I don’t code outside of work</td>\n",
       "      <td>Books / Physical media;School (i.e., Universit...</td>\n",
       "      <td>NaN</td>\n",
       "      <td>NaN</td>\n",
       "      <td>...</td>\n",
       "      <td>C#;JavaScript;SQL;TypeScript</td>\n",
       "      <td>C#;SQL;TypeScript</td>\n",
       "      <td>Microsoft SQL Server</td>\n",
       "      <td>Microsoft SQL Server</td>\n",
       "      <td>Employed, full-time</td>\n",
       "      <td>Fully remote</td>\n",
       "      <td>100 to 499 employees</td>\n",
       "      <td>Developer, full-stack</td>\n",
       "      <td>60000.0</td>\n",
       "      <td>Monthly</td>\n",
       "    </tr>\n",
       "    <tr>\n",
       "      <th>4</th>\n",
       "      <td>United States of America</td>\n",
       "      <td>25-34 years old</td>\n",
       "      <td>NaN</td>\n",
       "      <td>Bachelor’s degree (B.A., B.S., B.Eng., etc.)</td>\n",
       "      <td>NaN</td>\n",
       "      <td>NaN</td>\n",
       "      <td>Hobby</td>\n",
       "      <td>Other online resources (e.g., videos, blogs, f...</td>\n",
       "      <td>Technical documentation;Blogs;Stack Overflow;O...</td>\n",
       "      <td>NaN</td>\n",
       "      <td>...</td>\n",
       "      <td>C#;HTML/CSS;JavaScript;SQL;Swift;TypeScript</td>\n",
       "      <td>C#;Elixir;F#;Go;JavaScript;Rust;TypeScript</td>\n",
       "      <td>Cloud Firestore;Elasticsearch;Microsoft SQL Se...</td>\n",
       "      <td>Cloud Firestore;Elasticsearch;Firebase Realtim...</td>\n",
       "      <td>Employed, full-time</td>\n",
       "      <td>Hybrid (some remote, some in-person)</td>\n",
       "      <td>20 to 99 employees</td>\n",
       "      <td>Developer, front-end;Developer, full-stack;Dev...</td>\n",
       "      <td>NaN</td>\n",
       "      <td>NaN</td>\n",
       "    </tr>\n",
       "    <tr>\n",
       "      <th>...</th>\n",
       "      <td>...</td>\n",
       "      <td>...</td>\n",
       "      <td>...</td>\n",
       "      <td>...</td>\n",
       "      <td>...</td>\n",
       "      <td>...</td>\n",
       "      <td>...</td>\n",
       "      <td>...</td>\n",
       "      <td>...</td>\n",
       "      <td>...</td>\n",
       "      <td>...</td>\n",
       "      <td>...</td>\n",
       "      <td>...</td>\n",
       "      <td>...</td>\n",
       "      <td>...</td>\n",
       "      <td>...</td>\n",
       "      <td>...</td>\n",
       "      <td>...</td>\n",
       "      <td>...</td>\n",
       "      <td>...</td>\n",
       "      <td>...</td>\n",
       "    </tr>\n",
       "    <tr>\n",
       "      <th>73263</th>\n",
       "      <td>Nigeria</td>\n",
       "      <td>25-34 years old</td>\n",
       "      <td>Man</td>\n",
       "      <td>Bachelor’s degree (B.A., B.S., B.Eng., etc.)</td>\n",
       "      <td>African</td>\n",
       "      <td>No</td>\n",
       "      <td>Freelance/contract work</td>\n",
       "      <td>Books / Physical media;Other online resources ...</td>\n",
       "      <td>Technical documentation;Blogs;Written Tutorial...</td>\n",
       "      <td>Udemy</td>\n",
       "      <td>...</td>\n",
       "      <td>Bash/Shell;Dart;JavaScript;PHP;Python;SQL;Type...</td>\n",
       "      <td>Bash/Shell;Go;JavaScript;Python;SQL;TypeScript</td>\n",
       "      <td>Elasticsearch;MySQL;PostgreSQL;Redis</td>\n",
       "      <td>MySQL;PostgreSQL;Redis</td>\n",
       "      <td>Employed, full-time</td>\n",
       "      <td>Fully remote</td>\n",
       "      <td>100 to 499 employees</td>\n",
       "      <td>Developer, back-end</td>\n",
       "      <td>60000.0</td>\n",
       "      <td>Yearly</td>\n",
       "    </tr>\n",
       "    <tr>\n",
       "      <th>73264</th>\n",
       "      <td>United States of America</td>\n",
       "      <td>25-34 years old</td>\n",
       "      <td>Man</td>\n",
       "      <td>Master’s degree (M.A., M.S., M.Eng., MBA, etc.)</td>\n",
       "      <td>White</td>\n",
       "      <td>No</td>\n",
       "      <td>Hobby</td>\n",
       "      <td>Other online resources (e.g., videos, blogs, f...</td>\n",
       "      <td>Technical documentation;Blogs;Written Tutorial...</td>\n",
       "      <td>Coursera;Udemy;Udacity</td>\n",
       "      <td>...</td>\n",
       "      <td>Bash/Shell;HTML/CSS;JavaScript;Python;SQL</td>\n",
       "      <td>HTML/CSS;JavaScript;Python</td>\n",
       "      <td>Elasticsearch;MongoDB;Oracle;SQLite</td>\n",
       "      <td>Elasticsearch;Neo4j;SQLite</td>\n",
       "      <td>Employed, full-time</td>\n",
       "      <td>Full in-person</td>\n",
       "      <td>I don’t know</td>\n",
       "      <td>Data scientist or machine learning specialist</td>\n",
       "      <td>107000.0</td>\n",
       "      <td>Yearly</td>\n",
       "    </tr>\n",
       "    <tr>\n",
       "      <th>73265</th>\n",
       "      <td>United States of America</td>\n",
       "      <td>55-64 years old</td>\n",
       "      <td>Man</td>\n",
       "      <td>Bachelor’s degree (B.A., B.S., B.Eng., etc.)</td>\n",
       "      <td>Multiracial</td>\n",
       "      <td>No</td>\n",
       "      <td>Hobby;School or academic work</td>\n",
       "      <td>Books / Physical media;Other online resources ...</td>\n",
       "      <td>Technical documentation;Programming Games;Stac...</td>\n",
       "      <td>Udemy;Codecademy;Pluralsight;edX</td>\n",
       "      <td>...</td>\n",
       "      <td>HTML/CSS;JavaScript;PHP;Python;SQL</td>\n",
       "      <td>C#;HTML/CSS;JavaScript;PHP;Python;SQL</td>\n",
       "      <td>MariaDB;Microsoft SQL Server;MySQL;PostgreSQL;...</td>\n",
       "      <td>MariaDB;Microsoft SQL Server;MySQL;PostgreSQL;...</td>\n",
       "      <td>Employed, full-time</td>\n",
       "      <td>Hybrid (some remote, some in-person)</td>\n",
       "      <td>20 to 99 employees</td>\n",
       "      <td>Developer, full-stack;Developer, desktop or en...</td>\n",
       "      <td>NaN</td>\n",
       "      <td>NaN</td>\n",
       "    </tr>\n",
       "    <tr>\n",
       "      <th>73266</th>\n",
       "      <td>United Kingdom of Great Britain and Northern I...</td>\n",
       "      <td>55-64 years old</td>\n",
       "      <td>Man</td>\n",
       "      <td>Bachelor’s degree (B.A., B.S., B.Eng., etc.)</td>\n",
       "      <td>European</td>\n",
       "      <td>No</td>\n",
       "      <td>Hobby</td>\n",
       "      <td>Books / Physical media;On the job training</td>\n",
       "      <td>NaN</td>\n",
       "      <td>NaN</td>\n",
       "      <td>...</td>\n",
       "      <td>C#;Delphi;VBA</td>\n",
       "      <td>Delphi</td>\n",
       "      <td>Microsoft SQL Server;MongoDB;Oracle</td>\n",
       "      <td>NaN</td>\n",
       "      <td>Employed, full-time</td>\n",
       "      <td>Hybrid (some remote, some in-person)</td>\n",
       "      <td>10 to 19 employees</td>\n",
       "      <td>Developer, front-end;Developer, desktop or ent...</td>\n",
       "      <td>58500.0</td>\n",
       "      <td>Yearly</td>\n",
       "    </tr>\n",
       "    <tr>\n",
       "      <th>73267</th>\n",
       "      <td>Canada</td>\n",
       "      <td>25-34 years old</td>\n",
       "      <td>Man</td>\n",
       "      <td>Bachelor’s degree (B.A., B.S., B.Eng., etc.)</td>\n",
       "      <td>Or, in your own words:</td>\n",
       "      <td>No</td>\n",
       "      <td>Hobby;Contribute to open-source projects;Boots...</td>\n",
       "      <td>Books / Physical media;Friend or family member...</td>\n",
       "      <td>Technical documentation;Blogs;Programming Game...</td>\n",
       "      <td>Udemy;Pluralsight</td>\n",
       "      <td>...</td>\n",
       "      <td>C#;JavaScript;Lua;PowerShell;SQL;TypeScript</td>\n",
       "      <td>PowerShell;Rust;TypeScript</td>\n",
       "      <td>Microsoft SQL Server;Neo4j;Redis</td>\n",
       "      <td>Neo4j;Redis</td>\n",
       "      <td>Independent contractor, freelancer, or self-em...</td>\n",
       "      <td>Fully remote</td>\n",
       "      <td>NaN</td>\n",
       "      <td>Developer, front-end;Engineer, data;Engineer, ...</td>\n",
       "      <td>NaN</td>\n",
       "      <td>NaN</td>\n",
       "    </tr>\n",
       "  </tbody>\n",
       "</table>\n",
       "<p>73268 rows × 22 columns</p>\n",
       "</div>"
      ],
      "text/plain": [
       "                                                 Country              Age  \\\n",
       "0                                                    NaN              NaN   \n",
       "1                                                 Canada              NaN   \n",
       "2      United Kingdom of Great Britain and Northern I...  25-34 years old   \n",
       "3                                                 Israel  35-44 years old   \n",
       "4                               United States of America  25-34 years old   \n",
       "...                                                  ...              ...   \n",
       "73263                                            Nigeria  25-34 years old   \n",
       "73264                           United States of America  25-34 years old   \n",
       "73265                           United States of America  55-64 years old   \n",
       "73266  United Kingdom of Great Britain and Northern I...  55-64 years old   \n",
       "73267                                             Canada  25-34 years old   \n",
       "\n",
       "      Gender                                          EdLevel  \\\n",
       "0        NaN                                              NaN   \n",
       "1        NaN                                              NaN   \n",
       "2        Man  Master’s degree (M.A., M.S., M.Eng., MBA, etc.)   \n",
       "3        Man     Bachelor’s degree (B.A., B.S., B.Eng., etc.)   \n",
       "4        NaN     Bachelor’s degree (B.A., B.S., B.Eng., etc.)   \n",
       "...      ...                                              ...   \n",
       "73263    Man     Bachelor’s degree (B.A., B.S., B.Eng., etc.)   \n",
       "73264    Man  Master’s degree (M.A., M.S., M.Eng., MBA, etc.)   \n",
       "73265    Man     Bachelor’s degree (B.A., B.S., B.Eng., etc.)   \n",
       "73266    Man     Bachelor’s degree (B.A., B.S., B.Eng., etc.)   \n",
       "73267    Man     Bachelor’s degree (B.A., B.S., B.Eng., etc.)   \n",
       "\n",
       "                    Ethnicity Trans  \\\n",
       "0                         NaN   NaN   \n",
       "1                         NaN   NaN   \n",
       "2                       White    No   \n",
       "3                       White    No   \n",
       "4                         NaN   NaN   \n",
       "...                       ...   ...   \n",
       "73263                 African    No   \n",
       "73264                   White    No   \n",
       "73265             Multiracial    No   \n",
       "73266                European    No   \n",
       "73267  Or, in your own words:    No   \n",
       "\n",
       "                                        CodingActivities  \\\n",
       "0                                                    NaN   \n",
       "1               Hobby;Contribute to open-source projects   \n",
       "2                                                  Hobby   \n",
       "3                           I don’t code outside of work   \n",
       "4                                                  Hobby   \n",
       "...                                                  ...   \n",
       "73263                            Freelance/contract work   \n",
       "73264                                              Hobby   \n",
       "73265                      Hobby;School or academic work   \n",
       "73266                                              Hobby   \n",
       "73267  Hobby;Contribute to open-source projects;Boots...   \n",
       "\n",
       "                                               LearnCode  \\\n",
       "0                                                    NaN   \n",
       "1                                                    NaN   \n",
       "2      Books / Physical media;Friend or family member...   \n",
       "3      Books / Physical media;School (i.e., Universit...   \n",
       "4      Other online resources (e.g., videos, blogs, f...   \n",
       "...                                                  ...   \n",
       "73263  Books / Physical media;Other online resources ...   \n",
       "73264  Other online resources (e.g., videos, blogs, f...   \n",
       "73265  Books / Physical media;Other online resources ...   \n",
       "73266         Books / Physical media;On the job training   \n",
       "73267  Books / Physical media;Friend or family member...   \n",
       "\n",
       "                                         LearnCodeOnline  \\\n",
       "0                                                    NaN   \n",
       "1                                                    NaN   \n",
       "2      Technical documentation;Blogs;Programming Game...   \n",
       "3                                                    NaN   \n",
       "4      Technical documentation;Blogs;Stack Overflow;O...   \n",
       "...                                                  ...   \n",
       "73263  Technical documentation;Blogs;Written Tutorial...   \n",
       "73264  Technical documentation;Blogs;Written Tutorial...   \n",
       "73265  Technical documentation;Programming Games;Stac...   \n",
       "73266                                                NaN   \n",
       "73267  Technical documentation;Blogs;Programming Game...   \n",
       "\n",
       "                   LearnCodeCoursesCert  ...  \\\n",
       "0                                   NaN  ...   \n",
       "1                                   NaN  ...   \n",
       "2                                   NaN  ...   \n",
       "3                                   NaN  ...   \n",
       "4                                   NaN  ...   \n",
       "...                                 ...  ...   \n",
       "73263                             Udemy  ...   \n",
       "73264            Coursera;Udemy;Udacity  ...   \n",
       "73265  Udemy;Codecademy;Pluralsight;edX  ...   \n",
       "73266                               NaN  ...   \n",
       "73267                 Udemy;Pluralsight  ...   \n",
       "\n",
       "                                  LanguageHaveWorkedWith  \\\n",
       "0                                                    NaN   \n",
       "1                                  JavaScript;TypeScript   \n",
       "2                      C#;C++;HTML/CSS;JavaScript;Python   \n",
       "3                           C#;JavaScript;SQL;TypeScript   \n",
       "4            C#;HTML/CSS;JavaScript;SQL;Swift;TypeScript   \n",
       "...                                                  ...   \n",
       "73263  Bash/Shell;Dart;JavaScript;PHP;Python;SQL;Type...   \n",
       "73264          Bash/Shell;HTML/CSS;JavaScript;Python;SQL   \n",
       "73265                 HTML/CSS;JavaScript;PHP;Python;SQL   \n",
       "73266                                      C#;Delphi;VBA   \n",
       "73267        C#;JavaScript;Lua;PowerShell;SQL;TypeScript   \n",
       "\n",
       "                               LanguageWantToWorkWith  \\\n",
       "0                                                 NaN   \n",
       "1                                     Rust;TypeScript   \n",
       "2               C#;C++;HTML/CSS;JavaScript;TypeScript   \n",
       "3                                   C#;SQL;TypeScript   \n",
       "4          C#;Elixir;F#;Go;JavaScript;Rust;TypeScript   \n",
       "...                                               ...   \n",
       "73263  Bash/Shell;Go;JavaScript;Python;SQL;TypeScript   \n",
       "73264                      HTML/CSS;JavaScript;Python   \n",
       "73265           C#;HTML/CSS;JavaScript;PHP;Python;SQL   \n",
       "73266                                          Delphi   \n",
       "73267                      PowerShell;Rust;TypeScript   \n",
       "\n",
       "                                  DatabaseHaveWorkedWith  \\\n",
       "0                                                    NaN   \n",
       "1                                                    NaN   \n",
       "2                                   Microsoft SQL Server   \n",
       "3                                   Microsoft SQL Server   \n",
       "4      Cloud Firestore;Elasticsearch;Microsoft SQL Se...   \n",
       "...                                                  ...   \n",
       "73263               Elasticsearch;MySQL;PostgreSQL;Redis   \n",
       "73264                Elasticsearch;MongoDB;Oracle;SQLite   \n",
       "73265  MariaDB;Microsoft SQL Server;MySQL;PostgreSQL;...   \n",
       "73266                Microsoft SQL Server;MongoDB;Oracle   \n",
       "73267                   Microsoft SQL Server;Neo4j;Redis   \n",
       "\n",
       "                                  DatabaseWantToWorkWith  \\\n",
       "0                                                    NaN   \n",
       "1                                                    NaN   \n",
       "2                                   Microsoft SQL Server   \n",
       "3                                   Microsoft SQL Server   \n",
       "4      Cloud Firestore;Elasticsearch;Firebase Realtim...   \n",
       "...                                                  ...   \n",
       "73263                             MySQL;PostgreSQL;Redis   \n",
       "73264                         Elasticsearch;Neo4j;SQLite   \n",
       "73265  MariaDB;Microsoft SQL Server;MySQL;PostgreSQL;...   \n",
       "73266                                                NaN   \n",
       "73267                                        Neo4j;Redis   \n",
       "\n",
       "                                              Employment  \\\n",
       "0                                                    NaN   \n",
       "1                                    Employed, full-time   \n",
       "2                                    Employed, full-time   \n",
       "3                                    Employed, full-time   \n",
       "4                                    Employed, full-time   \n",
       "...                                                  ...   \n",
       "73263                                Employed, full-time   \n",
       "73264                                Employed, full-time   \n",
       "73265                                Employed, full-time   \n",
       "73266                                Employed, full-time   \n",
       "73267  Independent contractor, freelancer, or self-em...   \n",
       "\n",
       "                                 RemoteWork               OrgSize  \\\n",
       "0                                       NaN                   NaN   \n",
       "1                              Fully remote                   NaN   \n",
       "2      Hybrid (some remote, some in-person)    20 to 99 employees   \n",
       "3                              Fully remote  100 to 499 employees   \n",
       "4      Hybrid (some remote, some in-person)    20 to 99 employees   \n",
       "...                                     ...                   ...   \n",
       "73263                          Fully remote  100 to 499 employees   \n",
       "73264                        Full in-person          I don’t know   \n",
       "73265  Hybrid (some remote, some in-person)    20 to 99 employees   \n",
       "73266  Hybrid (some remote, some in-person)    10 to 19 employees   \n",
       "73267                          Fully remote                   NaN   \n",
       "\n",
       "                                                 DevType CompTotal CompFreq  \n",
       "0                                                    NaN       NaN      NaN  \n",
       "1                                                    NaN       NaN      NaN  \n",
       "2      Data scientist or machine learning specialist;...   32000.0   Yearly  \n",
       "3                                  Developer, full-stack   60000.0  Monthly  \n",
       "4      Developer, front-end;Developer, full-stack;Dev...       NaN      NaN  \n",
       "...                                                  ...       ...      ...  \n",
       "73263                                Developer, back-end   60000.0   Yearly  \n",
       "73264      Data scientist or machine learning specialist  107000.0   Yearly  \n",
       "73265  Developer, full-stack;Developer, desktop or en...       NaN      NaN  \n",
       "73266  Developer, front-end;Developer, desktop or ent...   58500.0   Yearly  \n",
       "73267  Developer, front-end;Engineer, data;Engineer, ...       NaN      NaN  \n",
       "\n",
       "[73268 rows x 22 columns]"
      ]
     },
     "execution_count": 21,
     "metadata": {},
     "output_type": "execute_result"
    }
   ],
   "source": [
    "survey_df"
   ]
  },
  {
   "cell_type": "code",
   "execution_count": 22,
   "id": "a3f7dedb",
   "metadata": {},
   "outputs": [
    {
     "data": {
      "text/plain": [
       "qname\n",
       "Country                                              Where do you live? *\n",
       "Age                                                     What is your age?\n",
       "Gender                  Which of the following describe you, if any? P...\n",
       "EdLevel                 Which of the following best describes the high...\n",
       "Ethnicity               Which of the following describe you, if any? P...\n",
       "Trans                                     Do you identify as transgender?\n",
       "CodingActivities        Which of the following best describes the code...\n",
       "LearnCode               How did you learn to code? Select all that apply.\n",
       "LearnCodeOnline         What online resources do you use to learn to c...\n",
       "LearnCodeCoursesCert    What online courses or certifications do you u...\n",
       "YearsCode               Including any education, how many years have y...\n",
       "YearsCodePro            NOT including education, how many years have y...\n",
       "Language                Which programming, scripting, and markup langu...\n",
       "Database                Which database environments have you done exte...\n",
       "Employment              Which of the following best describes your cur...\n",
       "RemoteWork              Which best describes your current work situation?\n",
       "OrgSize                 Approximately how many people are employed by ...\n",
       "DevType                 Which of the following describes your current ...\n",
       "CompTotal               What is your current total compensation (salar...\n",
       "CompFreq                 Is that compensation weekly, monthly, or yearly?\n",
       "Name: question, dtype: object"
      ]
     },
     "execution_count": 22,
     "metadata": {},
     "output_type": "execute_result"
    }
   ],
   "source": [
    "schema"
   ]
  },
  {
   "cell_type": "markdown",
   "id": "97346de3",
   "metadata": {},
   "source": [
    "**Let's view some basic information about the data frames.**"
   ]
  },
  {
   "cell_type": "code",
   "execution_count": 23,
   "id": "4e9f76b4",
   "metadata": {},
   "outputs": [
    {
     "data": {
      "text/plain": [
       "(73268, 22)"
      ]
     },
     "execution_count": 23,
     "metadata": {},
     "output_type": "execute_result"
    }
   ],
   "source": [
    "survey_df.shape"
   ]
  },
  {
   "cell_type": "code",
   "execution_count": 24,
   "id": "789eed8f",
   "metadata": {},
   "outputs": [
    {
     "data": {
      "text/plain": [
       "(20,)"
      ]
     },
     "execution_count": 24,
     "metadata": {},
     "output_type": "execute_result"
    }
   ],
   "source": [
    "schema.shape"
   ]
  },
  {
   "cell_type": "code",
   "execution_count": 25,
   "id": "66653b5e",
   "metadata": {},
   "outputs": [
    {
     "name": "stdout",
     "output_type": "stream",
     "text": [
      "<class 'pandas.core.frame.DataFrame'>\n",
      "RangeIndex: 73268 entries, 0 to 73267\n",
      "Data columns (total 22 columns):\n",
      " #   Column                  Non-Null Count  Dtype  \n",
      "---  ------                  --------------  -----  \n",
      " 0   Country                 71771 non-null  object \n",
      " 1   Age                     70946 non-null  object \n",
      " 2   Gender                  70853 non-null  object \n",
      " 3   EdLevel                 71571 non-null  object \n",
      " 4   Ethnicity               69474 non-null  object \n",
      " 5   Trans                   70315 non-null  object \n",
      " 6   CodingActivities        58899 non-null  object \n",
      " 7   LearnCode               71580 non-null  object \n",
      " 8   LearnCodeOnline         50685 non-null  object \n",
      " 9   LearnCodeCoursesCert    29389 non-null  object \n",
      " 10  YearsCode               71331 non-null  object \n",
      " 11  YearsCodePro            51833 non-null  object \n",
      " 12  LanguageHaveWorkedWith  70975 non-null  object \n",
      " 13  LanguageWantToWorkWith  67027 non-null  object \n",
      " 14  DatabaseHaveWorkedWith  60121 non-null  object \n",
      " 15  DatabaseWantToWorkWith  51014 non-null  object \n",
      " 16  Employment              71709 non-null  object \n",
      " 17  RemoteWork              58958 non-null  object \n",
      " 18  OrgSize                 51039 non-null  object \n",
      " 19  DevType                 61302 non-null  object \n",
      " 20  CompTotal               38422 non-null  float64\n",
      " 21  CompFreq                44425 non-null  object \n",
      "dtypes: float64(1), object(21)\n",
      "memory usage: 12.3+ MB\n"
     ]
    }
   ],
   "source": [
    "survey_df.info()"
   ]
  },
  {
   "cell_type": "markdown",
   "id": "b92d7fac",
   "metadata": {},
   "source": [
    "**Most columns have the data type `object`, this because they contain values of different types or contain empty value(`NaN`). Every column contains some empty values since the Non-Null count for every column is lower than the total number of rows (73268). We'll need to deal with empty values and manually adjust the data type for each column on a case-by-case basis.**\n",
    "\n",
    "**Only one column is detected as numeric column(`CompTotal`), although two other columns have mostly numeric values. To make our analysis simple and easy, we'll convert some other columns into numeric data types while ignoring any non-numeric value. The non-numeric value are converted to `NaN`.**\n",
    "\n",
    "**In `survey_df`, we also have two columns that have mostly numeric values, they are:**\n",
    "- `YearsCode`\n",
    "- `YearsCodePro`"
   ]
  },
  {
   "cell_type": "code",
   "execution_count": 26,
   "id": "6751200c",
   "metadata": {},
   "outputs": [
    {
     "data": {
      "text/plain": [
       "'Including any education, how many years have you been coding in total?'"
      ]
     },
     "execution_count": 26,
     "metadata": {},
     "output_type": "execute_result"
    }
   ],
   "source": [
    "schema.YearsCode"
   ]
  },
  {
   "cell_type": "code",
   "execution_count": 27,
   "id": "289a0b61",
   "metadata": {},
   "outputs": [
    {
     "data": {
      "text/plain": [
       "array([nan, '14', '20', '8', '15', '3', '1', '6', '37', '5', '12', '22',\n",
       "       '11', '4', '7', '13', '36', '2', '25', '10', '40', '16', '27',\n",
       "       '24', '19', '9', '17', '18', '26', 'More than 50 years', '29',\n",
       "       '30', '32', 'Less than 1 year', '48', '45', '38', '39', '28', '23',\n",
       "       '43', '21', '41', '35', '50', '33', '31', '34', '46', '44', '42',\n",
       "       '47', '49'], dtype=object)"
      ]
     },
     "execution_count": 27,
     "metadata": {},
     "output_type": "execute_result"
    }
   ],
   "source": [
    "survey_df.YearsCode.unique()"
   ]
  },
  {
   "cell_type": "code",
   "execution_count": 28,
   "id": "a5b69e4e",
   "metadata": {},
   "outputs": [
    {
     "data": {
      "text/plain": [
       "'NOT including education, how many years have you coded professionally (as a part of your work)?'"
      ]
     },
     "execution_count": 28,
     "metadata": {},
     "output_type": "execute_result"
    }
   ],
   "source": [
    "schema.YearsCodePro"
   ]
  },
  {
   "cell_type": "code",
   "execution_count": 29,
   "id": "73e4ec5e",
   "metadata": {},
   "outputs": [
    {
     "data": {
      "text/plain": [
       "array([nan, '5', '17', '3', '6', '30', '2', '10', '15', '4', '22', '20',\n",
       "       '40', '9', '14', '21', '7', '18', '25', '8', '12', '45', '1', '19',\n",
       "       '28', '24', '11', '23', 'Less than 1 year', '32', '27', '16', '44',\n",
       "       '26', '37', '46', '13', '31', '39', '34', '38', '35', '29', '42',\n",
       "       '36', '33', '43', '41', '48', '50', 'More than 50 years', '47',\n",
       "       '49'], dtype=object)"
      ]
     },
     "execution_count": 29,
     "metadata": {},
     "output_type": "execute_result"
    }
   ],
   "source": [
    "survey_df.YearsCodePro.unique()"
   ]
  },
  {
   "cell_type": "code",
   "execution_count": 30,
   "id": "b31e3c60",
   "metadata": {},
   "outputs": [],
   "source": [
    "survey_df['YearsCode'] = pd.to_numeric(survey_df.YearsCode, errors='coerce')\n",
    "survey_df['YearsCodePro'] = pd.to_numeric(survey_df.YearsCodePro, errors='coerce')"
   ]
  },
  {
   "cell_type": "markdown",
   "id": "6a5c04f7",
   "metadata": {},
   "source": [
    "**We used the `to_numeric` fuction of Pandas to convert the `YearsCode` and `YearsCodePro` columns to numeric columns.**\n",
    "\n",
    "**Let's see if the changes where effected below;**"
   ]
  },
  {
   "cell_type": "code",
   "execution_count": 31,
   "id": "016934ea",
   "metadata": {},
   "outputs": [
    {
     "name": "stdout",
     "output_type": "stream",
     "text": [
      "<class 'pandas.core.frame.DataFrame'>\n",
      "RangeIndex: 73268 entries, 0 to 73267\n",
      "Data columns (total 22 columns):\n",
      " #   Column                  Non-Null Count  Dtype  \n",
      "---  ------                  --------------  -----  \n",
      " 0   Country                 71771 non-null  object \n",
      " 1   Age                     70946 non-null  object \n",
      " 2   Gender                  70853 non-null  object \n",
      " 3   EdLevel                 71571 non-null  object \n",
      " 4   Ethnicity               69474 non-null  object \n",
      " 5   Trans                   70315 non-null  object \n",
      " 6   CodingActivities        58899 non-null  object \n",
      " 7   LearnCode               71580 non-null  object \n",
      " 8   LearnCodeOnline         50685 non-null  object \n",
      " 9   LearnCodeCoursesCert    29389 non-null  object \n",
      " 10  YearsCode               69746 non-null  float64\n",
      " 11  YearsCodePro            49820 non-null  float64\n",
      " 12  LanguageHaveWorkedWith  70975 non-null  object \n",
      " 13  LanguageWantToWorkWith  67027 non-null  object \n",
      " 14  DatabaseHaveWorkedWith  60121 non-null  object \n",
      " 15  DatabaseWantToWorkWith  51014 non-null  object \n",
      " 16  Employment              71709 non-null  object \n",
      " 17  RemoteWork              58958 non-null  object \n",
      " 18  OrgSize                 51039 non-null  object \n",
      " 19  DevType                 61302 non-null  object \n",
      " 20  CompTotal               38422 non-null  float64\n",
      " 21  CompFreq                44425 non-null  object \n",
      "dtypes: float64(3), object(19)\n",
      "memory usage: 12.3+ MB\n"
     ]
    }
   ],
   "source": [
    "survey_df.info()"
   ]
  },
  {
   "cell_type": "markdown",
   "id": "c3304b4a",
   "metadata": {},
   "source": [
    "**Let's view basic statistics about the numeric columns.**"
   ]
  },
  {
   "cell_type": "code",
   "execution_count": 32,
   "id": "c3ab172b",
   "metadata": {},
   "outputs": [
    {
     "data": {
      "text/html": [
       "<div>\n",
       "<style scoped>\n",
       "    .dataframe tbody tr th:only-of-type {\n",
       "        vertical-align: middle;\n",
       "    }\n",
       "\n",
       "    .dataframe tbody tr th {\n",
       "        vertical-align: top;\n",
       "    }\n",
       "\n",
       "    .dataframe thead th {\n",
       "        text-align: right;\n",
       "    }\n",
       "</style>\n",
       "<table border=\"1\" class=\"dataframe\">\n",
       "  <thead>\n",
       "    <tr style=\"text-align: right;\">\n",
       "      <th></th>\n",
       "      <th>YearsCode</th>\n",
       "      <th>YearsCodePro</th>\n",
       "      <th>CompTotal</th>\n",
       "    </tr>\n",
       "  </thead>\n",
       "  <tbody>\n",
       "    <tr>\n",
       "      <th>count</th>\n",
       "      <td>69746.000000</td>\n",
       "      <td>49820.000000</td>\n",
       "      <td>3.842200e+04</td>\n",
       "    </tr>\n",
       "    <tr>\n",
       "      <th>mean</th>\n",
       "      <td>12.403951</td>\n",
       "      <td>10.268727</td>\n",
       "      <td>2.342434e+52</td>\n",
       "    </tr>\n",
       "    <tr>\n",
       "      <th>std</th>\n",
       "      <td>9.722896</td>\n",
       "      <td>8.576772</td>\n",
       "      <td>4.591478e+54</td>\n",
       "    </tr>\n",
       "    <tr>\n",
       "      <th>min</th>\n",
       "      <td>1.000000</td>\n",
       "      <td>1.000000</td>\n",
       "      <td>0.000000e+00</td>\n",
       "    </tr>\n",
       "    <tr>\n",
       "      <th>25%</th>\n",
       "      <td>5.000000</td>\n",
       "      <td>4.000000</td>\n",
       "      <td>3.000000e+04</td>\n",
       "    </tr>\n",
       "    <tr>\n",
       "      <th>50%</th>\n",
       "      <td>10.000000</td>\n",
       "      <td>8.000000</td>\n",
       "      <td>7.750000e+04</td>\n",
       "    </tr>\n",
       "    <tr>\n",
       "      <th>75%</th>\n",
       "      <td>17.000000</td>\n",
       "      <td>15.000000</td>\n",
       "      <td>1.540000e+05</td>\n",
       "    </tr>\n",
       "    <tr>\n",
       "      <th>max</th>\n",
       "      <td>50.000000</td>\n",
       "      <td>50.000000</td>\n",
       "      <td>9.000000e+56</td>\n",
       "    </tr>\n",
       "  </tbody>\n",
       "</table>\n",
       "</div>"
      ],
      "text/plain": [
       "          YearsCode  YearsCodePro     CompTotal\n",
       "count  69746.000000  49820.000000  3.842200e+04\n",
       "mean      12.403951     10.268727  2.342434e+52\n",
       "std        9.722896      8.576772  4.591478e+54\n",
       "min        1.000000      1.000000  0.000000e+00\n",
       "25%        5.000000      4.000000  3.000000e+04\n",
       "50%       10.000000      8.000000  7.750000e+04\n",
       "75%       17.000000     15.000000  1.540000e+05\n",
       "max       50.000000     50.000000  9.000000e+56"
      ]
     },
     "execution_count": 32,
     "metadata": {},
     "output_type": "execute_result"
    }
   ],
   "source": [
    "survey_df.describe()"
   ]
  },
  {
   "cell_type": "markdown",
   "id": "48730c44",
   "metadata": {},
   "source": [
    "**There seem to be a problem with the `CompTotal` column, as the minimum value is 0. It is a common issue with surveys, sometimes due to accidental or intentioal errors, invalid values might be recorded while answering questions.**\n",
    "\n",
    "**Let's get the `question` in `schema` series.**"
   ]
  },
  {
   "cell_type": "code",
   "execution_count": 33,
   "id": "e0e23114",
   "metadata": {},
   "outputs": [
    {
     "data": {
      "text/plain": [
       "'What is your current total compensation (salary, bonuses, and perks, before taxes and deductions)? Please enter a whole number in the box below, without any punctuation.  If you are paid hourly, please estimate an equivalent weekly, monthly, or yearly salary. If you prefer not to answer, please leave the box empty.'"
      ]
     },
     "execution_count": 33,
     "metadata": {},
     "output_type": "execute_result"
    }
   ],
   "source": [
    "schema.CompTotal"
   ]
  },
  {
   "cell_type": "markdown",
   "id": "212bebc7",
   "metadata": {},
   "source": [
    "**The `CompTotal` column is about the total compensation (salary, bonuses, and perks, before taxes and deductions), nobody is expected to earn `0.00` as compensation. After an extensive online reseach, we use the US average of salary of developers of `$40` per hour and average of 40 hours of work per week.**\n",
    "\n",
    "**To solve the problem, we drop rows where the `CompTotal` is less than `1600`. We'll use the `.drop` method.**"
   ]
  },
  {
   "cell_type": "code",
   "execution_count": 34,
   "id": "c294d470",
   "metadata": {},
   "outputs": [],
   "source": [
    "survey_df.drop(survey_df[survey_df.CompTotal < 1600].index, inplace=True)"
   ]
  },
  {
   "cell_type": "code",
   "execution_count": 35,
   "id": "ba2774ae",
   "metadata": {},
   "outputs": [
    {
     "data": {
      "text/html": [
       "<div>\n",
       "<style scoped>\n",
       "    .dataframe tbody tr th:only-of-type {\n",
       "        vertical-align: middle;\n",
       "    }\n",
       "\n",
       "    .dataframe tbody tr th {\n",
       "        vertical-align: top;\n",
       "    }\n",
       "\n",
       "    .dataframe thead th {\n",
       "        text-align: right;\n",
       "    }\n",
       "</style>\n",
       "<table border=\"1\" class=\"dataframe\">\n",
       "  <thead>\n",
       "    <tr style=\"text-align: right;\">\n",
       "      <th></th>\n",
       "      <th>YearsCode</th>\n",
       "      <th>YearsCodePro</th>\n",
       "      <th>CompTotal</th>\n",
       "    </tr>\n",
       "  </thead>\n",
       "  <tbody>\n",
       "    <tr>\n",
       "      <th>count</th>\n",
       "      <td>68492.000000</td>\n",
       "      <td>48715.000000</td>\n",
       "      <td>3.714400e+04</td>\n",
       "    </tr>\n",
       "    <tr>\n",
       "      <th>mean</th>\n",
       "      <td>12.447322</td>\n",
       "      <td>10.348599</td>\n",
       "      <td>2.423029e+52</td>\n",
       "    </tr>\n",
       "    <tr>\n",
       "      <th>std</th>\n",
       "      <td>9.737418</td>\n",
       "      <td>8.576802</td>\n",
       "      <td>4.669799e+54</td>\n",
       "    </tr>\n",
       "    <tr>\n",
       "      <th>min</th>\n",
       "      <td>1.000000</td>\n",
       "      <td>1.000000</td>\n",
       "      <td>1.600000e+03</td>\n",
       "    </tr>\n",
       "    <tr>\n",
       "      <th>25%</th>\n",
       "      <td>5.000000</td>\n",
       "      <td>4.000000</td>\n",
       "      <td>3.500000e+04</td>\n",
       "    </tr>\n",
       "    <tr>\n",
       "      <th>50%</th>\n",
       "      <td>10.000000</td>\n",
       "      <td>8.000000</td>\n",
       "      <td>8.000000e+04</td>\n",
       "    </tr>\n",
       "    <tr>\n",
       "      <th>75%</th>\n",
       "      <td>17.000000</td>\n",
       "      <td>15.000000</td>\n",
       "      <td>1.600000e+05</td>\n",
       "    </tr>\n",
       "    <tr>\n",
       "      <th>max</th>\n",
       "      <td>50.000000</td>\n",
       "      <td>50.000000</td>\n",
       "      <td>9.000000e+56</td>\n",
       "    </tr>\n",
       "  </tbody>\n",
       "</table>\n",
       "</div>"
      ],
      "text/plain": [
       "          YearsCode  YearsCodePro     CompTotal\n",
       "count  68492.000000  48715.000000  3.714400e+04\n",
       "mean      12.447322     10.348599  2.423029e+52\n",
       "std        9.737418      8.576802  4.669799e+54\n",
       "min        1.000000      1.000000  1.600000e+03\n",
       "25%        5.000000      4.000000  3.500000e+04\n",
       "50%       10.000000      8.000000  8.000000e+04\n",
       "75%       17.000000     15.000000  1.600000e+05\n",
       "max       50.000000     50.000000  9.000000e+56"
      ]
     },
     "execution_count": 35,
     "metadata": {},
     "output_type": "execute_result"
    }
   ],
   "source": [
    "survey_df.describe()"
   ]
  },
  {
   "cell_type": "markdown",
   "id": "cad8978c",
   "metadata": {},
   "source": [
    "**Let's view some columns to understand our data and try to clean it.**"
   ]
  },
  {
   "cell_type": "code",
   "execution_count": 36,
   "id": "8bd9a716",
   "metadata": {},
   "outputs": [
    {
     "data": {
      "text/plain": [
       "'Which of the following describe you, if any? Please check all that apply.'"
      ]
     },
     "execution_count": 36,
     "metadata": {},
     "output_type": "execute_result"
    }
   ],
   "source": [
    "schema.Gender"
   ]
  },
  {
   "cell_type": "code",
   "execution_count": 37,
   "id": "f191b930",
   "metadata": {},
   "outputs": [
    {
     "data": {
      "text/plain": [
       "Gender\n",
       "Man                                                                                   63443\n",
       "Woman                                                                                  3334\n",
       "Prefer not to say                                                                      1160\n",
       "Non-binary, genderqueer, or gender non-conforming                                       691\n",
       "Or, in your own words:                                                                  269\n",
       "Man;Non-binary, genderqueer, or gender non-conforming                                   231\n",
       "Man;Or, in your own words:                                                              168\n",
       "Woman;Non-binary, genderqueer, or gender non-conforming                                 160\n",
       "Man;Woman;Non-binary, genderqueer, or gender non-conforming                              31\n",
       "Man;Woman                                                                                23\n",
       "Man;Or, in your own words:;Woman;Non-binary, genderqueer, or gender non-conforming       18\n",
       "Or, in your own words:;Woman;Non-binary, genderqueer, or gender non-conforming           15\n",
       "Or, in your own words:;Non-binary, genderqueer, or gender non-conforming                 14\n",
       "Or, in your own words:;Woman                                                             12\n",
       "Man;Or, in your own words:;Non-binary, genderqueer, or gender non-conforming              9\n",
       "Man;Or, in your own words:;Woman                                                          2\n",
       "Name: count, dtype: int64"
      ]
     },
     "execution_count": 37,
     "metadata": {},
     "output_type": "execute_result"
    }
   ],
   "source": [
    "survey_df.Gender.value_counts()"
   ]
  },
  {
   "cell_type": "markdown",
   "id": "071a95c4",
   "metadata": {},
   "source": [
    "**The `Gender` column also allows for picking multiple options. Let's remove values containing more than one option to simplify our analysis.**"
   ]
  },
  {
   "cell_type": "code",
   "execution_count": 38,
   "id": "4b536264",
   "metadata": {},
   "outputs": [],
   "source": [
    "import numpy as np"
   ]
  },
  {
   "cell_type": "code",
   "execution_count": 39,
   "id": "480b3144",
   "metadata": {},
   "outputs": [],
   "source": [
    "survey_df.where(~(survey_df.Gender.str.contains(';', na=False)), np.nan, inplace=True)"
   ]
  },
  {
   "cell_type": "code",
   "execution_count": 40,
   "id": "fa4c1ecd",
   "metadata": {},
   "outputs": [
    {
     "data": {
      "text/plain": [
       "Gender\n",
       "Man                                                  63443\n",
       "Woman                                                 3334\n",
       "Prefer not to say                                     1160\n",
       "Non-binary, genderqueer, or gender non-conforming      691\n",
       "Or, in your own words:                                 269\n",
       "Name: count, dtype: int64"
      ]
     },
     "execution_count": 40,
     "metadata": {},
     "output_type": "execute_result"
    }
   ],
   "source": [
    "survey_df.Gender.value_counts()"
   ]
  },
  {
   "cell_type": "markdown",
   "id": "fb8554ab",
   "metadata": {},
   "source": [
    "**We should drop rows where `Gender` are `Or, in your own words:` and `Prefer not to say`. This will make our data clean and easy perform analysis.**"
   ]
  },
  {
   "cell_type": "code",
   "execution_count": 41,
   "id": "2d5eda4b",
   "metadata": {},
   "outputs": [],
   "source": [
    "survey_df.drop(survey_df[survey_df.Gender == 'Prefer not to say'].index, inplace=True)\n",
    "survey_df.drop(survey_df[survey_df.Gender == 'Or, in your own words:'].index, inplace=True)"
   ]
  },
  {
   "cell_type": "code",
   "execution_count": 42,
   "id": "58cae186",
   "metadata": {},
   "outputs": [
    {
     "data": {
      "text/plain": [
       "Gender\n",
       "Man                                                  63443\n",
       "Woman                                                 3334\n",
       "Non-binary, genderqueer, or gender non-conforming      691\n",
       "Name: count, dtype: int64"
      ]
     },
     "execution_count": 42,
     "metadata": {},
     "output_type": "execute_result"
    }
   ],
   "source": [
    "survey_df.Gender.value_counts()"
   ]
  },
  {
   "cell_type": "markdown",
   "id": "c1aea03f",
   "metadata": {},
   "source": [
    "**We'll look at the `Trans` column.**"
   ]
  },
  {
   "cell_type": "code",
   "execution_count": 43,
   "id": "f2a91a70",
   "metadata": {},
   "outputs": [
    {
     "data": {
      "text/plain": [
       "'Do you identify as transgender?'"
      ]
     },
     "execution_count": 43,
     "metadata": {},
     "output_type": "execute_result"
    }
   ],
   "source": [
    "schema.Trans"
   ]
  },
  {
   "cell_type": "code",
   "execution_count": 44,
   "id": "602e523e",
   "metadata": {},
   "outputs": [
    {
     "data": {
      "text/plain": [
       "Trans\n",
       "No                        65291\n",
       "Yes                         837\n",
       "Prefer not to say           575\n",
       "Or, in your own words:      280\n",
       "Name: count, dtype: int64"
      ]
     },
     "execution_count": 44,
     "metadata": {},
     "output_type": "execute_result"
    }
   ],
   "source": [
    "survey_df.Trans.value_counts()"
   ]
  },
  {
   "cell_type": "markdown",
   "id": "53f943f2",
   "metadata": {},
   "source": [
    "**We'll also drop rows that contains `Or, in your own words:` and '`Prefer not to say` for the `Trans` column.**"
   ]
  },
  {
   "cell_type": "code",
   "execution_count": 45,
   "id": "4cb4b472",
   "metadata": {},
   "outputs": [],
   "source": [
    "survey_df.drop(survey_df[survey_df.Trans == 'Prefer not to say'].index, inplace=True)\n",
    "survey_df.drop(survey_df[survey_df.Trans == 'Or, in your own words:'].index, inplace=True)"
   ]
  },
  {
   "cell_type": "code",
   "execution_count": 46,
   "id": "355a9b52",
   "metadata": {},
   "outputs": [
    {
     "data": {
      "text/plain": [
       "Trans\n",
       "No     65291\n",
       "Yes      837\n",
       "Name: count, dtype: int64"
      ]
     },
     "execution_count": 46,
     "metadata": {},
     "output_type": "execute_result"
    }
   ],
   "source": [
    "survey_df.Trans.value_counts()"
   ]
  },
  {
   "cell_type": "markdown",
   "id": "2caefc30",
   "metadata": {},
   "source": [
    "**We'll also look the `Age` column.**"
   ]
  },
  {
   "cell_type": "code",
   "execution_count": 47,
   "id": "542e40b4",
   "metadata": {},
   "outputs": [
    {
     "data": {
      "text/plain": [
       "'What is your age?'"
      ]
     },
     "execution_count": 47,
     "metadata": {},
     "output_type": "execute_result"
    }
   ],
   "source": [
    "schema.Age"
   ]
  },
  {
   "cell_type": "code",
   "execution_count": 48,
   "id": "1062fe0f",
   "metadata": {},
   "outputs": [
    {
     "data": {
      "text/plain": [
       "Age\n",
       "25-34 years old       26683\n",
       "18-24 years old       15555\n",
       "35-44 years old       13267\n",
       "45-54 years old        5040\n",
       "Under 18 years old     3568\n",
       "55-64 years old        1877\n",
       "65 years or older       504\n",
       "Prefer not to say       244\n",
       "Name: count, dtype: int64"
      ]
     },
     "execution_count": 48,
     "metadata": {},
     "output_type": "execute_result"
    }
   ],
   "source": [
    "survey_df.Age.value_counts()"
   ]
  },
  {
   "cell_type": "markdown",
   "id": "63d99d99",
   "metadata": {},
   "source": [
    "**Let's drop the rows that contains `Prefer not to say` to have our data cleaned.**"
   ]
  },
  {
   "cell_type": "code",
   "execution_count": 49,
   "id": "f3a75f26",
   "metadata": {},
   "outputs": [],
   "source": [
    "survey_df.drop(survey_df[survey_df.Age == 'Prefer not to say'].index, inplace=True)"
   ]
  },
  {
   "cell_type": "code",
   "execution_count": 50,
   "id": "d8f41e48",
   "metadata": {},
   "outputs": [
    {
     "data": {
      "text/plain": [
       "Age\n",
       "25-34 years old       26683\n",
       "18-24 years old       15555\n",
       "35-44 years old       13267\n",
       "45-54 years old        5040\n",
       "Under 18 years old     3568\n",
       "55-64 years old        1877\n",
       "65 years or older       504\n",
       "Name: count, dtype: int64"
      ]
     },
     "execution_count": 50,
     "metadata": {},
     "output_type": "execute_result"
    }
   ],
   "source": [
    "survey_df.Age.value_counts()"
   ]
  },
  {
   "cell_type": "markdown",
   "id": "83558a91",
   "metadata": {},
   "source": [
    "**Our dataset is cleaned and prepared for analysis. We take a look at a sample of rows from the data frame.**"
   ]
  },
  {
   "cell_type": "code",
   "execution_count": 51,
   "id": "6b79a566",
   "metadata": {},
   "outputs": [
    {
     "data": {
      "text/html": [
       "<div>\n",
       "<style scoped>\n",
       "    .dataframe tbody tr th:only-of-type {\n",
       "        vertical-align: middle;\n",
       "    }\n",
       "\n",
       "    .dataframe tbody tr th {\n",
       "        vertical-align: top;\n",
       "    }\n",
       "\n",
       "    .dataframe thead th {\n",
       "        text-align: right;\n",
       "    }\n",
       "</style>\n",
       "<table border=\"1\" class=\"dataframe\">\n",
       "  <thead>\n",
       "    <tr style=\"text-align: right;\">\n",
       "      <th></th>\n",
       "      <th>Country</th>\n",
       "      <th>Age</th>\n",
       "      <th>Gender</th>\n",
       "      <th>EdLevel</th>\n",
       "      <th>Ethnicity</th>\n",
       "      <th>Trans</th>\n",
       "      <th>CodingActivities</th>\n",
       "      <th>LearnCode</th>\n",
       "      <th>LearnCodeOnline</th>\n",
       "      <th>LearnCodeCoursesCert</th>\n",
       "      <th>...</th>\n",
       "      <th>LanguageHaveWorkedWith</th>\n",
       "      <th>LanguageWantToWorkWith</th>\n",
       "      <th>DatabaseHaveWorkedWith</th>\n",
       "      <th>DatabaseWantToWorkWith</th>\n",
       "      <th>Employment</th>\n",
       "      <th>RemoteWork</th>\n",
       "      <th>OrgSize</th>\n",
       "      <th>DevType</th>\n",
       "      <th>CompTotal</th>\n",
       "      <th>CompFreq</th>\n",
       "    </tr>\n",
       "  </thead>\n",
       "  <tbody>\n",
       "    <tr>\n",
       "      <th>22463</th>\n",
       "      <td>Australia</td>\n",
       "      <td>25-34 years old</td>\n",
       "      <td>Man</td>\n",
       "      <td>Primary/elementary school</td>\n",
       "      <td>White</td>\n",
       "      <td>No</td>\n",
       "      <td>Hobby;Contribute to open-source projects</td>\n",
       "      <td>Books / Physical media;Other online resources ...</td>\n",
       "      <td>Technical documentation;Blogs;Programming Game...</td>\n",
       "      <td>Udacity;Skillsoft</td>\n",
       "      <td>...</td>\n",
       "      <td>Bash/Shell;Go;HTML/CSS;JavaScript;PHP;Python;S...</td>\n",
       "      <td>Bash/Shell;C;C++;F#;Go;HTML/CSS;JavaScript;Kot...</td>\n",
       "      <td>Cloud Firestore;DynamoDB;Elasticsearch;MariaDB...</td>\n",
       "      <td>DynamoDB;PostgreSQL;Redis;SQLite</td>\n",
       "      <td>Employed, full-time</td>\n",
       "      <td>Fully remote</td>\n",
       "      <td>2 to 9 employees</td>\n",
       "      <td>Developer, front-end;Engineer, data;Engineer, ...</td>\n",
       "      <td>132000.0</td>\n",
       "      <td>Yearly</td>\n",
       "    </tr>\n",
       "    <tr>\n",
       "      <th>10244</th>\n",
       "      <td>United States of America</td>\n",
       "      <td>45-54 years old</td>\n",
       "      <td>Man</td>\n",
       "      <td>Bachelor’s degree (B.A., B.S., B.Eng., etc.)</td>\n",
       "      <td>NaN</td>\n",
       "      <td>No</td>\n",
       "      <td>Hobby</td>\n",
       "      <td>Books / Physical media;Other online resources ...</td>\n",
       "      <td>Technical documentation;Blogs;Written Tutorial...</td>\n",
       "      <td>NaN</td>\n",
       "      <td>...</td>\n",
       "      <td>Elixir;Erlang;Go;HTML/CSS</td>\n",
       "      <td>Rust</td>\n",
       "      <td>PostgreSQL</td>\n",
       "      <td>PostgreSQL</td>\n",
       "      <td>Employed, full-time</td>\n",
       "      <td>Hybrid (some remote, some in-person)</td>\n",
       "      <td>20 to 99 employees</td>\n",
       "      <td>Developer, full-stack;Developer, back-end;Deve...</td>\n",
       "      <td>NaN</td>\n",
       "      <td>NaN</td>\n",
       "    </tr>\n",
       "    <tr>\n",
       "      <th>61644</th>\n",
       "      <td>United States of America</td>\n",
       "      <td>35-44 years old</td>\n",
       "      <td>Woman</td>\n",
       "      <td>Bachelor’s degree (B.A., B.S., B.Eng., etc.)</td>\n",
       "      <td>White</td>\n",
       "      <td>No</td>\n",
       "      <td>I don’t code outside of work</td>\n",
       "      <td>School (i.e., University, College, etc);On the...</td>\n",
       "      <td>NaN</td>\n",
       "      <td>Coursera;Udemy;Codecademy</td>\n",
       "      <td>...</td>\n",
       "      <td>JavaScript;Ruby;TypeScript</td>\n",
       "      <td>JavaScript;Kotlin;TypeScript</td>\n",
       "      <td>NaN</td>\n",
       "      <td>NaN</td>\n",
       "      <td>Employed, full-time</td>\n",
       "      <td>Fully remote</td>\n",
       "      <td>500 to 999 employees</td>\n",
       "      <td>Developer, front-end;Developer, full-stack</td>\n",
       "      <td>160000.0</td>\n",
       "      <td>Yearly</td>\n",
       "    </tr>\n",
       "    <tr>\n",
       "      <th>51643</th>\n",
       "      <td>United States of America</td>\n",
       "      <td>45-54 years old</td>\n",
       "      <td>Man</td>\n",
       "      <td>Bachelor’s degree (B.A., B.S., B.Eng., etc.)</td>\n",
       "      <td>White</td>\n",
       "      <td>No</td>\n",
       "      <td>Hobby;Contribute to open-source projects</td>\n",
       "      <td>Books / Physical media;Other online resources ...</td>\n",
       "      <td>Technical documentation;Blogs;Written Tutorial...</td>\n",
       "      <td>NaN</td>\n",
       "      <td>...</td>\n",
       "      <td>Bash/Shell;Perl</td>\n",
       "      <td>Bash/Shell;Perl</td>\n",
       "      <td>NaN</td>\n",
       "      <td>NaN</td>\n",
       "      <td>Employed, full-time</td>\n",
       "      <td>Fully remote</td>\n",
       "      <td>5,000 to 9,999 employees</td>\n",
       "      <td>Other (please specify):</td>\n",
       "      <td>190000.0</td>\n",
       "      <td>Yearly</td>\n",
       "    </tr>\n",
       "    <tr>\n",
       "      <th>37219</th>\n",
       "      <td>United States of America</td>\n",
       "      <td>45-54 years old</td>\n",
       "      <td>Man</td>\n",
       "      <td>Bachelor’s degree (B.A., B.S., B.Eng., etc.)</td>\n",
       "      <td>White;North American</td>\n",
       "      <td>No</td>\n",
       "      <td>Hobby;Contribute to open-source projects;Freel...</td>\n",
       "      <td>Books / Physical media;Other online resources ...</td>\n",
       "      <td>Technical documentation;Blogs;Written Tutorial...</td>\n",
       "      <td>NaN</td>\n",
       "      <td>...</td>\n",
       "      <td>Bash/Shell;C;C#;HTML/CSS;Java;JavaScript;Kotli...</td>\n",
       "      <td>Bash/Shell;C;C#;HTML/CSS;Java;JavaScript;Kotli...</td>\n",
       "      <td>MySQL;PostgreSQL;SQLite</td>\n",
       "      <td>SQLite</td>\n",
       "      <td>Employed, full-time;Independent contractor, fr...</td>\n",
       "      <td>Fully remote</td>\n",
       "      <td>20 to 99 employees</td>\n",
       "      <td>Developer, front-end;Engineer, data;Developer,...</td>\n",
       "      <td>130000.0</td>\n",
       "      <td>Yearly</td>\n",
       "    </tr>\n",
       "    <tr>\n",
       "      <th>55333</th>\n",
       "      <td>Sweden</td>\n",
       "      <td>35-44 years old</td>\n",
       "      <td>Man</td>\n",
       "      <td>Master’s degree (M.A., M.S., M.Eng., MBA, etc.)</td>\n",
       "      <td>European</td>\n",
       "      <td>No</td>\n",
       "      <td>I don’t code outside of work</td>\n",
       "      <td>Friend or family member;School (i.e., Universi...</td>\n",
       "      <td>NaN</td>\n",
       "      <td>NaN</td>\n",
       "      <td>...</td>\n",
       "      <td>Bash/Shell;Erlang;Java;JavaScript;Perl;SQL;Typ...</td>\n",
       "      <td>C#;Java;SQL</td>\n",
       "      <td>MySQL;Oracle;PostgreSQL</td>\n",
       "      <td>Microsoft SQL Server;PostgreSQL</td>\n",
       "      <td>Employed, full-time</td>\n",
       "      <td>Hybrid (some remote, some in-person)</td>\n",
       "      <td>500 to 999 employees</td>\n",
       "      <td>Developer, back-end;Developer, desktop or ente...</td>\n",
       "      <td>870000.0</td>\n",
       "      <td>Yearly</td>\n",
       "    </tr>\n",
       "    <tr>\n",
       "      <th>40357</th>\n",
       "      <td>Peru</td>\n",
       "      <td>25-34 years old</td>\n",
       "      <td>Man</td>\n",
       "      <td>Master’s degree (M.A., M.S., M.Eng., MBA, etc.)</td>\n",
       "      <td>Hispanic or Latino/a</td>\n",
       "      <td>No</td>\n",
       "      <td>Hobby;Freelance/contract work</td>\n",
       "      <td>Books / Physical media;Other online resources ...</td>\n",
       "      <td>Technical documentation;Blogs;Online books;Vid...</td>\n",
       "      <td>NaN</td>\n",
       "      <td>...</td>\n",
       "      <td>HTML/CSS;JavaScript;PHP;Python;SQL;TypeScript</td>\n",
       "      <td>Dart;Go;JavaScript;Python;TypeScript</td>\n",
       "      <td>DynamoDB;Elasticsearch;MariaDB;MongoDB;MySQL;P...</td>\n",
       "      <td>Cassandra;Elasticsearch;Neo4j;PostgreSQL;Fireb...</td>\n",
       "      <td>Employed, full-time;Student, part-time</td>\n",
       "      <td>Fully remote</td>\n",
       "      <td>NaN</td>\n",
       "      <td>Developer, front-end;Developer, full-stack;Dev...</td>\n",
       "      <td>NaN</td>\n",
       "      <td>NaN</td>\n",
       "    </tr>\n",
       "    <tr>\n",
       "      <th>18440</th>\n",
       "      <td>Italy</td>\n",
       "      <td>18-24 years old</td>\n",
       "      <td>Man</td>\n",
       "      <td>Some college/university study without earning ...</td>\n",
       "      <td>European</td>\n",
       "      <td>No</td>\n",
       "      <td>Hobby;School or academic work</td>\n",
       "      <td>Friend or family member;Other online resources...</td>\n",
       "      <td>Technical documentation;Blogs;Written Tutorial...</td>\n",
       "      <td>Udemy</td>\n",
       "      <td>...</td>\n",
       "      <td>HTML/CSS;JavaScript;PHP;SQL;TypeScript</td>\n",
       "      <td>HTML/CSS;JavaScript;PHP;SQL;TypeScript</td>\n",
       "      <td>MariaDB;MySQL;Oracle;Redis;SQLite</td>\n",
       "      <td>Cloud Firestore;MariaDB;MongoDB;MySQL;Firebase...</td>\n",
       "      <td>Employed, full-time</td>\n",
       "      <td>Full in-person</td>\n",
       "      <td>2 to 9 employees</td>\n",
       "      <td>Developer, front-end;Developer, full-stack;Dev...</td>\n",
       "      <td>NaN</td>\n",
       "      <td>Monthly</td>\n",
       "    </tr>\n",
       "    <tr>\n",
       "      <th>49313</th>\n",
       "      <td>Brazil</td>\n",
       "      <td>45-54 years old</td>\n",
       "      <td>Man</td>\n",
       "      <td>Bachelor’s degree (B.A., B.S., B.Eng., etc.)</td>\n",
       "      <td>White;South American</td>\n",
       "      <td>No</td>\n",
       "      <td>Bootstrapping a business;Freelance/contract work</td>\n",
       "      <td>Books / Physical media;Other online resources ...</td>\n",
       "      <td>Technical documentation;Blogs;Written Tutorial...</td>\n",
       "      <td>NaN</td>\n",
       "      <td>...</td>\n",
       "      <td>Elixir;Go;JavaScript;PHP;Ruby;SQL</td>\n",
       "      <td>Elixir;Go;JavaScript;R</td>\n",
       "      <td>PostgreSQL</td>\n",
       "      <td>PostgreSQL;Redis</td>\n",
       "      <td>Employed, full-time</td>\n",
       "      <td>Fully remote</td>\n",
       "      <td>1,000 to 4,999 employees</td>\n",
       "      <td>Developer, back-end;Database administrator;Sys...</td>\n",
       "      <td>6100.0</td>\n",
       "      <td>Monthly</td>\n",
       "    </tr>\n",
       "    <tr>\n",
       "      <th>71073</th>\n",
       "      <td>India</td>\n",
       "      <td>35-44 years old</td>\n",
       "      <td>Man</td>\n",
       "      <td>Bachelor’s degree (B.A., B.S., B.Eng., etc.)</td>\n",
       "      <td>Indian;Asian</td>\n",
       "      <td>No</td>\n",
       "      <td>Hobby</td>\n",
       "      <td>Books / Physical media</td>\n",
       "      <td>NaN</td>\n",
       "      <td>NaN</td>\n",
       "      <td>...</td>\n",
       "      <td>C;C++;HTML/CSS;Rust</td>\n",
       "      <td>C;C++;HTML/CSS;Rust;Scala</td>\n",
       "      <td>MySQL;Oracle;Redis;SQLite</td>\n",
       "      <td>NaN</td>\n",
       "      <td>Employed, full-time</td>\n",
       "      <td>Hybrid (some remote, some in-person)</td>\n",
       "      <td>1,000 to 4,999 employees</td>\n",
       "      <td>Developer, desktop or enterprise applications</td>\n",
       "      <td>5313000.0</td>\n",
       "      <td>Yearly</td>\n",
       "    </tr>\n",
       "  </tbody>\n",
       "</table>\n",
       "<p>10 rows × 22 columns</p>\n",
       "</div>"
      ],
      "text/plain": [
       "                        Country              Age Gender  \\\n",
       "22463                 Australia  25-34 years old    Man   \n",
       "10244  United States of America  45-54 years old    Man   \n",
       "61644  United States of America  35-44 years old  Woman   \n",
       "51643  United States of America  45-54 years old    Man   \n",
       "37219  United States of America  45-54 years old    Man   \n",
       "55333                    Sweden  35-44 years old    Man   \n",
       "40357                      Peru  25-34 years old    Man   \n",
       "18440                     Italy  18-24 years old    Man   \n",
       "49313                    Brazil  45-54 years old    Man   \n",
       "71073                     India  35-44 years old    Man   \n",
       "\n",
       "                                                 EdLevel  \\\n",
       "22463                          Primary/elementary school   \n",
       "10244       Bachelor’s degree (B.A., B.S., B.Eng., etc.)   \n",
       "61644       Bachelor’s degree (B.A., B.S., B.Eng., etc.)   \n",
       "51643       Bachelor’s degree (B.A., B.S., B.Eng., etc.)   \n",
       "37219       Bachelor’s degree (B.A., B.S., B.Eng., etc.)   \n",
       "55333    Master’s degree (M.A., M.S., M.Eng., MBA, etc.)   \n",
       "40357    Master’s degree (M.A., M.S., M.Eng., MBA, etc.)   \n",
       "18440  Some college/university study without earning ...   \n",
       "49313       Bachelor’s degree (B.A., B.S., B.Eng., etc.)   \n",
       "71073       Bachelor’s degree (B.A., B.S., B.Eng., etc.)   \n",
       "\n",
       "                  Ethnicity Trans  \\\n",
       "22463                 White    No   \n",
       "10244                   NaN    No   \n",
       "61644                 White    No   \n",
       "51643                 White    No   \n",
       "37219  White;North American    No   \n",
       "55333              European    No   \n",
       "40357  Hispanic or Latino/a    No   \n",
       "18440              European    No   \n",
       "49313  White;South American    No   \n",
       "71073          Indian;Asian    No   \n",
       "\n",
       "                                        CodingActivities  \\\n",
       "22463           Hobby;Contribute to open-source projects   \n",
       "10244                                              Hobby   \n",
       "61644                       I don’t code outside of work   \n",
       "51643           Hobby;Contribute to open-source projects   \n",
       "37219  Hobby;Contribute to open-source projects;Freel...   \n",
       "55333                       I don’t code outside of work   \n",
       "40357                      Hobby;Freelance/contract work   \n",
       "18440                      Hobby;School or academic work   \n",
       "49313   Bootstrapping a business;Freelance/contract work   \n",
       "71073                                              Hobby   \n",
       "\n",
       "                                               LearnCode  \\\n",
       "22463  Books / Physical media;Other online resources ...   \n",
       "10244  Books / Physical media;Other online resources ...   \n",
       "61644  School (i.e., University, College, etc);On the...   \n",
       "51643  Books / Physical media;Other online resources ...   \n",
       "37219  Books / Physical media;Other online resources ...   \n",
       "55333  Friend or family member;School (i.e., Universi...   \n",
       "40357  Books / Physical media;Other online resources ...   \n",
       "18440  Friend or family member;Other online resources...   \n",
       "49313  Books / Physical media;Other online resources ...   \n",
       "71073                             Books / Physical media   \n",
       "\n",
       "                                         LearnCodeOnline  \\\n",
       "22463  Technical documentation;Blogs;Programming Game...   \n",
       "10244  Technical documentation;Blogs;Written Tutorial...   \n",
       "61644                                                NaN   \n",
       "51643  Technical documentation;Blogs;Written Tutorial...   \n",
       "37219  Technical documentation;Blogs;Written Tutorial...   \n",
       "55333                                                NaN   \n",
       "40357  Technical documentation;Blogs;Online books;Vid...   \n",
       "18440  Technical documentation;Blogs;Written Tutorial...   \n",
       "49313  Technical documentation;Blogs;Written Tutorial...   \n",
       "71073                                                NaN   \n",
       "\n",
       "            LearnCodeCoursesCert  ...  \\\n",
       "22463          Udacity;Skillsoft  ...   \n",
       "10244                        NaN  ...   \n",
       "61644  Coursera;Udemy;Codecademy  ...   \n",
       "51643                        NaN  ...   \n",
       "37219                        NaN  ...   \n",
       "55333                        NaN  ...   \n",
       "40357                        NaN  ...   \n",
       "18440                      Udemy  ...   \n",
       "49313                        NaN  ...   \n",
       "71073                        NaN  ...   \n",
       "\n",
       "                                  LanguageHaveWorkedWith  \\\n",
       "22463  Bash/Shell;Go;HTML/CSS;JavaScript;PHP;Python;S...   \n",
       "10244                          Elixir;Erlang;Go;HTML/CSS   \n",
       "61644                         JavaScript;Ruby;TypeScript   \n",
       "51643                                    Bash/Shell;Perl   \n",
       "37219  Bash/Shell;C;C#;HTML/CSS;Java;JavaScript;Kotli...   \n",
       "55333  Bash/Shell;Erlang;Java;JavaScript;Perl;SQL;Typ...   \n",
       "40357      HTML/CSS;JavaScript;PHP;Python;SQL;TypeScript   \n",
       "18440             HTML/CSS;JavaScript;PHP;SQL;TypeScript   \n",
       "49313                  Elixir;Go;JavaScript;PHP;Ruby;SQL   \n",
       "71073                                C;C++;HTML/CSS;Rust   \n",
       "\n",
       "                                  LanguageWantToWorkWith  \\\n",
       "22463  Bash/Shell;C;C++;F#;Go;HTML/CSS;JavaScript;Kot...   \n",
       "10244                                               Rust   \n",
       "61644                       JavaScript;Kotlin;TypeScript   \n",
       "51643                                    Bash/Shell;Perl   \n",
       "37219  Bash/Shell;C;C#;HTML/CSS;Java;JavaScript;Kotli...   \n",
       "55333                                        C#;Java;SQL   \n",
       "40357               Dart;Go;JavaScript;Python;TypeScript   \n",
       "18440             HTML/CSS;JavaScript;PHP;SQL;TypeScript   \n",
       "49313                             Elixir;Go;JavaScript;R   \n",
       "71073                          C;C++;HTML/CSS;Rust;Scala   \n",
       "\n",
       "                                  DatabaseHaveWorkedWith  \\\n",
       "22463  Cloud Firestore;DynamoDB;Elasticsearch;MariaDB...   \n",
       "10244                                         PostgreSQL   \n",
       "61644                                                NaN   \n",
       "51643                                                NaN   \n",
       "37219                            MySQL;PostgreSQL;SQLite   \n",
       "55333                            MySQL;Oracle;PostgreSQL   \n",
       "40357  DynamoDB;Elasticsearch;MariaDB;MongoDB;MySQL;P...   \n",
       "18440                  MariaDB;MySQL;Oracle;Redis;SQLite   \n",
       "49313                                         PostgreSQL   \n",
       "71073                          MySQL;Oracle;Redis;SQLite   \n",
       "\n",
       "                                  DatabaseWantToWorkWith  \\\n",
       "22463                   DynamoDB;PostgreSQL;Redis;SQLite   \n",
       "10244                                         PostgreSQL   \n",
       "61644                                                NaN   \n",
       "51643                                                NaN   \n",
       "37219                                             SQLite   \n",
       "55333                    Microsoft SQL Server;PostgreSQL   \n",
       "40357  Cassandra;Elasticsearch;Neo4j;PostgreSQL;Fireb...   \n",
       "18440  Cloud Firestore;MariaDB;MongoDB;MySQL;Firebase...   \n",
       "49313                                   PostgreSQL;Redis   \n",
       "71073                                                NaN   \n",
       "\n",
       "                                              Employment  \\\n",
       "22463                                Employed, full-time   \n",
       "10244                                Employed, full-time   \n",
       "61644                                Employed, full-time   \n",
       "51643                                Employed, full-time   \n",
       "37219  Employed, full-time;Independent contractor, fr...   \n",
       "55333                                Employed, full-time   \n",
       "40357             Employed, full-time;Student, part-time   \n",
       "18440                                Employed, full-time   \n",
       "49313                                Employed, full-time   \n",
       "71073                                Employed, full-time   \n",
       "\n",
       "                                 RemoteWork                   OrgSize  \\\n",
       "22463                          Fully remote          2 to 9 employees   \n",
       "10244  Hybrid (some remote, some in-person)        20 to 99 employees   \n",
       "61644                          Fully remote      500 to 999 employees   \n",
       "51643                          Fully remote  5,000 to 9,999 employees   \n",
       "37219                          Fully remote        20 to 99 employees   \n",
       "55333  Hybrid (some remote, some in-person)      500 to 999 employees   \n",
       "40357                          Fully remote                       NaN   \n",
       "18440                        Full in-person          2 to 9 employees   \n",
       "49313                          Fully remote  1,000 to 4,999 employees   \n",
       "71073  Hybrid (some remote, some in-person)  1,000 to 4,999 employees   \n",
       "\n",
       "                                                 DevType  CompTotal CompFreq  \n",
       "22463  Developer, front-end;Engineer, data;Engineer, ...   132000.0   Yearly  \n",
       "10244  Developer, full-stack;Developer, back-end;Deve...        NaN      NaN  \n",
       "61644         Developer, front-end;Developer, full-stack   160000.0   Yearly  \n",
       "51643                            Other (please specify):   190000.0   Yearly  \n",
       "37219  Developer, front-end;Engineer, data;Developer,...   130000.0   Yearly  \n",
       "55333  Developer, back-end;Developer, desktop or ente...   870000.0   Yearly  \n",
       "40357  Developer, front-end;Developer, full-stack;Dev...        NaN      NaN  \n",
       "18440  Developer, front-end;Developer, full-stack;Dev...        NaN  Monthly  \n",
       "49313  Developer, back-end;Database administrator;Sys...     6100.0  Monthly  \n",
       "71073      Developer, desktop or enterprise applications  5313000.0   Yearly  \n",
       "\n",
       "[10 rows x 22 columns]"
      ]
     },
     "execution_count": 51,
     "metadata": {},
     "output_type": "execute_result"
    }
   ],
   "source": [
    "survey_df.sample(10)"
   ]
  },
  {
   "cell_type": "markdown",
   "id": "79692608",
   "metadata": {},
   "source": [
    "## Exploratory Analysis and Visualization\n",
    "\n",
    "**It's essential to explore these variables to understand how representative the survey is of the worldwide programming community. This help's to understand the respondents' demographics, i.e., country, age, gender, education level, employment level, etc. A survey of this scale generally tends to have some [selection bias](https://en.wikipedia.org/wiki/Selection_bias).**\n",
    "\n",
    "**Let's import `matplotlib.pyplot` and `seaborn` for our visualizations.**"
   ]
  },
  {
   "cell_type": "code",
   "execution_count": 52,
   "id": "849be585",
   "metadata": {},
   "outputs": [],
   "source": [
    "import seaborn as sns\n",
    "import matplotlib\n",
    "import matplotlib.pyplot as plt\n",
    "%matplotlib inline\n",
    "\n",
    "sns.set_style('darkgrid')\n",
    "matplotlib.rcParams['font.size'] = 14\n",
    "matplotlib.rcParams['figure.figsize'] = (9, 5)\n",
    "matplotlib.rcParams['figure.facecolor'] = '#00000000'"
   ]
  },
  {
   "cell_type": "markdown",
   "id": "4b462426",
   "metadata": {},
   "source": [
    "### Country\n",
    "\n",
    "**Each respondent is lives in a particular country, let's get the number of countries in the survey and plot the top twenty countries with the highest number of responses.**"
   ]
  },
  {
   "cell_type": "code",
   "execution_count": 53,
   "id": "a5e4a696",
   "metadata": {},
   "outputs": [
    {
     "data": {
      "text/plain": [
       "'Where do you live? *'"
      ]
     },
     "execution_count": 53,
     "metadata": {},
     "output_type": "execute_result"
    }
   ],
   "source": [
    "schema.Country"
   ]
  },
  {
   "cell_type": "code",
   "execution_count": 54,
   "id": "92ee1ab1",
   "metadata": {},
   "outputs": [
    {
     "name": "stdout",
     "output_type": "stream",
     "text": [
      "The number of countries from our survey is 177.\n"
     ]
    }
   ],
   "source": [
    "num_of_countries = survey_df.Country.nunique()\n",
    "\n",
    "print(f'The number of countries from our survey is {num_of_countries}.')"
   ]
  },
  {
   "cell_type": "code",
   "execution_count": 55,
   "id": "8bed40a3",
   "metadata": {},
   "outputs": [
    {
     "data": {
      "image/png": "[encoded data removed]",
      "text/plain": [
       "<Figure size 1000x1000 with 1 Axes>"
      ]
     },
     "metadata": {
      "needs_background": "light"
     },
     "output_type": "display_data"
    }
   ],
   "source": [
    "top_countries = survey_df.Country.value_counts().head(20)\n",
    "plt.figure(figsize=(10,10))\n",
    "plt.title(schema.Country)\n",
    "sns.barplot(x=top_countries, y=top_countries.index)\n",
    "plt.ylabel('');"
   ]
  },
  {
   "cell_type": "markdown",
   "id": "abf52e34",
   "metadata": {},
   "source": [
    "**We can see that high number of respondents are from the US with over `12000` respondents. India, Germany, Uk and Canada completes the top five countries with the highest number of respondents. Language might have been a factor because the survey was conducted in English and these countries have very high English-speaking population.**"
   ]
  },
  {
   "cell_type": "markdown",
   "id": "0881ab13",
   "metadata": {},
   "source": [
    "### Age\n",
    "\n",
    "**The distribution of age of the respondents is an important factor to look at.**\n",
    "\n",
    "**Age in this survey was presented as age groups or brackets.**"
   ]
  },
  {
   "cell_type": "code",
   "execution_count": 56,
   "id": "03ed6e52",
   "metadata": {},
   "outputs": [
    {
     "data": {
      "text/plain": [
       "'What is your age?'"
      ]
     },
     "execution_count": 56,
     "metadata": {},
     "output_type": "execute_result"
    }
   ],
   "source": [
    "schema.Age"
   ]
  },
  {
   "cell_type": "code",
   "execution_count": 57,
   "id": "94d544fc",
   "metadata": {},
   "outputs": [
    {
     "data": {
      "text/plain": [
       "Age\n",
       "25-34 years old       26683\n",
       "18-24 years old       15555\n",
       "35-44 years old       13267\n",
       "45-54 years old        5040\n",
       "Under 18 years old     3568\n",
       "55-64 years old        1877\n",
       "65 years or older       504\n",
       "Name: count, dtype: int64"
      ]
     },
     "execution_count": 57,
     "metadata": {},
     "output_type": "execute_result"
    }
   ],
   "source": [
    "age_groups = survey_df.Age.value_counts()\n",
    "\n",
    "age_groups"
   ]
  },
  {
   "cell_type": "code",
   "execution_count": 58,
   "id": "d8ae5c81",
   "metadata": {},
   "outputs": [
    {
     "data": {
      "image/png": "[encoded data removed]",
      "text/plain": [
       "<Figure size 1200x600 with 1 Axes>"
      ]
     },
     "metadata": {
      "needs_background": "light"
     },
     "output_type": "display_data"
    }
   ],
   "source": [
    "plt.figure(figsize=(12,6))\n",
    "plt.title(schema.Age)\n",
    "sns.barplot(x=age_groups, y=age_groups.index)\n",
    "plt.ylabel('');"
   ]
  },
  {
   "cell_type": "markdown",
   "id": "1c356e10",
   "metadata": {},
   "source": [
    "**In the barchart above, over `26000` respondents are between 25-34 years old. It is followed by 18-24 years old respondents with over `15000` respondents. Programming is more appealing to young people and this is somehow the representation of the programming community in general. This might be because many young people are interested in programming/coding and have taken up computer science as a field of study.**\n",
    "\n",
    "\n",
    "### Gender\n",
    "\n",
    "**There is a public notion that women and non-binary genders are underrepresented in the programming community. Let's dig deep in our dataset and investigate.**\n",
    "\n",
    "**Pie chart will be used for visualization.**"
   ]
  },
  {
   "cell_type": "code",
   "execution_count": 59,
   "id": "e9971296",
   "metadata": {},
   "outputs": [
    {
     "data": {
      "text/plain": [
       "'Which of the following describe you, if any? Please check all that apply.'"
      ]
     },
     "execution_count": 59,
     "metadata": {},
     "output_type": "execute_result"
    }
   ],
   "source": [
    "schema.Gender"
   ]
  },
  {
   "cell_type": "code",
   "execution_count": 60,
   "id": "147ed22d",
   "metadata": {},
   "outputs": [
    {
     "data": {
      "text/plain": [
       "Gender\n",
       "Man                                                  62538\n",
       "Woman                                                 3282\n",
       "Non-binary, genderqueer, or gender non-conforming      576\n",
       "Name: count, dtype: int64"
      ]
     },
     "execution_count": 60,
     "metadata": {},
     "output_type": "execute_result"
    }
   ],
   "source": [
    "gender_counts = survey_df.Gender.value_counts()\n",
    "\n",
    "gender_counts"
   ]
  },
  {
   "cell_type": "code",
   "execution_count": 61,
   "id": "120978bd",
   "metadata": {},
   "outputs": [
    {
     "data": {
      "image/png": "[encoded data removed]",
      "text/plain": [
       "<Figure size 1200x600 with 1 Axes>"
      ]
     },
     "metadata": {},
     "output_type": "display_data"
    }
   ],
   "source": [
    "plt.figure(figsize=(12,6))\n",
    "plt.title('Gender Representation')\n",
    "plt.pie(gender_counts, labels=gender_counts.index, autopct='%1.1f%%', startangle=360);"
   ]
  },
  {
   "cell_type": "markdown",
   "id": "1291e870",
   "metadata": {},
   "source": [
    "**Only about 5% of respondents indentify as women or non-binary. Women and non-binary should be encouraged to take up computer science as field of study or learn programming from other sources.**"
   ]
  },
  {
   "cell_type": "markdown",
   "id": "c29f9963",
   "metadata": {},
   "source": [
    "### Education Level\n",
    "\n",
    "**It is widely perceived that formal education in computer science is an important requirement for becoming a programmer. However in recent times, there are many free online resources and tutorial available to learn programmng. We can compare education levels of respondents to gain more insight.**"
   ]
  },
  {
   "cell_type": "code",
   "execution_count": 62,
   "id": "676cce12",
   "metadata": {},
   "outputs": [
    {
     "data": {
      "text/plain": [
       "'Which of the following best describes the highest level of formal education that you’ve completed? *'"
      ]
     },
     "execution_count": 62,
     "metadata": {},
     "output_type": "execute_result"
    }
   ],
   "source": [
    "schema.EdLevel"
   ]
  },
  {
   "cell_type": "code",
   "execution_count": 63,
   "id": "5b5c5c86",
   "metadata": {},
   "outputs": [
    {
     "data": {
      "text/plain": [
       "EdLevel\n",
       "Bachelor’s degree (B.A., B.S., B.Eng., etc.)                                          28723\n",
       "Master’s degree (M.A., M.S., M.Eng., MBA, etc.)                                       14679\n",
       "Some college/university study without earning a degree                                 8624\n",
       "Secondary school (e.g. American high school, German Realschule or Gymnasium, etc.)     7292\n",
       "Associate degree (A.A., A.S., etc.)                                                    2100\n",
       "Other doctoral degree (Ph.D., Ed.D., etc.)                                             2051\n",
       "Primary/elementary school                                                              1610\n",
       "Something else                                                                         1022\n",
       "Professional degree (JD, MD, etc.)                                                     1017\n",
       "Name: count, dtype: int64"
      ]
     },
     "execution_count": 63,
     "metadata": {},
     "output_type": "execute_result"
    }
   ],
   "source": [
    "survey_df.EdLevel.value_counts()"
   ]
  },
  {
   "cell_type": "code",
   "execution_count": 64,
   "id": "1c863f20",
   "metadata": {},
   "outputs": [
    {
     "data": {
      "image/png": "[encoded data removed]",
      "text/plain": [
       "<Figure size 1200x1200 with 1 Axes>"
      ]
     },
     "metadata": {
      "needs_background": "light"
     },
     "output_type": "display_data"
    }
   ],
   "source": [
    "plt.figure(figsize=(12, 12))\n",
    "plt.title('Education Level')\n",
    "sns.countplot(y=survey_df.EdLevel)\n",
    "plt.ylabel('');"
   ]
  },
  {
   "cell_type": "markdown",
   "id": "158cbf1d",
   "metadata": {},
   "source": [
    "**A good number of respondents hold a bachelor's or master's degree which over half of the number of respondents. However, the graph does not show if the degrees are in computer science.**"
   ]
  },
  {
   "cell_type": "markdown",
   "id": "dd60a864",
   "metadata": {},
   "source": [
    "### Employment\n",
    "\n",
    "**Frelancing or part time work is a common choice among programers. It would interesting to compare the employment conditions of our respondents.**"
   ]
  },
  {
   "cell_type": "code",
   "execution_count": 65,
   "id": "8c492487",
   "metadata": {},
   "outputs": [
    {
     "data": {
      "text/plain": [
       "'Which of the following best describes your current employment status?'"
      ]
     },
     "execution_count": 65,
     "metadata": {},
     "output_type": "execute_result"
    }
   ],
   "source": [
    "schema.Employment"
   ]
  },
  {
   "cell_type": "code",
   "execution_count": 66,
   "id": "b01fca47",
   "metadata": {},
   "outputs": [
    {
     "data": {
      "text/plain": [
       "Employment\n",
       "Employed, full-time                                                                                                                                   40709\n",
       "Student, full-time                                                                                                                                     6320\n",
       "Independent contractor, freelancer, or self-employed                                                                                                   4531\n",
       "Employed, full-time;Independent contractor, freelancer, or self-employed                                                                               3294\n",
       "Not employed, but looking for work                                                                                                                     1702\n",
       "                                                                                                                                                      ...  \n",
       "Student, part-time;Independent contractor, freelancer, or self-employed;Retired                                                                           1\n",
       "Employed, full-time;Student, full-time;Retired                                                                                                            1\n",
       "Employed, full-time;Student, full-time;Not employed, but looking for work;Employed, part-time                                                             1\n",
       "Employed, full-time;Student, part-time;Not employed, but looking for work;Independent contractor, freelancer, or self-employed;Employed, part-time        1\n",
       "Student, part-time;Independent contractor, freelancer, or self-employed;Employed, part-time;Retired                                                       1\n",
       "Name: count, Length: 97, dtype: int64"
      ]
     },
     "execution_count": 66,
     "metadata": {},
     "output_type": "execute_result"
    }
   ],
   "source": [
    "survey_df.Employment.value_counts()"
   ]
  },
  {
   "cell_type": "markdown",
   "id": "c0302ddd",
   "metadata": {},
   "source": [
    "**The `Employment` culumn contains information about employment status of respondents. This question allows multiple answers, the column contains lists of values seperated by a semi-column `;`, which makes the column a litle bit hard to analyse directly.**\n",
    "\n",
    "**`NOTE`: Some columns in `survey_df` data frame are also like this.**\n",
    "\n",
    "**We'll define a function that turns a column containing lists of values e.g `survey_df.Emploment` into a data frame with one column for each posible option.**"
   ]
  },
  {
   "cell_type": "code",
   "execution_count": 67,
   "id": "d2f4f4f2",
   "metadata": {},
   "outputs": [],
   "source": [
    "def split_multicolumn(col_series):\n",
    "    result_df = col_series.to_frame()\n",
    "    options = []\n",
    "    # Iterate over the column\n",
    "    for idx, value  in col_series[col_series.notnull()].items():\n",
    "        # Break each value into list of options\n",
    "        for option in value.split(';'):\n",
    "            # Add the option as a column to result\n",
    "            if not option in result_df.columns:\n",
    "                options.append(option)\n",
    "                result_df[option] = False\n",
    "            # Mark the value in the option column as True\n",
    "            result_df.at[idx, option] = True\n",
    "    return result_df[options]"
   ]
  },
  {
   "cell_type": "code",
   "execution_count": 68,
   "id": "f1376046",
   "metadata": {},
   "outputs": [
    {
     "data": {
      "text/html": [
       "<div>\n",
       "<style scoped>\n",
       "    .dataframe tbody tr th:only-of-type {\n",
       "        vertical-align: middle;\n",
       "    }\n",
       "\n",
       "    .dataframe tbody tr th {\n",
       "        vertical-align: top;\n",
       "    }\n",
       "\n",
       "    .dataframe thead th {\n",
       "        text-align: right;\n",
       "    }\n",
       "</style>\n",
       "<table border=\"1\" class=\"dataframe\">\n",
       "  <thead>\n",
       "    <tr style=\"text-align: right;\">\n",
       "      <th></th>\n",
       "      <th>Employed, full-time</th>\n",
       "      <th>Student, part-time</th>\n",
       "      <th>Not employed, but looking for work</th>\n",
       "      <th>Independent contractor, freelancer, or self-employed</th>\n",
       "      <th>Employed, part-time</th>\n",
       "      <th>Student, full-time</th>\n",
       "      <th>Not employed, and not looking for work</th>\n",
       "      <th>Retired</th>\n",
       "      <th>I prefer not to say</th>\n",
       "    </tr>\n",
       "  </thead>\n",
       "  <tbody>\n",
       "    <tr>\n",
       "      <th>0</th>\n",
       "      <td>False</td>\n",
       "      <td>False</td>\n",
       "      <td>False</td>\n",
       "      <td>False</td>\n",
       "      <td>False</td>\n",
       "      <td>False</td>\n",
       "      <td>False</td>\n",
       "      <td>False</td>\n",
       "      <td>False</td>\n",
       "    </tr>\n",
       "    <tr>\n",
       "      <th>1</th>\n",
       "      <td>True</td>\n",
       "      <td>False</td>\n",
       "      <td>False</td>\n",
       "      <td>False</td>\n",
       "      <td>False</td>\n",
       "      <td>False</td>\n",
       "      <td>False</td>\n",
       "      <td>False</td>\n",
       "      <td>False</td>\n",
       "    </tr>\n",
       "    <tr>\n",
       "      <th>2</th>\n",
       "      <td>True</td>\n",
       "      <td>False</td>\n",
       "      <td>False</td>\n",
       "      <td>False</td>\n",
       "      <td>False</td>\n",
       "      <td>False</td>\n",
       "      <td>False</td>\n",
       "      <td>False</td>\n",
       "      <td>False</td>\n",
       "    </tr>\n",
       "    <tr>\n",
       "      <th>3</th>\n",
       "      <td>True</td>\n",
       "      <td>False</td>\n",
       "      <td>False</td>\n",
       "      <td>False</td>\n",
       "      <td>False</td>\n",
       "      <td>False</td>\n",
       "      <td>False</td>\n",
       "      <td>False</td>\n",
       "      <td>False</td>\n",
       "    </tr>\n",
       "    <tr>\n",
       "      <th>4</th>\n",
       "      <td>True</td>\n",
       "      <td>False</td>\n",
       "      <td>False</td>\n",
       "      <td>False</td>\n",
       "      <td>False</td>\n",
       "      <td>False</td>\n",
       "      <td>False</td>\n",
       "      <td>False</td>\n",
       "      <td>False</td>\n",
       "    </tr>\n",
       "    <tr>\n",
       "      <th>...</th>\n",
       "      <td>...</td>\n",
       "      <td>...</td>\n",
       "      <td>...</td>\n",
       "      <td>...</td>\n",
       "      <td>...</td>\n",
       "      <td>...</td>\n",
       "      <td>...</td>\n",
       "      <td>...</td>\n",
       "      <td>...</td>\n",
       "    </tr>\n",
       "    <tr>\n",
       "      <th>73263</th>\n",
       "      <td>True</td>\n",
       "      <td>False</td>\n",
       "      <td>False</td>\n",
       "      <td>False</td>\n",
       "      <td>False</td>\n",
       "      <td>False</td>\n",
       "      <td>False</td>\n",
       "      <td>False</td>\n",
       "      <td>False</td>\n",
       "    </tr>\n",
       "    <tr>\n",
       "      <th>73264</th>\n",
       "      <td>True</td>\n",
       "      <td>False</td>\n",
       "      <td>False</td>\n",
       "      <td>False</td>\n",
       "      <td>False</td>\n",
       "      <td>False</td>\n",
       "      <td>False</td>\n",
       "      <td>False</td>\n",
       "      <td>False</td>\n",
       "    </tr>\n",
       "    <tr>\n",
       "      <th>73265</th>\n",
       "      <td>True</td>\n",
       "      <td>False</td>\n",
       "      <td>False</td>\n",
       "      <td>False</td>\n",
       "      <td>False</td>\n",
       "      <td>False</td>\n",
       "      <td>False</td>\n",
       "      <td>False</td>\n",
       "      <td>False</td>\n",
       "    </tr>\n",
       "    <tr>\n",
       "      <th>73266</th>\n",
       "      <td>True</td>\n",
       "      <td>False</td>\n",
       "      <td>False</td>\n",
       "      <td>False</td>\n",
       "      <td>False</td>\n",
       "      <td>False</td>\n",
       "      <td>False</td>\n",
       "      <td>False</td>\n",
       "      <td>False</td>\n",
       "    </tr>\n",
       "    <tr>\n",
       "      <th>73267</th>\n",
       "      <td>False</td>\n",
       "      <td>False</td>\n",
       "      <td>False</td>\n",
       "      <td>True</td>\n",
       "      <td>False</td>\n",
       "      <td>False</td>\n",
       "      <td>False</td>\n",
       "      <td>False</td>\n",
       "      <td>False</td>\n",
       "    </tr>\n",
       "  </tbody>\n",
       "</table>\n",
       "<p>69462 rows × 9 columns</p>\n",
       "</div>"
      ],
      "text/plain": [
       "       Employed, full-time  Student, part-time  \\\n",
       "0                    False               False   \n",
       "1                     True               False   \n",
       "2                     True               False   \n",
       "3                     True               False   \n",
       "4                     True               False   \n",
       "...                    ...                 ...   \n",
       "73263                 True               False   \n",
       "73264                 True               False   \n",
       "73265                 True               False   \n",
       "73266                 True               False   \n",
       "73267                False               False   \n",
       "\n",
       "       Not employed, but looking for work  \\\n",
       "0                                   False   \n",
       "1                                   False   \n",
       "2                                   False   \n",
       "3                                   False   \n",
       "4                                   False   \n",
       "...                                   ...   \n",
       "73263                               False   \n",
       "73264                               False   \n",
       "73265                               False   \n",
       "73266                               False   \n",
       "73267                               False   \n",
       "\n",
       "       Independent contractor, freelancer, or self-employed  \\\n",
       "0                                                  False      \n",
       "1                                                  False      \n",
       "2                                                  False      \n",
       "3                                                  False      \n",
       "4                                                  False      \n",
       "...                                                  ...      \n",
       "73263                                              False      \n",
       "73264                                              False      \n",
       "73265                                              False      \n",
       "73266                                              False      \n",
       "73267                                               True      \n",
       "\n",
       "       Employed, part-time  Student, full-time  \\\n",
       "0                    False               False   \n",
       "1                    False               False   \n",
       "2                    False               False   \n",
       "3                    False               False   \n",
       "4                    False               False   \n",
       "...                    ...                 ...   \n",
       "73263                False               False   \n",
       "73264                False               False   \n",
       "73265                False               False   \n",
       "73266                False               False   \n",
       "73267                False               False   \n",
       "\n",
       "       Not employed, and not looking for work  Retired  I prefer not to say  \n",
       "0                                       False    False                False  \n",
       "1                                       False    False                False  \n",
       "2                                       False    False                False  \n",
       "3                                       False    False                False  \n",
       "4                                       False    False                False  \n",
       "...                                       ...      ...                  ...  \n",
       "73263                                   False    False                False  \n",
       "73264                                   False    False                False  \n",
       "73265                                   False    False                False  \n",
       "73266                                   False    False                False  \n",
       "73267                                   False    False                False  \n",
       "\n",
       "[69462 rows x 9 columns]"
      ]
     },
     "execution_count": 68,
     "metadata": {},
     "output_type": "execute_result"
    }
   ],
   "source": [
    "employment_df = split_multicolumn(survey_df.Employment)\n",
    "\n",
    "employment_df"
   ]
  },
  {
   "cell_type": "markdown",
   "id": "801fe39c",
   "metadata": {},
   "source": [
    "**We should drop the `I prefer not to say` column from the `employment_df` for better analysis.**"
   ]
  },
  {
   "cell_type": "code",
   "execution_count": 69,
   "id": "b20c5239",
   "metadata": {},
   "outputs": [],
   "source": [
    "employment_df.drop(columns='I prefer not to say', inplace=True)"
   ]
  },
  {
   "cell_type": "code",
   "execution_count": 70,
   "id": "5259e454",
   "metadata": {},
   "outputs": [
    {
     "data": {
      "text/plain": [
       "Employed, full-time                                     67.117273\n",
       "Student, full-time                                      14.767787\n",
       "Independent contractor, freelancer, or self-employed    14.276871\n",
       "Employed, part-time                                      5.477815\n",
       "Student, part-time                                       5.035847\n",
       "Not employed, but looking for work                       4.520457\n",
       "Not employed, and not looking for work                   1.572083\n",
       "Retired                                                  0.486597\n",
       "dtype: float64"
      ]
     },
     "execution_count": 70,
     "metadata": {},
     "output_type": "execute_result"
    }
   ],
   "source": [
    "employment_pct = employment_df.mean().sort_values(ascending=False) * 100\n",
    "\n",
    "employment_pct"
   ]
  },
  {
   "cell_type": "code",
   "execution_count": 71,
   "id": "e273a265",
   "metadata": {},
   "outputs": [
    {
     "data": {
      "image/png": "[encoded data removed]",
      "text/plain": [
       "<Figure size 1200x600 with 1 Axes>"
      ]
     },
     "metadata": {
      "needs_background": "light"
     },
     "output_type": "display_data"
    }
   ],
   "source": [
    "plt.figure(figsize=(12,6))\n",
    "plt.title('Work Status')\n",
    "sns.barplot(x=employment_pct, y=employment_pct.index)\n",
    "plt.xlabel('Percentage');"
   ]
  },
  {
   "cell_type": "markdown",
   "id": "e561a23e",
   "metadata": {},
   "source": [
    "**About 15% of respondents are freelancers.**\n",
    "\n",
    "### RemoteWork\n",
    "\n",
    "**The Corona Virus pandemic impacted our lives in ways we are yet to comprehend. It also impacted on how work is done in most organization worldwide. We'll dive deep to see if the respondents are working working remotely or not.**"
   ]
  },
  {
   "cell_type": "code",
   "execution_count": 72,
   "id": "41c507df",
   "metadata": {},
   "outputs": [
    {
     "data": {
      "text/plain": [
       "'Which best describes your current work situation?'"
      ]
     },
     "execution_count": 72,
     "metadata": {},
     "output_type": "execute_result"
    }
   ],
   "source": [
    "schema.RemoteWork"
   ]
  },
  {
   "cell_type": "code",
   "execution_count": 73,
   "id": "41c7166d",
   "metadata": {},
   "outputs": [
    {
     "data": {
      "text/plain": [
       "RemoteWork\n",
       "Fully remote                            23875\n",
       "Hybrid (some remote, some in-person)    23694\n",
       "Full in-person                           7980\n",
       "Name: count, dtype: int64"
      ]
     },
     "execution_count": 73,
     "metadata": {},
     "output_type": "execute_result"
    }
   ],
   "source": [
    "remote_work_counts = survey_df.RemoteWork.value_counts()\n",
    "\n",
    "remote_work_counts"
   ]
  },
  {
   "cell_type": "code",
   "execution_count": 74,
   "id": "4b377562",
   "metadata": {},
   "outputs": [
    {
     "data": {
      "image/png": "[encoded data removed]",
      "text/plain": [
       "<Figure size 1200x600 with 1 Axes>"
      ]
     },
     "metadata": {},
     "output_type": "display_data"
    }
   ],
   "source": [
    "plt.figure(figsize=(12,6))\n",
    "plt.title(schema.RemoteWork)\n",
    "plt.pie(remote_work_counts, labels=remote_work_counts.index, autopct='%1.1f%%', startangle=180);"
   ]
  },
  {
   "cell_type": "markdown",
   "id": "f6aa49f5",
   "metadata": {},
   "source": [
    "**From the pie chart above, we can see that most respondents work fully remotely with 43.0% while 42.7% of the respondents work in a hybrid condition (some remote, some in-person).**\n",
    "\n",
    "**It is safe to say that programming work in general can be done from anywhere.**\n",
    "\n",
    "\n",
    "### DevType\n",
    "\n",
    "**It have information of the respectively roles held by the respondents.** "
   ]
  },
  {
   "cell_type": "code",
   "execution_count": 75,
   "id": "e078023b",
   "metadata": {},
   "outputs": [
    {
     "data": {
      "text/plain": [
       "'Which of the following describes your current job? Please select all that apply.'"
      ]
     },
     "execution_count": 75,
     "metadata": {},
     "output_type": "execute_result"
    }
   ],
   "source": [
    "schema.DevType"
   ]
  },
  {
   "cell_type": "code",
   "execution_count": 76,
   "id": "267c36a1",
   "metadata": {},
   "outputs": [
    {
     "data": {
      "text/plain": [
       "DevType\n",
       "Developer, full-stack                                                                                                                                                                                                                                                                                                                                                                                                                  6765\n",
       "Developer, back-end                                                                                                                                                                                                                                                                                                                                                                                                                    5056\n",
       "Developer, front-end                                                                                                                                                                                                                                                                                                                                                                                                                   2245\n",
       "Developer, front-end;Developer, full-stack;Developer, back-end                                                                                                                                                                                                                                                                                                                                                                         1696\n",
       "Developer, full-stack;Developer, back-end                                                                                                                                                                                                                                                                                                                                                                                              1465\n",
       "                                                                                                                                                                                                                                                                                                                                                                                                                                       ... \n",
       "Engineer, site reliability;Developer, full-stack;Developer, back-end;Student                                                                                                                                                                                                                                                                                                                                                              1\n",
       "Educator;Engineering manager;Developer, game or graphics                                                                                                                                                                                                                                                                                                                                                                                  1\n",
       "Data scientist or machine learning specialist;Developer, full-stack;Student;Project manager                                                                                                                                                                                                                                                                                                                                               1\n",
       "Data scientist or machine learning specialist;Engineer, data;Engineer, site reliability;Developer, full-stack;Developer, back-end;Database administrator                                                                                                                                                                                                                                                                                  1\n",
       "Developer, front-end;Engineer, data;Engineer, site reliability;Developer, full-stack;Developer, back-end;Developer, desktop or enterprise applications;Developer, QA or test;Student;Developer, mobile;Academic researcher;DevOps specialist;Developer, embedded applications or devices;Developer, game or graphics;Cloud infrastructure engineer;Data or business analyst;Designer;Scientist;Product manager;System administrator       1\n",
       "Name: count, Length: 9421, dtype: int64"
      ]
     },
     "execution_count": 76,
     "metadata": {},
     "output_type": "execute_result"
    }
   ],
   "source": [
    "survey_df.DevType.value_counts()"
   ]
  },
  {
   "cell_type": "markdown",
   "id": "88b15c57",
   "metadata": {},
   "source": [
    "**The column is also similar to the `Employment` column. We'll use our already defined `split_multicolumn`function to aid us in analyzing this column.**"
   ]
  },
  {
   "cell_type": "code",
   "execution_count": 77,
   "id": "42d4d962",
   "metadata": {},
   "outputs": [
    {
     "data": {
      "text/html": [
       "<div>\n",
       "<style scoped>\n",
       "    .dataframe tbody tr th:only-of-type {\n",
       "        vertical-align: middle;\n",
       "    }\n",
       "\n",
       "    .dataframe tbody tr th {\n",
       "        vertical-align: top;\n",
       "    }\n",
       "\n",
       "    .dataframe thead th {\n",
       "        text-align: right;\n",
       "    }\n",
       "</style>\n",
       "<table border=\"1\" class=\"dataframe\">\n",
       "  <thead>\n",
       "    <tr style=\"text-align: right;\">\n",
       "      <th></th>\n",
       "      <th>Data scientist or machine learning specialist</th>\n",
       "      <th>Developer, front-end</th>\n",
       "      <th>Engineer, data</th>\n",
       "      <th>Engineer, site reliability</th>\n",
       "      <th>Developer, full-stack</th>\n",
       "      <th>Developer, back-end</th>\n",
       "      <th>Developer, desktop or enterprise applications</th>\n",
       "      <th>Developer, QA or test</th>\n",
       "      <th>Student</th>\n",
       "      <th>Developer, mobile</th>\n",
       "      <th>...</th>\n",
       "      <th>Cloud infrastructure engineer</th>\n",
       "      <th>Data or business analyst</th>\n",
       "      <th>Designer</th>\n",
       "      <th>Scientist</th>\n",
       "      <th>Product manager</th>\n",
       "      <th>Senior Executive (C-Suite, VP, etc.)</th>\n",
       "      <th>System administrator</th>\n",
       "      <th>Blockchain</th>\n",
       "      <th>Marketing or sales professional</th>\n",
       "      <th>Security professional</th>\n",
       "    </tr>\n",
       "  </thead>\n",
       "  <tbody>\n",
       "    <tr>\n",
       "      <th>0</th>\n",
       "      <td>False</td>\n",
       "      <td>False</td>\n",
       "      <td>False</td>\n",
       "      <td>False</td>\n",
       "      <td>False</td>\n",
       "      <td>False</td>\n",
       "      <td>False</td>\n",
       "      <td>False</td>\n",
       "      <td>False</td>\n",
       "      <td>False</td>\n",
       "      <td>...</td>\n",
       "      <td>False</td>\n",
       "      <td>False</td>\n",
       "      <td>False</td>\n",
       "      <td>False</td>\n",
       "      <td>False</td>\n",
       "      <td>False</td>\n",
       "      <td>False</td>\n",
       "      <td>False</td>\n",
       "      <td>False</td>\n",
       "      <td>False</td>\n",
       "    </tr>\n",
       "    <tr>\n",
       "      <th>1</th>\n",
       "      <td>False</td>\n",
       "      <td>False</td>\n",
       "      <td>False</td>\n",
       "      <td>False</td>\n",
       "      <td>False</td>\n",
       "      <td>False</td>\n",
       "      <td>False</td>\n",
       "      <td>False</td>\n",
       "      <td>False</td>\n",
       "      <td>False</td>\n",
       "      <td>...</td>\n",
       "      <td>False</td>\n",
       "      <td>False</td>\n",
       "      <td>False</td>\n",
       "      <td>False</td>\n",
       "      <td>False</td>\n",
       "      <td>False</td>\n",
       "      <td>False</td>\n",
       "      <td>False</td>\n",
       "      <td>False</td>\n",
       "      <td>False</td>\n",
       "    </tr>\n",
       "    <tr>\n",
       "      <th>2</th>\n",
       "      <td>True</td>\n",
       "      <td>True</td>\n",
       "      <td>True</td>\n",
       "      <td>True</td>\n",
       "      <td>False</td>\n",
       "      <td>False</td>\n",
       "      <td>False</td>\n",
       "      <td>False</td>\n",
       "      <td>False</td>\n",
       "      <td>False</td>\n",
       "      <td>...</td>\n",
       "      <td>False</td>\n",
       "      <td>False</td>\n",
       "      <td>False</td>\n",
       "      <td>False</td>\n",
       "      <td>False</td>\n",
       "      <td>False</td>\n",
       "      <td>False</td>\n",
       "      <td>False</td>\n",
       "      <td>False</td>\n",
       "      <td>False</td>\n",
       "    </tr>\n",
       "    <tr>\n",
       "      <th>3</th>\n",
       "      <td>False</td>\n",
       "      <td>False</td>\n",
       "      <td>False</td>\n",
       "      <td>False</td>\n",
       "      <td>True</td>\n",
       "      <td>False</td>\n",
       "      <td>False</td>\n",
       "      <td>False</td>\n",
       "      <td>False</td>\n",
       "      <td>False</td>\n",
       "      <td>...</td>\n",
       "      <td>False</td>\n",
       "      <td>False</td>\n",
       "      <td>False</td>\n",
       "      <td>False</td>\n",
       "      <td>False</td>\n",
       "      <td>False</td>\n",
       "      <td>False</td>\n",
       "      <td>False</td>\n",
       "      <td>False</td>\n",
       "      <td>False</td>\n",
       "    </tr>\n",
       "    <tr>\n",
       "      <th>4</th>\n",
       "      <td>False</td>\n",
       "      <td>True</td>\n",
       "      <td>False</td>\n",
       "      <td>False</td>\n",
       "      <td>True</td>\n",
       "      <td>True</td>\n",
       "      <td>True</td>\n",
       "      <td>True</td>\n",
       "      <td>False</td>\n",
       "      <td>False</td>\n",
       "      <td>...</td>\n",
       "      <td>False</td>\n",
       "      <td>False</td>\n",
       "      <td>False</td>\n",
       "      <td>False</td>\n",
       "      <td>False</td>\n",
       "      <td>False</td>\n",
       "      <td>False</td>\n",
       "      <td>False</td>\n",
       "      <td>False</td>\n",
       "      <td>False</td>\n",
       "    </tr>\n",
       "    <tr>\n",
       "      <th>...</th>\n",
       "      <td>...</td>\n",
       "      <td>...</td>\n",
       "      <td>...</td>\n",
       "      <td>...</td>\n",
       "      <td>...</td>\n",
       "      <td>...</td>\n",
       "      <td>...</td>\n",
       "      <td>...</td>\n",
       "      <td>...</td>\n",
       "      <td>...</td>\n",
       "      <td>...</td>\n",
       "      <td>...</td>\n",
       "      <td>...</td>\n",
       "      <td>...</td>\n",
       "      <td>...</td>\n",
       "      <td>...</td>\n",
       "      <td>...</td>\n",
       "      <td>...</td>\n",
       "      <td>...</td>\n",
       "      <td>...</td>\n",
       "      <td>...</td>\n",
       "    </tr>\n",
       "    <tr>\n",
       "      <th>73263</th>\n",
       "      <td>False</td>\n",
       "      <td>False</td>\n",
       "      <td>False</td>\n",
       "      <td>False</td>\n",
       "      <td>False</td>\n",
       "      <td>True</td>\n",
       "      <td>False</td>\n",
       "      <td>False</td>\n",
       "      <td>False</td>\n",
       "      <td>False</td>\n",
       "      <td>...</td>\n",
       "      <td>False</td>\n",
       "      <td>False</td>\n",
       "      <td>False</td>\n",
       "      <td>False</td>\n",
       "      <td>False</td>\n",
       "      <td>False</td>\n",
       "      <td>False</td>\n",
       "      <td>False</td>\n",
       "      <td>False</td>\n",
       "      <td>False</td>\n",
       "    </tr>\n",
       "    <tr>\n",
       "      <th>73264</th>\n",
       "      <td>True</td>\n",
       "      <td>False</td>\n",
       "      <td>False</td>\n",
       "      <td>False</td>\n",
       "      <td>False</td>\n",
       "      <td>False</td>\n",
       "      <td>False</td>\n",
       "      <td>False</td>\n",
       "      <td>False</td>\n",
       "      <td>False</td>\n",
       "      <td>...</td>\n",
       "      <td>False</td>\n",
       "      <td>False</td>\n",
       "      <td>False</td>\n",
       "      <td>False</td>\n",
       "      <td>False</td>\n",
       "      <td>False</td>\n",
       "      <td>False</td>\n",
       "      <td>False</td>\n",
       "      <td>False</td>\n",
       "      <td>False</td>\n",
       "    </tr>\n",
       "    <tr>\n",
       "      <th>73265</th>\n",
       "      <td>False</td>\n",
       "      <td>False</td>\n",
       "      <td>False</td>\n",
       "      <td>False</td>\n",
       "      <td>True</td>\n",
       "      <td>False</td>\n",
       "      <td>True</td>\n",
       "      <td>False</td>\n",
       "      <td>False</td>\n",
       "      <td>False</td>\n",
       "      <td>...</td>\n",
       "      <td>False</td>\n",
       "      <td>False</td>\n",
       "      <td>False</td>\n",
       "      <td>False</td>\n",
       "      <td>False</td>\n",
       "      <td>False</td>\n",
       "      <td>True</td>\n",
       "      <td>False</td>\n",
       "      <td>False</td>\n",
       "      <td>False</td>\n",
       "    </tr>\n",
       "    <tr>\n",
       "      <th>73266</th>\n",
       "      <td>False</td>\n",
       "      <td>True</td>\n",
       "      <td>False</td>\n",
       "      <td>False</td>\n",
       "      <td>False</td>\n",
       "      <td>False</td>\n",
       "      <td>True</td>\n",
       "      <td>False</td>\n",
       "      <td>False</td>\n",
       "      <td>False</td>\n",
       "      <td>...</td>\n",
       "      <td>False</td>\n",
       "      <td>False</td>\n",
       "      <td>False</td>\n",
       "      <td>False</td>\n",
       "      <td>False</td>\n",
       "      <td>False</td>\n",
       "      <td>False</td>\n",
       "      <td>False</td>\n",
       "      <td>False</td>\n",
       "      <td>False</td>\n",
       "    </tr>\n",
       "    <tr>\n",
       "      <th>73267</th>\n",
       "      <td>False</td>\n",
       "      <td>True</td>\n",
       "      <td>True</td>\n",
       "      <td>True</td>\n",
       "      <td>True</td>\n",
       "      <td>True</td>\n",
       "      <td>True</td>\n",
       "      <td>True</td>\n",
       "      <td>True</td>\n",
       "      <td>True</td>\n",
       "      <td>...</td>\n",
       "      <td>True</td>\n",
       "      <td>True</td>\n",
       "      <td>True</td>\n",
       "      <td>True</td>\n",
       "      <td>True</td>\n",
       "      <td>False</td>\n",
       "      <td>True</td>\n",
       "      <td>False</td>\n",
       "      <td>False</td>\n",
       "      <td>False</td>\n",
       "    </tr>\n",
       "  </tbody>\n",
       "</table>\n",
       "<p>69462 rows × 29 columns</p>\n",
       "</div>"
      ],
      "text/plain": [
       "       Data scientist or machine learning specialist  Developer, front-end  \\\n",
       "0                                              False                 False   \n",
       "1                                              False                 False   \n",
       "2                                               True                  True   \n",
       "3                                              False                 False   \n",
       "4                                              False                  True   \n",
       "...                                              ...                   ...   \n",
       "73263                                          False                 False   \n",
       "73264                                           True                 False   \n",
       "73265                                          False                 False   \n",
       "73266                                          False                  True   \n",
       "73267                                          False                  True   \n",
       "\n",
       "       Engineer, data  Engineer, site reliability  Developer, full-stack  \\\n",
       "0               False                       False                  False   \n",
       "1               False                       False                  False   \n",
       "2                True                        True                  False   \n",
       "3               False                       False                   True   \n",
       "4               False                       False                   True   \n",
       "...               ...                         ...                    ...   \n",
       "73263           False                       False                  False   \n",
       "73264           False                       False                  False   \n",
       "73265           False                       False                   True   \n",
       "73266           False                       False                  False   \n",
       "73267            True                        True                   True   \n",
       "\n",
       "       Developer, back-end  Developer, desktop or enterprise applications  \\\n",
       "0                    False                                          False   \n",
       "1                    False                                          False   \n",
       "2                    False                                          False   \n",
       "3                    False                                          False   \n",
       "4                     True                                           True   \n",
       "...                    ...                                            ...   \n",
       "73263                 True                                          False   \n",
       "73264                False                                          False   \n",
       "73265                False                                           True   \n",
       "73266                False                                           True   \n",
       "73267                 True                                           True   \n",
       "\n",
       "       Developer, QA or test  Student  Developer, mobile  ...  \\\n",
       "0                      False    False              False  ...   \n",
       "1                      False    False              False  ...   \n",
       "2                      False    False              False  ...   \n",
       "3                      False    False              False  ...   \n",
       "4                       True    False              False  ...   \n",
       "...                      ...      ...                ...  ...   \n",
       "73263                  False    False              False  ...   \n",
       "73264                  False    False              False  ...   \n",
       "73265                  False    False              False  ...   \n",
       "73266                  False    False              False  ...   \n",
       "73267                   True     True               True  ...   \n",
       "\n",
       "       Cloud infrastructure engineer  Data or business analyst  Designer  \\\n",
       "0                              False                     False     False   \n",
       "1                              False                     False     False   \n",
       "2                              False                     False     False   \n",
       "3                              False                     False     False   \n",
       "4                              False                     False     False   \n",
       "...                              ...                       ...       ...   \n",
       "73263                          False                     False     False   \n",
       "73264                          False                     False     False   \n",
       "73265                          False                     False     False   \n",
       "73266                          False                     False     False   \n",
       "73267                           True                      True      True   \n",
       "\n",
       "       Scientist  Product manager  Senior Executive (C-Suite, VP, etc.)  \\\n",
       "0          False            False                                 False   \n",
       "1          False            False                                 False   \n",
       "2          False            False                                 False   \n",
       "3          False            False                                 False   \n",
       "4          False            False                                 False   \n",
       "...          ...              ...                                   ...   \n",
       "73263      False            False                                 False   \n",
       "73264      False            False                                 False   \n",
       "73265      False            False                                 False   \n",
       "73266      False            False                                 False   \n",
       "73267       True             True                                 False   \n",
       "\n",
       "       System administrator  Blockchain  Marketing or sales professional  \\\n",
       "0                     False       False                            False   \n",
       "1                     False       False                            False   \n",
       "2                     False       False                            False   \n",
       "3                     False       False                            False   \n",
       "4                     False       False                            False   \n",
       "...                     ...         ...                              ...   \n",
       "73263                 False       False                            False   \n",
       "73264                 False       False                            False   \n",
       "73265                  True       False                            False   \n",
       "73266                 False       False                            False   \n",
       "73267                  True       False                            False   \n",
       "\n",
       "       Security professional  \n",
       "0                      False  \n",
       "1                      False  \n",
       "2                      False  \n",
       "3                      False  \n",
       "4                      False  \n",
       "...                      ...  \n",
       "73263                  False  \n",
       "73264                  False  \n",
       "73265                  False  \n",
       "73266                  False  \n",
       "73267                  False  \n",
       "\n",
       "[69462 rows x 29 columns]"
      ]
     },
     "execution_count": 77,
     "metadata": {},
     "output_type": "execute_result"
    }
   ],
   "source": [
    "devtype_df = split_multicolumn(survey_df.DevType)\n",
    "\n",
    "devtype_df"
   ]
  },
  {
   "cell_type": "markdown",
   "id": "226d290b",
   "metadata": {},
   "source": [
    "**The `devtype_df` has one column for each option that can be selected as a response. If a respondent has chosen an option, the corresponding column's value is `True`. Otherwise, it is `False`.**\n",
    "\n",
    "**We can now use the column-wise totals to identify the most common roles.**"
   ]
  },
  {
   "cell_type": "code",
   "execution_count": 78,
   "id": "68b45879",
   "metadata": {},
   "outputs": [
    {
     "data": {
      "text/plain": [
       "Developer, full-stack                            26992\n",
       "Developer, back-end                              25063\n",
       "Developer, front-end                             14875\n",
       "Developer, desktop or enterprise applications     8944\n",
       "Developer, mobile                                 7135\n",
       "DevOps specialist                                 5789\n",
       "Student                                           5180\n",
       "Cloud infrastructure engineer                     4963\n",
       "Database administrator                            4585\n",
       "System administrator                              4498\n",
       "Developer, embedded applications or devices       3668\n",
       "Project manager                                   3604\n",
       "Designer                                          3430\n",
       "Engineer, data                                    3365\n",
       "Engineering manager                               3365\n",
       "Data scientist or machine learning specialist     3206\n",
       "Data or business analyst                          2974\n",
       "Developer, QA or test                             2859\n",
       "Academic researcher                               2470\n",
       "Other (please specify):                           2416\n",
       "Product manager                                   2315\n",
       "Educator                                          1915\n",
       "Engineer, site reliability                        1780\n",
       "Security professional                             1754\n",
       "Senior Executive (C-Suite, VP, etc.)              1680\n",
       "Developer, game or graphics                       1654\n",
       "Scientist                                         1610\n",
       "Blockchain                                        1175\n",
       "Marketing or sales professional                    440\n",
       "dtype: int64"
      ]
     },
     "execution_count": 78,
     "metadata": {},
     "output_type": "execute_result"
    }
   ],
   "source": [
    "devtype_df.sum().sort_values(ascending=False)"
   ]
  },
  {
   "cell_type": "markdown",
   "id": "a89ffa6e",
   "metadata": {},
   "source": [
    "**We identify an ambiguos column `Other (please specify):` which might affect our data. We should drop it.**"
   ]
  },
  {
   "cell_type": "code",
   "execution_count": 79,
   "id": "f1e967c2",
   "metadata": {},
   "outputs": [],
   "source": [
    "devtype_df.drop(columns='Other (please specify):', inplace=True)"
   ]
  },
  {
   "cell_type": "code",
   "execution_count": 80,
   "id": "46e1b7d6",
   "metadata": {
    "scrolled": false
   },
   "outputs": [
    {
     "data": {
      "text/plain": [
       "Developer, full-stack                            26992\n",
       "Developer, back-end                              25063\n",
       "Developer, front-end                             14875\n",
       "Developer, desktop or enterprise applications     8944\n",
       "Developer, mobile                                 7135\n",
       "DevOps specialist                                 5789\n",
       "Student                                           5180\n",
       "Cloud infrastructure engineer                     4963\n",
       "Database administrator                            4585\n",
       "System administrator                              4498\n",
       "Developer, embedded applications or devices       3668\n",
       "Project manager                                   3604\n",
       "Designer                                          3430\n",
       "Engineer, data                                    3365\n",
       "Engineering manager                               3365\n",
       "Data scientist or machine learning specialist     3206\n",
       "Data or business analyst                          2974\n",
       "Developer, QA or test                             2859\n",
       "Academic researcher                               2470\n",
       "Product manager                                   2315\n",
       "Educator                                          1915\n",
       "Engineer, site reliability                        1780\n",
       "Security professional                             1754\n",
       "Senior Executive (C-Suite, VP, etc.)              1680\n",
       "Developer, game or graphics                       1654\n",
       "Scientist                                         1610\n",
       "Blockchain                                        1175\n",
       "Marketing or sales professional                    440\n",
       "dtype: int64"
      ]
     },
     "execution_count": 80,
     "metadata": {},
     "output_type": "execute_result"
    }
   ],
   "source": [
    "devtype_totals = devtype_df.sum().sort_values(ascending=False)\n",
    "\n",
    "devtype_totals"
   ]
  },
  {
   "cell_type": "markdown",
   "id": "d81412a7",
   "metadata": {},
   "source": [
    "**Developer, full-stack, back-end and front-end are the most jobs of the respondents.**"
   ]
  },
  {
   "cell_type": "markdown",
   "id": "16246bc5",
   "metadata": {},
   "source": [
    "## Asking and Answering Questions\n",
    "\n",
    "**At this point, we have gained so much information about the respondents by exploring individual columns of the dataset.**\n",
    "\n",
    "**Now we can ask some specific questions and try to answer them using data frame operations and visualizations.**\n",
    "\n",
    "### Q: What are the most popular programming languages in 2022?\n",
    "\n",
    "**We can answer this question by using `LanguageHaveWorkedWith` column form the `survey_df`. Similar to `DevType`, respondents were albe to choose multiple options.**"
   ]
  },
  {
   "cell_type": "code",
   "execution_count": 81,
   "id": "2974eea0",
   "metadata": {},
   "outputs": [
    {
     "data": {
      "text/plain": [
       "'Which programming, scripting, and markup languages have you done extensive development work in over the past year, and which do you want to work in over the next year? (If you both worked with the language and want to continue to do so, please check both boxes in that row.)'"
      ]
     },
     "execution_count": 81,
     "metadata": {},
     "output_type": "execute_result"
    }
   ],
   "source": [
    "schema.Language"
   ]
  },
  {
   "cell_type": "code",
   "execution_count": 82,
   "id": "3c0ad527",
   "metadata": {
    "scrolled": true
   },
   "outputs": [
    {
     "data": {
      "text/plain": [
       "LanguageHaveWorkedWith\n",
       "HTML/CSS;JavaScript;TypeScript                                       1193\n",
       "Python                                                                892\n",
       "HTML/CSS;JavaScript                                                   845\n",
       "HTML/CSS;JavaScript;PHP;SQL                                           692\n",
       "C#;HTML/CSS;JavaScript;SQL;TypeScript                                 549\n",
       "                                                                     ... \n",
       "C;C++;Clojure;Java;JavaScript;Ruby;Rust                                 1\n",
       "Groovy;HTML/CSS;Java;JavaScript;Python;Scala;SQL;Swift;TypeScript       1\n",
       "Bash/Shell;Go;JavaScript;Python;Ruby;Rust                               1\n",
       "Bash/Shell;C;C++;HTML/CSS;JavaScript;Python;Ruby                        1\n",
       "C#;JavaScript;Lua;PowerShell;SQL;TypeScript                             1\n",
       "Name: count, Length: 23689, dtype: int64"
      ]
     },
     "execution_count": 82,
     "metadata": {},
     "output_type": "execute_result"
    }
   ],
   "source": [
    "survey_df.LanguageHaveWorkedWith.value_counts()"
   ]
  },
  {
   "cell_type": "markdown",
   "id": "35d0d655",
   "metadata": {},
   "source": [
    "**We'll use `split_multicolumn` function to split `LanguageHaveWorkedWith` column into a data frame containing a column of each language listed in the options.**"
   ]
  },
  {
   "cell_type": "code",
   "execution_count": 83,
   "id": "8cc9d24a",
   "metadata": {},
   "outputs": [],
   "source": [
    "language_worked_with_df = split_multicolumn(survey_df.LanguageHaveWorkedWith)"
   ]
  },
  {
   "cell_type": "code",
   "execution_count": 84,
   "id": "76cc41de",
   "metadata": {},
   "outputs": [
    {
     "data": {
      "text/html": [
       "<div>\n",
       "<style scoped>\n",
       "    .dataframe tbody tr th:only-of-type {\n",
       "        vertical-align: middle;\n",
       "    }\n",
       "\n",
       "    .dataframe tbody tr th {\n",
       "        vertical-align: top;\n",
       "    }\n",
       "\n",
       "    .dataframe thead th {\n",
       "        text-align: right;\n",
       "    }\n",
       "</style>\n",
       "<table border=\"1\" class=\"dataframe\">\n",
       "  <thead>\n",
       "    <tr style=\"text-align: right;\">\n",
       "      <th></th>\n",
       "      <th>JavaScript</th>\n",
       "      <th>TypeScript</th>\n",
       "      <th>C#</th>\n",
       "      <th>C++</th>\n",
       "      <th>HTML/CSS</th>\n",
       "      <th>Python</th>\n",
       "      <th>SQL</th>\n",
       "      <th>Swift</th>\n",
       "      <th>PHP</th>\n",
       "      <th>C</th>\n",
       "      <th>...</th>\n",
       "      <th>F#</th>\n",
       "      <th>Clojure</th>\n",
       "      <th>APL</th>\n",
       "      <th>Crystal</th>\n",
       "      <th>Fortran</th>\n",
       "      <th>Objective-C</th>\n",
       "      <th>SAS</th>\n",
       "      <th>OCaml</th>\n",
       "      <th>Solidity</th>\n",
       "      <th>COBOL</th>\n",
       "    </tr>\n",
       "  </thead>\n",
       "  <tbody>\n",
       "    <tr>\n",
       "      <th>0</th>\n",
       "      <td>False</td>\n",
       "      <td>False</td>\n",
       "      <td>False</td>\n",
       "      <td>False</td>\n",
       "      <td>False</td>\n",
       "      <td>False</td>\n",
       "      <td>False</td>\n",
       "      <td>False</td>\n",
       "      <td>False</td>\n",
       "      <td>False</td>\n",
       "      <td>...</td>\n",
       "      <td>False</td>\n",
       "      <td>False</td>\n",
       "      <td>False</td>\n",
       "      <td>False</td>\n",
       "      <td>False</td>\n",
       "      <td>False</td>\n",
       "      <td>False</td>\n",
       "      <td>False</td>\n",
       "      <td>False</td>\n",
       "      <td>False</td>\n",
       "    </tr>\n",
       "    <tr>\n",
       "      <th>1</th>\n",
       "      <td>True</td>\n",
       "      <td>True</td>\n",
       "      <td>False</td>\n",
       "      <td>False</td>\n",
       "      <td>False</td>\n",
       "      <td>False</td>\n",
       "      <td>False</td>\n",
       "      <td>False</td>\n",
       "      <td>False</td>\n",
       "      <td>False</td>\n",
       "      <td>...</td>\n",
       "      <td>False</td>\n",
       "      <td>False</td>\n",
       "      <td>False</td>\n",
       "      <td>False</td>\n",
       "      <td>False</td>\n",
       "      <td>False</td>\n",
       "      <td>False</td>\n",
       "      <td>False</td>\n",
       "      <td>False</td>\n",
       "      <td>False</td>\n",
       "    </tr>\n",
       "    <tr>\n",
       "      <th>2</th>\n",
       "      <td>True</td>\n",
       "      <td>False</td>\n",
       "      <td>True</td>\n",
       "      <td>True</td>\n",
       "      <td>True</td>\n",
       "      <td>True</td>\n",
       "      <td>False</td>\n",
       "      <td>False</td>\n",
       "      <td>False</td>\n",
       "      <td>False</td>\n",
       "      <td>...</td>\n",
       "      <td>False</td>\n",
       "      <td>False</td>\n",
       "      <td>False</td>\n",
       "      <td>False</td>\n",
       "      <td>False</td>\n",
       "      <td>False</td>\n",
       "      <td>False</td>\n",
       "      <td>False</td>\n",
       "      <td>False</td>\n",
       "      <td>False</td>\n",
       "    </tr>\n",
       "    <tr>\n",
       "      <th>3</th>\n",
       "      <td>True</td>\n",
       "      <td>True</td>\n",
       "      <td>True</td>\n",
       "      <td>False</td>\n",
       "      <td>False</td>\n",
       "      <td>False</td>\n",
       "      <td>True</td>\n",
       "      <td>False</td>\n",
       "      <td>False</td>\n",
       "      <td>False</td>\n",
       "      <td>...</td>\n",
       "      <td>False</td>\n",
       "      <td>False</td>\n",
       "      <td>False</td>\n",
       "      <td>False</td>\n",
       "      <td>False</td>\n",
       "      <td>False</td>\n",
       "      <td>False</td>\n",
       "      <td>False</td>\n",
       "      <td>False</td>\n",
       "      <td>False</td>\n",
       "    </tr>\n",
       "    <tr>\n",
       "      <th>4</th>\n",
       "      <td>True</td>\n",
       "      <td>True</td>\n",
       "      <td>True</td>\n",
       "      <td>False</td>\n",
       "      <td>True</td>\n",
       "      <td>False</td>\n",
       "      <td>True</td>\n",
       "      <td>True</td>\n",
       "      <td>False</td>\n",
       "      <td>False</td>\n",
       "      <td>...</td>\n",
       "      <td>False</td>\n",
       "      <td>False</td>\n",
       "      <td>False</td>\n",
       "      <td>False</td>\n",
       "      <td>False</td>\n",
       "      <td>False</td>\n",
       "      <td>False</td>\n",
       "      <td>False</td>\n",
       "      <td>False</td>\n",
       "      <td>False</td>\n",
       "    </tr>\n",
       "    <tr>\n",
       "      <th>...</th>\n",
       "      <td>...</td>\n",
       "      <td>...</td>\n",
       "      <td>...</td>\n",
       "      <td>...</td>\n",
       "      <td>...</td>\n",
       "      <td>...</td>\n",
       "      <td>...</td>\n",
       "      <td>...</td>\n",
       "      <td>...</td>\n",
       "      <td>...</td>\n",
       "      <td>...</td>\n",
       "      <td>...</td>\n",
       "      <td>...</td>\n",
       "      <td>...</td>\n",
       "      <td>...</td>\n",
       "      <td>...</td>\n",
       "      <td>...</td>\n",
       "      <td>...</td>\n",
       "      <td>...</td>\n",
       "      <td>...</td>\n",
       "      <td>...</td>\n",
       "    </tr>\n",
       "    <tr>\n",
       "      <th>73263</th>\n",
       "      <td>True</td>\n",
       "      <td>True</td>\n",
       "      <td>False</td>\n",
       "      <td>False</td>\n",
       "      <td>False</td>\n",
       "      <td>True</td>\n",
       "      <td>True</td>\n",
       "      <td>False</td>\n",
       "      <td>True</td>\n",
       "      <td>False</td>\n",
       "      <td>...</td>\n",
       "      <td>False</td>\n",
       "      <td>False</td>\n",
       "      <td>False</td>\n",
       "      <td>False</td>\n",
       "      <td>False</td>\n",
       "      <td>False</td>\n",
       "      <td>False</td>\n",
       "      <td>False</td>\n",
       "      <td>False</td>\n",
       "      <td>False</td>\n",
       "    </tr>\n",
       "    <tr>\n",
       "      <th>73264</th>\n",
       "      <td>True</td>\n",
       "      <td>False</td>\n",
       "      <td>False</td>\n",
       "      <td>False</td>\n",
       "      <td>True</td>\n",
       "      <td>True</td>\n",
       "      <td>True</td>\n",
       "      <td>False</td>\n",
       "      <td>False</td>\n",
       "      <td>False</td>\n",
       "      <td>...</td>\n",
       "      <td>False</td>\n",
       "      <td>False</td>\n",
       "      <td>False</td>\n",
       "      <td>False</td>\n",
       "      <td>False</td>\n",
       "      <td>False</td>\n",
       "      <td>False</td>\n",
       "      <td>False</td>\n",
       "      <td>False</td>\n",
       "      <td>False</td>\n",
       "    </tr>\n",
       "    <tr>\n",
       "      <th>73265</th>\n",
       "      <td>True</td>\n",
       "      <td>False</td>\n",
       "      <td>False</td>\n",
       "      <td>False</td>\n",
       "      <td>True</td>\n",
       "      <td>True</td>\n",
       "      <td>True</td>\n",
       "      <td>False</td>\n",
       "      <td>True</td>\n",
       "      <td>False</td>\n",
       "      <td>...</td>\n",
       "      <td>False</td>\n",
       "      <td>False</td>\n",
       "      <td>False</td>\n",
       "      <td>False</td>\n",
       "      <td>False</td>\n",
       "      <td>False</td>\n",
       "      <td>False</td>\n",
       "      <td>False</td>\n",
       "      <td>False</td>\n",
       "      <td>False</td>\n",
       "    </tr>\n",
       "    <tr>\n",
       "      <th>73266</th>\n",
       "      <td>False</td>\n",
       "      <td>False</td>\n",
       "      <td>True</td>\n",
       "      <td>False</td>\n",
       "      <td>False</td>\n",
       "      <td>False</td>\n",
       "      <td>False</td>\n",
       "      <td>False</td>\n",
       "      <td>False</td>\n",
       "      <td>False</td>\n",
       "      <td>...</td>\n",
       "      <td>False</td>\n",
       "      <td>False</td>\n",
       "      <td>False</td>\n",
       "      <td>False</td>\n",
       "      <td>False</td>\n",
       "      <td>False</td>\n",
       "      <td>False</td>\n",
       "      <td>False</td>\n",
       "      <td>False</td>\n",
       "      <td>False</td>\n",
       "    </tr>\n",
       "    <tr>\n",
       "      <th>73267</th>\n",
       "      <td>True</td>\n",
       "      <td>True</td>\n",
       "      <td>True</td>\n",
       "      <td>False</td>\n",
       "      <td>False</td>\n",
       "      <td>False</td>\n",
       "      <td>True</td>\n",
       "      <td>False</td>\n",
       "      <td>False</td>\n",
       "      <td>False</td>\n",
       "      <td>...</td>\n",
       "      <td>False</td>\n",
       "      <td>False</td>\n",
       "      <td>False</td>\n",
       "      <td>False</td>\n",
       "      <td>False</td>\n",
       "      <td>False</td>\n",
       "      <td>False</td>\n",
       "      <td>False</td>\n",
       "      <td>False</td>\n",
       "      <td>False</td>\n",
       "    </tr>\n",
       "  </tbody>\n",
       "</table>\n",
       "<p>69462 rows × 42 columns</p>\n",
       "</div>"
      ],
      "text/plain": [
       "       JavaScript  TypeScript     C#    C++  HTML/CSS  Python    SQL  Swift  \\\n",
       "0           False       False  False  False     False   False  False  False   \n",
       "1            True        True  False  False     False   False  False  False   \n",
       "2            True       False   True   True      True    True  False  False   \n",
       "3            True        True   True  False     False   False   True  False   \n",
       "4            True        True   True  False      True   False   True   True   \n",
       "...           ...         ...    ...    ...       ...     ...    ...    ...   \n",
       "73263        True        True  False  False     False    True   True  False   \n",
       "73264        True       False  False  False      True    True   True  False   \n",
       "73265        True       False  False  False      True    True   True  False   \n",
       "73266       False       False   True  False     False   False  False  False   \n",
       "73267        True        True   True  False     False   False   True  False   \n",
       "\n",
       "         PHP      C  ...     F#  Clojure    APL  Crystal  Fortran  \\\n",
       "0      False  False  ...  False    False  False    False    False   \n",
       "1      False  False  ...  False    False  False    False    False   \n",
       "2      False  False  ...  False    False  False    False    False   \n",
       "3      False  False  ...  False    False  False    False    False   \n",
       "4      False  False  ...  False    False  False    False    False   \n",
       "...      ...    ...  ...    ...      ...    ...      ...      ...   \n",
       "73263   True  False  ...  False    False  False    False    False   \n",
       "73264  False  False  ...  False    False  False    False    False   \n",
       "73265   True  False  ...  False    False  False    False    False   \n",
       "73266  False  False  ...  False    False  False    False    False   \n",
       "73267  False  False  ...  False    False  False    False    False   \n",
       "\n",
       "       Objective-C    SAS  OCaml  Solidity  COBOL  \n",
       "0            False  False  False     False  False  \n",
       "1            False  False  False     False  False  \n",
       "2            False  False  False     False  False  \n",
       "3            False  False  False     False  False  \n",
       "4            False  False  False     False  False  \n",
       "...            ...    ...    ...       ...    ...  \n",
       "73263        False  False  False     False  False  \n",
       "73264        False  False  False     False  False  \n",
       "73265        False  False  False     False  False  \n",
       "73266        False  False  False     False  False  \n",
       "73267        False  False  False     False  False  \n",
       "\n",
       "[69462 rows x 42 columns]"
      ]
     },
     "execution_count": 84,
     "metadata": {},
     "output_type": "execute_result"
    }
   ],
   "source": [
    "language_worked_with_df"
   ]
  },
  {
   "cell_type": "code",
   "execution_count": 85,
   "id": "e1d9b0c5",
   "metadata": {},
   "outputs": [
    {
     "data": {
      "text/plain": [
       "JavaScript     43508\n",
       "HTML/CSS       36602\n",
       "SQL            33062\n",
       "Python         31942\n",
       "TypeScript     23316\n",
       "Java           22095\n",
       "Bash/Shell     19293\n",
       "C#             18635\n",
       "C++            14916\n",
       "PHP            13708\n",
       "C              12677\n",
       "PowerShell      8041\n",
       "Go              7400\n",
       "Rust            6116\n",
       "Kotlin          6073\n",
       "Dart            4320\n",
       "Ruby            3990\n",
       "Assembly        3530\n",
       "Swift           3265\n",
       "R               3092\n",
       "VBA             2927\n",
       "MATLAB          2719\n",
       "Lua             2561\n",
       "Groovy          2202\n",
       "Delphi          2155\n",
       "Scala           1695\n",
       "Objective-C     1564\n",
       "Perl            1480\n",
       "Haskell         1422\n",
       "Elixir          1414\n",
       "Clojure          983\n",
       "Julia            980\n",
       "Solidity         933\n",
       "LISP             817\n",
       "F#               663\n",
       "Fortran          579\n",
       "Erlang           569\n",
       "COBOL            403\n",
       "APL              395\n",
       "SAS              364\n",
       "OCaml            363\n",
       "Crystal          286\n",
       "dtype: int64"
      ]
     },
     "execution_count": 85,
     "metadata": {},
     "output_type": "execute_result"
    }
   ],
   "source": [
    "language_worked_with_total = language_worked_with_df.sum().sort_values(ascending=False)\n",
    "\n",
    "language_worked_with_total"
   ]
  },
  {
   "cell_type": "code",
   "execution_count": 87,
   "id": "613999b3",
   "metadata": {},
   "outputs": [
    {
     "data": {
      "image/png": "[encoded data removed]",
      "text/plain": [
       "<Figure size 1200x1200 with 1 Axes>"
      ]
     },
     "metadata": {
      "needs_background": "light"
     },
     "output_type": "display_data"
    }
   ],
   "source": [
    "plt.figure(figsize=(12,12))\n",
    "plt.title('Languages Worked in over the year')\n",
    "sns.barplot(x=language_worked_with_total, y=language_worked_with_total.index)\n",
    "plt.xlabel('Count');"
   ]
  },
  {
   "cell_type": "markdown",
   "id": "c0da1559",
   "metadata": {},
   "source": [
    "**JavaScript, HTML/CSS and SQL are the top three languages our respondents have used or worked in over the year.**"
   ]
  },
  {
   "cell_type": "markdown",
   "id": "7e015bab",
   "metadata": {},
   "source": [
    "### Q: Which languages are  people interested to work in over the next year?\n",
    "\n",
    "**The column `LanguageWantToWorkWith` will be used for answering the question.**"
   ]
  },
  {
   "cell_type": "code",
   "execution_count": 88,
   "id": "0808bb74",
   "metadata": {},
   "outputs": [
    {
     "data": {
      "text/plain": [
       "'Which programming, scripting, and markup languages have you done extensive development work in over the past year, and which do you want to work in over the next year? (If you both worked with the language and want to continue to do so, please check both boxes in that row.)'"
      ]
     },
     "execution_count": 88,
     "metadata": {},
     "output_type": "execute_result"
    }
   ],
   "source": [
    "schema.Language"
   ]
  },
  {
   "cell_type": "code",
   "execution_count": 89,
   "id": "b512b915",
   "metadata": {},
   "outputs": [
    {
     "data": {
      "text/plain": [
       "JavaScript     42.518211\n",
       "Python         39.664853\n",
       "TypeScript     35.318591\n",
       "HTML/CSS       34.192796\n",
       "SQL            33.599666\n",
       "Rust           22.986669\n",
       "C#             21.138176\n",
       "Go             21.014368\n",
       "Java           17.958020\n",
       "Bash/Shell     17.727678\n",
       "C++            15.861910\n",
       "Kotlin         12.506118\n",
       "C              10.312113\n",
       "PHP             9.717543\n",
       "Dart            8.164176\n",
       "Swift           6.835392\n",
       "PowerShell      6.315683\n",
       "Ruby            5.197086\n",
       "Elixir          4.424002\n",
       "R               3.905733\n",
       "Assembly        3.904293\n",
       "Haskell         3.881259\n",
       "Solidity        3.470963\n",
       "Scala           3.265095\n",
       "Lua             3.089459\n",
       "Julia           2.928220\n",
       "F#              2.589905\n",
       "Clojure         2.566871\n",
       "Delphi          2.225677\n",
       "Erlang          1.596556\n",
       "LISP            1.577841\n",
       "MATLAB          1.392128\n",
       "Groovy          1.338862\n",
       "Perl            1.179062\n",
       "VBA             1.177622\n",
       "Objective-C     1.148830\n",
       "OCaml           0.928565\n",
       "APL             0.695344\n",
       "Crystal         0.611845\n",
       "Fortran         0.535545\n",
       "SAS             0.454925\n",
       "COBOL           0.395900\n",
       "dtype: float64"
      ]
     },
     "execution_count": 89,
     "metadata": {},
     "output_type": "execute_result"
    }
   ],
   "source": [
    "language_interested_df = split_multicolumn(survey_df.LanguageWantToWorkWith)\n",
    "language_interested_pct = language_interested_df.mean().sort_values(ascending=False) * 100\n",
    "language_interested_pct"
   ]
  },
  {
   "cell_type": "code",
   "execution_count": 90,
   "id": "1711d701",
   "metadata": {},
   "outputs": [
    {
     "data": {
      "image/png": "[encoded data removed]",
      "text/plain": [
       "<Figure size 1200x1200 with 1 Axes>"
      ]
     },
     "metadata": {
      "needs_background": "light"
     },
     "output_type": "display_data"
    }
   ],
   "source": [
    "plt.figure(figsize=(12,12))\n",
    "plt.title('Languages people are interested to work in next year')\n",
    "plt.xlabel('Percentage')\n",
    "sns.barplot(x=language_interested_pct, y=language_interested_pct.index);"
   ]
  },
  {
   "cell_type": "markdown",
   "id": "167184dc",
   "metadata": {},
   "source": [
    "**JavaScript language comes on top as the language people are also interested working in for the next year, it further shows the important of web dovlopment in recent times. Python is second on the list here, this might because of its wide usage across board and also its simple syntax. It is quite interesting to note that we are using Python for this analysis.**"
   ]
  },
  {
   "cell_type": "markdown",
   "id": "3ee4721f",
   "metadata": {},
   "source": [
    "### Q: How did you learn how to code?\n",
    "\n",
    "**To answer this question, we'll use the `LearnCode` columns in both schema and survey_df data frames.**"
   ]
  },
  {
   "cell_type": "code",
   "execution_count": 91,
   "id": "772e79b0",
   "metadata": {},
   "outputs": [
    {
     "data": {
      "text/plain": [
       "'How did you learn to code? Select all that apply.'"
      ]
     },
     "execution_count": 91,
     "metadata": {},
     "output_type": "execute_result"
    }
   ],
   "source": [
    "schema.LearnCode"
   ]
  },
  {
   "cell_type": "code",
   "execution_count": 92,
   "id": "a851a4cc",
   "metadata": {},
   "outputs": [
    {
     "data": {
      "text/plain": [
       "LearnCode\n",
       "School (i.e., University, College, etc)                                                                                                                                                                          3483\n",
       "Other online resources (e.g., videos, blogs, forum)                                                                                                                                                              3025\n",
       "Books / Physical media;Other online resources (e.g., videos, blogs, forum);School (i.e., University, College, etc)                                                                                               2690\n",
       "Other online resources (e.g., videos, blogs, forum);School (i.e., University, College, etc)                                                                                                                      2531\n",
       "Books / Physical media;Other online resources (e.g., videos, blogs, forum);School (i.e., University, College, etc);On the job training;Online Courses or Certification                                           2295\n",
       "                                                                                                                                                                                                                 ... \n",
       "Friend or family member;Other online resources (e.g., videos, blogs, forum);School (i.e., University, College, etc);Online Courses or Certification;Other (please specify):;Hackathons (virtual or in-person)       1\n",
       "Books / Physical media;Friend or family member;Other online resources (e.g., videos, blogs, forum);On the job training;Online Courses or Certification;Coding Bootcamp;Colleague;Other (please specify):            1\n",
       "Other online resources (e.g., videos, blogs, forum);School (i.e., University, College, etc);On the job training;Online Courses or Certification;Other (please specify):;Hackathons (virtual or in-person)           1\n",
       "Friend or family member;Online Courses or Certification;Colleague;Other (please specify):                                                                                                                           1\n",
       "Other online resources (e.g., videos, blogs, forum);On the job training;Coding Bootcamp;Other (please specify):                                                                                                     1\n",
       "Name: count, Length: 729, dtype: int64"
      ]
     },
     "execution_count": 92,
     "metadata": {},
     "output_type": "execute_result"
    }
   ],
   "source": [
    "survey_df.LearnCode.value_counts()"
   ]
  },
  {
   "cell_type": "code",
   "execution_count": 93,
   "id": "eb31dcb7",
   "metadata": {},
   "outputs": [
    {
     "data": {
      "text/html": [
       "<div>\n",
       "<style scoped>\n",
       "    .dataframe tbody tr th:only-of-type {\n",
       "        vertical-align: middle;\n",
       "    }\n",
       "\n",
       "    .dataframe tbody tr th {\n",
       "        vertical-align: top;\n",
       "    }\n",
       "\n",
       "    .dataframe thead th {\n",
       "        text-align: right;\n",
       "    }\n",
       "</style>\n",
       "<table border=\"1\" class=\"dataframe\">\n",
       "  <thead>\n",
       "    <tr style=\"text-align: right;\">\n",
       "      <th></th>\n",
       "      <th>Books / Physical media</th>\n",
       "      <th>Friend or family member</th>\n",
       "      <th>Other online resources (e.g., videos, blogs, forum)</th>\n",
       "      <th>School (i.e., University, College, etc)</th>\n",
       "      <th>On the job training</th>\n",
       "      <th>Online Courses or Certification</th>\n",
       "      <th>Coding Bootcamp</th>\n",
       "      <th>Colleague</th>\n",
       "      <th>Other (please specify):</th>\n",
       "      <th>Hackathons (virtual or in-person)</th>\n",
       "    </tr>\n",
       "  </thead>\n",
       "  <tbody>\n",
       "    <tr>\n",
       "      <th>0</th>\n",
       "      <td>False</td>\n",
       "      <td>False</td>\n",
       "      <td>False</td>\n",
       "      <td>False</td>\n",
       "      <td>False</td>\n",
       "      <td>False</td>\n",
       "      <td>False</td>\n",
       "      <td>False</td>\n",
       "      <td>False</td>\n",
       "      <td>False</td>\n",
       "    </tr>\n",
       "    <tr>\n",
       "      <th>1</th>\n",
       "      <td>False</td>\n",
       "      <td>False</td>\n",
       "      <td>False</td>\n",
       "      <td>False</td>\n",
       "      <td>False</td>\n",
       "      <td>False</td>\n",
       "      <td>False</td>\n",
       "      <td>False</td>\n",
       "      <td>False</td>\n",
       "      <td>False</td>\n",
       "    </tr>\n",
       "    <tr>\n",
       "      <th>2</th>\n",
       "      <td>True</td>\n",
       "      <td>True</td>\n",
       "      <td>True</td>\n",
       "      <td>True</td>\n",
       "      <td>False</td>\n",
       "      <td>False</td>\n",
       "      <td>False</td>\n",
       "      <td>False</td>\n",
       "      <td>False</td>\n",
       "      <td>False</td>\n",
       "    </tr>\n",
       "    <tr>\n",
       "      <th>3</th>\n",
       "      <td>True</td>\n",
       "      <td>False</td>\n",
       "      <td>False</td>\n",
       "      <td>True</td>\n",
       "      <td>False</td>\n",
       "      <td>False</td>\n",
       "      <td>False</td>\n",
       "      <td>False</td>\n",
       "      <td>False</td>\n",
       "      <td>False</td>\n",
       "    </tr>\n",
       "    <tr>\n",
       "      <th>4</th>\n",
       "      <td>False</td>\n",
       "      <td>False</td>\n",
       "      <td>True</td>\n",
       "      <td>True</td>\n",
       "      <td>True</td>\n",
       "      <td>False</td>\n",
       "      <td>False</td>\n",
       "      <td>False</td>\n",
       "      <td>False</td>\n",
       "      <td>False</td>\n",
       "    </tr>\n",
       "    <tr>\n",
       "      <th>...</th>\n",
       "      <td>...</td>\n",
       "      <td>...</td>\n",
       "      <td>...</td>\n",
       "      <td>...</td>\n",
       "      <td>...</td>\n",
       "      <td>...</td>\n",
       "      <td>...</td>\n",
       "      <td>...</td>\n",
       "      <td>...</td>\n",
       "      <td>...</td>\n",
       "    </tr>\n",
       "    <tr>\n",
       "      <th>73263</th>\n",
       "      <td>True</td>\n",
       "      <td>False</td>\n",
       "      <td>True</td>\n",
       "      <td>False</td>\n",
       "      <td>True</td>\n",
       "      <td>True</td>\n",
       "      <td>False</td>\n",
       "      <td>False</td>\n",
       "      <td>False</td>\n",
       "      <td>False</td>\n",
       "    </tr>\n",
       "    <tr>\n",
       "      <th>73264</th>\n",
       "      <td>False</td>\n",
       "      <td>False</td>\n",
       "      <td>True</td>\n",
       "      <td>True</td>\n",
       "      <td>True</td>\n",
       "      <td>True</td>\n",
       "      <td>False</td>\n",
       "      <td>False</td>\n",
       "      <td>False</td>\n",
       "      <td>False</td>\n",
       "    </tr>\n",
       "    <tr>\n",
       "      <th>73265</th>\n",
       "      <td>True</td>\n",
       "      <td>False</td>\n",
       "      <td>True</td>\n",
       "      <td>True</td>\n",
       "      <td>False</td>\n",
       "      <td>True</td>\n",
       "      <td>False</td>\n",
       "      <td>False</td>\n",
       "      <td>False</td>\n",
       "      <td>False</td>\n",
       "    </tr>\n",
       "    <tr>\n",
       "      <th>73266</th>\n",
       "      <td>True</td>\n",
       "      <td>False</td>\n",
       "      <td>False</td>\n",
       "      <td>False</td>\n",
       "      <td>True</td>\n",
       "      <td>False</td>\n",
       "      <td>False</td>\n",
       "      <td>False</td>\n",
       "      <td>False</td>\n",
       "      <td>False</td>\n",
       "    </tr>\n",
       "    <tr>\n",
       "      <th>73267</th>\n",
       "      <td>True</td>\n",
       "      <td>True</td>\n",
       "      <td>True</td>\n",
       "      <td>True</td>\n",
       "      <td>True</td>\n",
       "      <td>True</td>\n",
       "      <td>False</td>\n",
       "      <td>False</td>\n",
       "      <td>False</td>\n",
       "      <td>True</td>\n",
       "    </tr>\n",
       "  </tbody>\n",
       "</table>\n",
       "<p>69462 rows × 10 columns</p>\n",
       "</div>"
      ],
      "text/plain": [
       "       Books / Physical media  Friend or family member  \\\n",
       "0                       False                    False   \n",
       "1                       False                    False   \n",
       "2                        True                     True   \n",
       "3                        True                    False   \n",
       "4                       False                    False   \n",
       "...                       ...                      ...   \n",
       "73263                    True                    False   \n",
       "73264                   False                    False   \n",
       "73265                    True                    False   \n",
       "73266                    True                    False   \n",
       "73267                    True                     True   \n",
       "\n",
       "       Other online resources (e.g., videos, blogs, forum)  \\\n",
       "0                                                  False     \n",
       "1                                                  False     \n",
       "2                                                   True     \n",
       "3                                                  False     \n",
       "4                                                   True     \n",
       "...                                                  ...     \n",
       "73263                                               True     \n",
       "73264                                               True     \n",
       "73265                                               True     \n",
       "73266                                              False     \n",
       "73267                                               True     \n",
       "\n",
       "       School (i.e., University, College, etc)  On the job training  \\\n",
       "0                                        False                False   \n",
       "1                                        False                False   \n",
       "2                                         True                False   \n",
       "3                                         True                False   \n",
       "4                                         True                 True   \n",
       "...                                        ...                  ...   \n",
       "73263                                    False                 True   \n",
       "73264                                     True                 True   \n",
       "73265                                     True                False   \n",
       "73266                                    False                 True   \n",
       "73267                                     True                 True   \n",
       "\n",
       "       Online Courses or Certification  Coding Bootcamp  Colleague  \\\n",
       "0                                False            False      False   \n",
       "1                                False            False      False   \n",
       "2                                False            False      False   \n",
       "3                                False            False      False   \n",
       "4                                False            False      False   \n",
       "...                                ...              ...        ...   \n",
       "73263                             True            False      False   \n",
       "73264                             True            False      False   \n",
       "73265                             True            False      False   \n",
       "73266                            False            False      False   \n",
       "73267                             True            False      False   \n",
       "\n",
       "       Other (please specify):  Hackathons (virtual or in-person)  \n",
       "0                        False                              False  \n",
       "1                        False                              False  \n",
       "2                        False                              False  \n",
       "3                        False                              False  \n",
       "4                        False                              False  \n",
       "...                        ...                                ...  \n",
       "73263                    False                              False  \n",
       "73264                    False                              False  \n",
       "73265                    False                              False  \n",
       "73266                    False                              False  \n",
       "73267                    False                               True  \n",
       "\n",
       "[69462 rows x 10 columns]"
      ]
     },
     "execution_count": 93,
     "metadata": {},
     "output_type": "execute_result"
    }
   ],
   "source": [
    "learn_code_df = split_multicolumn(survey_df.LearnCode)\n",
    "learn_code_df"
   ]
  },
  {
   "cell_type": "code",
   "execution_count": 94,
   "id": "e56c9d04",
   "metadata": {},
   "outputs": [],
   "source": [
    "learn_code_df.drop(columns=['Other (please specify):'], inplace=True)"
   ]
  },
  {
   "cell_type": "code",
   "execution_count": 95,
   "id": "227fe566",
   "metadata": {},
   "outputs": [
    {
     "data": {
      "text/plain": [
       "Other online resources (e.g., videos, blogs, forum)    47559\n",
       "School (i.e., University, College, etc)                42066\n",
       "Books / Physical media                                 36663\n",
       "Online Courses or Certification                        31424\n",
       "On the job training                                    26960\n",
       "Colleague                                              12379\n",
       "Friend or family member                                 9290\n",
       "Coding Bootcamp                                         7175\n",
       "Hackathons (virtual or in-person)                       4923\n",
       "dtype: int64"
      ]
     },
     "execution_count": 95,
     "metadata": {},
     "output_type": "execute_result"
    }
   ],
   "source": [
    "learn_code_total = learn_code_df.sum().sort_values(ascending=False)\n",
    "learn_code_total"
   ]
  },
  {
   "cell_type": "code",
   "execution_count": 96,
   "id": "44023f61",
   "metadata": {},
   "outputs": [
    {
     "data": {
      "image/png": "[encoded data removed]",
      "text/plain": [
       "<Figure size 1200x600 with 1 Axes>"
      ]
     },
     "metadata": {},
     "output_type": "display_data"
    }
   ],
   "source": [
    "plt.figure(figsize=(12,6))\n",
    "plt.title('How did you learn to code?')\n",
    "plt.pie(learn_code_total, labels=learn_code_total.index, autopct='%1.1f%%');"
   ]
  },
  {
   "cell_type": "markdown",
   "id": "2d8c2ea0",
   "metadata": {},
   "source": [
    "**Over `21`% of respondents learnt programming from online resources such as videos, blogs, forum etc. This further proves that you can learn programming from anything source and not necessarily from a school. However, respondents who learnt programming/coding from school also have a high representation with upto `19.3%`.**\n",
    "\n",
    "**With `online resources` having a high percentage of people learning coding online, we'll investigate what online resources are commonly used to learn coding.**\n",
    "\n",
    "### Q: What online resources do you learn to code?\n",
    "\n",
    "**We'll look at the `LearnCodeOnline` columns in both `schema` and `survey_df` to answer this question.**"
   ]
  },
  {
   "cell_type": "code",
   "execution_count": 97,
   "id": "b320e61d",
   "metadata": {},
   "outputs": [
    {
     "data": {
      "text/plain": [
       "'What online resources do you use to learn to code? Select all that apply.'"
      ]
     },
     "execution_count": 97,
     "metadata": {},
     "output_type": "execute_result"
    }
   ],
   "source": [
    "schema.LearnCodeOnline"
   ]
  },
  {
   "cell_type": "code",
   "execution_count": 98,
   "id": "d128aa3b",
   "metadata": {},
   "outputs": [
    {
     "data": {
      "text/plain": [
       "Technical documentation                                        60.273243\n",
       "Stack Overflow                                                 58.971812\n",
       "Blogs                                                          51.646944\n",
       "How-to videos                                                  41.042584\n",
       "Written Tutorials                                              39.659094\n",
       "Video-based Online Courses                                     35.312833\n",
       "Online books                                                   29.970343\n",
       "Online forum                                                   27.469696\n",
       "Written-based Online Courses                                   23.454551\n",
       "Coding sessions (live or recorded)                             19.751807\n",
       "Interactive tutorial                                           17.906193\n",
       "Online challenges (e.g., daily or weekly coding challenges)    17.146065\n",
       "Certification videos                                           10.194063\n",
       "Programming Games                                               8.908468\n",
       "Auditory material (e.g., podcasts)                              4.946590\n",
       "dtype: float64"
      ]
     },
     "execution_count": 98,
     "metadata": {},
     "output_type": "execute_result"
    }
   ],
   "source": [
    "learn_code_online_df = split_multicolumn(survey_df.LearnCodeOnline)\n",
    "learn_code_online_df.drop(columns='Other (Please specify):', inplace=True)\n",
    "learn_code_online_pct = learn_code_online_df.mean().sort_values(ascending=False) * 100\n",
    "learn_code_online_pct"
   ]
  },
  {
   "cell_type": "code",
   "execution_count": 101,
   "id": "250f1224",
   "metadata": {},
   "outputs": [
    {
     "data": {
      "image/png": "[encoded data removed]",
      "text/plain": [
       "<Figure size 1200x1000 with 1 Axes>"
      ]
     },
     "metadata": {
      "needs_background": "light"
     },
     "output_type": "display_data"
    }
   ],
   "source": [
    "plt.figure(figsize=(12,10))\n",
    "plt.title('What online resources do you use to learn to code?')\n",
    "sns.barplot(x=learn_code_online_pct, y=learn_code_online_pct.index)\n",
    "plt.xlabel('Count');"
   ]
  },
  {
   "cell_type": "markdown",
   "id": "9f3143c4",
   "metadata": {},
   "source": [
    "**Technical documentation, Stack Overflow, Blogs, How-to videos and Written Tutorials are top five online resources people use to learn coding. Techinal documentation is a documentation that describes how a product or service work. [DOCUMENT360](https://document360.com.com/blog/technical-documentation/). Stack Overflow is a community-based space to find and contribute answers to technical challenges, and one of the most popular websites in the world. [stackoverflow](https://stackoverflow.com/#:~:text=A%20public%20platform%20building%20the,popular%20websites%20in%20the%20%20world.). We are using a survey data from `Stack Overflow` for our analysis.** \n",
    "\n",
    "**Some of these online resources are free others are not.**\n",
    "\n",
    "### Q: What online courses or certifications do you use to learn code to code?\n",
    "\n",
    "**We'll use `LearnCodeCoursesCert` columns in both the `schema` and `survey_df` data frames to answer the question.**"
   ]
  },
  {
   "cell_type": "code",
   "execution_count": 99,
   "id": "1dffe7e1",
   "metadata": {},
   "outputs": [
    {
     "data": {
      "text/plain": [
       "'What online courses or certifications do you use to learn to code? Select all that apply.'"
      ]
     },
     "execution_count": 99,
     "metadata": {},
     "output_type": "execute_result"
    }
   ],
   "source": [
    "schema.LearnCodeCoursesCert"
   ]
  },
  {
   "cell_type": "code",
   "execution_count": 100,
   "id": "b984f909",
   "metadata": {},
   "outputs": [
    {
     "data": {
      "text/plain": [
       "Udemy          26.628948\n",
       "Coursera       13.993263\n",
       "Codecademy     10.386974\n",
       "Pluralsight     9.053871\n",
       "edX             6.168841\n",
       "Udacity         5.424549\n",
       "Skillsoft       0.712620\n",
       "dtype: float64"
      ]
     },
     "execution_count": 100,
     "metadata": {},
     "output_type": "execute_result"
    }
   ],
   "source": [
    "courses_cert_df = split_multicolumn(survey_df.LearnCodeCoursesCert)\n",
    "courses_cert_df.drop(columns='Other', inplace=True)\n",
    "courses_cert_pct = courses_cert_df.mean().sort_values(ascending=False) * 100\n",
    "courses_cert_pct"
   ]
  },
  {
   "cell_type": "code",
   "execution_count": 102,
   "id": "8a833657",
   "metadata": {},
   "outputs": [
    {
     "data": {
      "image/png": "[encoded data removed]",
      "text/plain": [
       "<Figure size 900x500 with 1 Axes>"
      ]
     },
     "metadata": {
      "needs_background": "light"
     },
     "output_type": "display_data"
    }
   ],
   "source": [
    "plt.title('What online courses or certifications do you use to learn to code?')\n",
    "sns.barplot(x=courses_cert_pct, y=courses_cert_pct.index)\n",
    "plt.xlabel('Count');"
   ]
  },
  {
   "cell_type": "markdown",
   "id": "39806154",
   "metadata": {},
   "source": [
    "**Courses are well planned and structured form of learning where an individual can acquire a new skill or improve their knowlegde of an already gained skill or subject matter. It can be free or not. From the above bar graph, we can see different platforms that offer online courses.**\n",
    "\n",
    "**Udemy is the top online platform where our respondents use for learning how to code with over `26%`. Cousera and Codecademy completes the top three most used online platforms for learning coding.**\n",
    "\n",
    "\n",
    "### Q: What are the top ten countries to earn the most?\n",
    "\n",
    "**We'll use the `.groupby` to group the survey by country.**"
   ]
  },
  {
   "cell_type": "code",
   "execution_count": 103,
   "id": "113ef86a",
   "metadata": {},
   "outputs": [
    {
     "data": {
      "text/plain": [
       "'What is your current total compensation (salary, bonuses, and perks, before taxes and deductions)? Please enter a whole number in the box below, without any punctuation.  If you are paid hourly, please estimate an equivalent weekly, monthly, or yearly salary. If you prefer not to answer, please leave the box empty.'"
      ]
     },
     "execution_count": 103,
     "metadata": {},
     "output_type": "execute_result"
    }
   ],
   "source": [
    "schema.CompTotal"
   ]
  },
  {
   "cell_type": "code",
   "execution_count": 104,
   "id": "a8e08218",
   "metadata": {},
   "outputs": [],
   "source": [
    "top_earning_countries_df = survey_df.groupby('Country')[['CompTotal']].mean().sort_values('CompTotal', \n",
    "                                                                                          ascending=False).head(10)"
   ]
  },
  {
   "cell_type": "code",
   "execution_count": 105,
   "id": "2699646c",
   "metadata": {},
   "outputs": [
    {
     "data": {
      "text/html": [
       "<div>\n",
       "<style scoped>\n",
       "    .dataframe tbody tr th:only-of-type {\n",
       "        vertical-align: middle;\n",
       "    }\n",
       "\n",
       "    .dataframe tbody tr th {\n",
       "        vertical-align: top;\n",
       "    }\n",
       "\n",
       "    .dataframe thead th {\n",
       "        text-align: right;\n",
       "    }\n",
       "</style>\n",
       "<table border=\"1\" class=\"dataframe\">\n",
       "  <thead>\n",
       "    <tr style=\"text-align: right;\">\n",
       "      <th></th>\n",
       "      <th>CompTotal</th>\n",
       "    </tr>\n",
       "    <tr>\n",
       "      <th>Country</th>\n",
       "      <th></th>\n",
       "    </tr>\n",
       "  </thead>\n",
       "  <tbody>\n",
       "    <tr>\n",
       "      <th>United States of America</th>\n",
       "      <td>1.196602e+18</td>\n",
       "    </tr>\n",
       "    <tr>\n",
       "      <th>Italy</th>\n",
       "      <td>1.355014e+12</td>\n",
       "    </tr>\n",
       "    <tr>\n",
       "      <th>Nigeria</th>\n",
       "      <td>1.239910e+10</td>\n",
       "    </tr>\n",
       "    <tr>\n",
       "      <th>Iran, Islamic Republic of...</th>\n",
       "      <td>2.229974e+08</td>\n",
       "    </tr>\n",
       "    <tr>\n",
       "      <th>Indonesia</th>\n",
       "      <td>5.380211e+07</td>\n",
       "    </tr>\n",
       "    <tr>\n",
       "      <th>South Korea</th>\n",
       "      <td>5.258312e+07</td>\n",
       "    </tr>\n",
       "    <tr>\n",
       "      <th>Viet Nam</th>\n",
       "      <td>4.962972e+07</td>\n",
       "    </tr>\n",
       "    <tr>\n",
       "      <th>Republic of Korea</th>\n",
       "      <td>3.595151e+07</td>\n",
       "    </tr>\n",
       "    <tr>\n",
       "      <th>Cambodia</th>\n",
       "      <td>2.469482e+07</td>\n",
       "    </tr>\n",
       "    <tr>\n",
       "      <th>Paraguay</th>\n",
       "      <td>2.186766e+07</td>\n",
       "    </tr>\n",
       "  </tbody>\n",
       "</table>\n",
       "</div>"
      ],
      "text/plain": [
       "                                 CompTotal\n",
       "Country                                   \n",
       "United States of America      1.196602e+18\n",
       "Italy                         1.355014e+12\n",
       "Nigeria                       1.239910e+10\n",
       "Iran, Islamic Republic of...  2.229974e+08\n",
       "Indonesia                     5.380211e+07\n",
       "South Korea                   5.258312e+07\n",
       "Viet Nam                      4.962972e+07\n",
       "Republic of Korea             3.595151e+07\n",
       "Cambodia                      2.469482e+07\n",
       "Paraguay                      2.186766e+07"
      ]
     },
     "execution_count": 105,
     "metadata": {},
     "output_type": "execute_result"
    }
   ],
   "source": [
    "top_earning_countries_df"
   ]
  },
  {
   "cell_type": "code",
   "execution_count": 162,
   "id": "1d5fa93e",
   "metadata": {},
   "outputs": [
    {
     "name": "stdout",
     "output_type": "stream",
     "text": [
      "Top ten countries that earn the most are : ['United States of America', 'Italy', 'Nigeria', 'Iran, Islamic Republic of...', 'Indonesia', 'South Korea', 'Viet Nam', 'Republic of Korea', 'Cambodia', 'Paraguay']\n"
     ]
    }
   ],
   "source": [
    "print('Top ten countries that earn the most are :', list(top_earning_countries_df.index))"
   ]
  },
  {
   "cell_type": "markdown",
   "id": "1229c359",
   "metadata": {},
   "source": [
    "**We have some suprises in our result, most countries in our result are often considered as under-developed or developing nations e.g Nigeria, Paraguay, VietNam etc are among the top countries that earn the most. We can investigate that in a letter anaysis.**\n",
    "\n",
    "### Q. When do you receive your salary or payment or compensation?"
   ]
  },
  {
   "cell_type": "code",
   "execution_count": 106,
   "id": "075e6626",
   "metadata": {},
   "outputs": [
    {
     "data": {
      "text/plain": [
       "'Is that compensation weekly, monthly, or yearly?'"
      ]
     },
     "execution_count": 106,
     "metadata": {},
     "output_type": "execute_result"
    }
   ],
   "source": [
    "schema.CompFreq"
   ]
  },
  {
   "cell_type": "code",
   "execution_count": 107,
   "id": "70239672",
   "metadata": {},
   "outputs": [
    {
     "data": {
      "text/plain": [
       "CompFreq\n",
       "Yearly     22381\n",
       "Monthly    18500\n",
       "Weekly       913\n",
       "Name: count, dtype: int64"
      ]
     },
     "execution_count": 107,
     "metadata": {},
     "output_type": "execute_result"
    }
   ],
   "source": [
    "compensation_type_counts = survey_df.CompFreq.value_counts()\n",
    "compensation_type_counts"
   ]
  },
  {
   "cell_type": "code",
   "execution_count": 108,
   "id": "861cdff6",
   "metadata": {},
   "outputs": [
    {
     "data": {
      "image/png": "[encoded data removed]",
      "text/plain": [
       "<Figure size 900x500 with 1 Axes>"
      ]
     },
     "metadata": {},
     "output_type": "display_data"
    }
   ],
   "source": [
    "plt.title(schema.CompFreq)\n",
    "plt.pie(compensation_type_counts, labels=compensation_type_counts.index, autopct='%1.1f%%');"
   ]
  },
  {
   "cell_type": "markdown",
   "id": "97ee6645",
   "metadata": {},
   "source": [
    "**According to the respondents, yearly renumeration is the highest with `53.6%` followed by monthly renumeration with `44.3%` while weekly renumeration is the least with `2.2%`.**"
   ]
  },
  {
   "cell_type": "markdown",
   "id": "0953378c",
   "metadata": {},
   "source": [
    "### Q. What age group indentify as Trans the most?\n",
    "\n",
    "**We'll use the `groupby` function to solve the above question.**"
   ]
  },
  {
   "cell_type": "code",
   "execution_count": 137,
   "id": "0f3a699a",
   "metadata": {},
   "outputs": [
    {
     "data": {
      "text/plain": [
       "Age\n",
       "18-24 years old       288\n",
       "25-34 years old       278\n",
       "Under 18 years old    129\n",
       "35-44 years old        89\n",
       "45-54 years old        28\n",
       "55-64 years old         7\n",
       "65 years or older       5\n",
       "dtype: int64"
      ]
     },
     "execution_count": 137,
     "metadata": {},
     "output_type": "execute_result"
    }
   ],
   "source": [
    "trans_age_total = survey_df[survey_df['Trans'] == 'Yes'].groupby('Age').size().sort_values(ascending=False)\n",
    "trans_age_total"
   ]
  },
  {
   "cell_type": "code",
   "execution_count": 138,
   "id": "af296121",
   "metadata": {},
   "outputs": [
    {
     "data": {
      "image/png": "[encoded data removed]",
      "text/plain": [
       "<Figure size 900x500 with 1 Axes>"
      ]
     },
     "metadata": {
      "needs_background": "light"
     },
     "output_type": "display_data"
    }
   ],
   "source": [
    "plt.title('Trans Age groups')\n",
    "sns.barplot(x=trans_age_total, y=trans_age_total.index)\n",
    "plt.xlabel('Count')\n",
    "plt.ylabel('');"
   ]
  },
  {
   "cell_type": "markdown",
   "id": "130e3841",
   "metadata": {},
   "source": [
    "**Age groups of `18-24 years old` and `25-34 years old` have the highest number of `Trans`.**"
   ]
  },
  {
   "cell_type": "markdown",
   "id": "3c243a13",
   "metadata": {},
   "source": [
    "## Inferences and Conclusions\n",
    "\n",
    "**From our analysis above, we have standout inferences about the survey. They includes:**\n",
    "\n",
    "- **The demographics of the survey is like the global representation of the programming community. In the future, the survey should be carried out in different languages so as to encourage more responses from many differnt countries especially non-English countries.**\n",
    "\n",
    "- **The male gender is a dominant force in the programming community. Female and non-binary genders should be encourage to go into programming and rise to the challenge.**\n",
    "\n",
    "- **The trans group are also underrepresented in the programming community.**\n",
    "\n",
    "- **Basic education seem to be enough for one to break into programming community.**\n",
    "\n",
    "- **Most of the programmers work full time while other work part-time or freelancers. A good number are also students.**\n",
    "\n",
    "- **There seem to be a between programmers that work fully remotely and programmers who work in a hybrid condition i.e remote and in-full. It shows remote work is here to stay with us and one can work remotely from anywhere in the world.**\n",
    "\n",
    "- **JavaScipt & HTML/CSS are the most used programming languages in 2022, SQL and Python follows them closely behind.**\n",
    "\n",
    "- **Alot of people learnt coding from online resources, it shows that one can learning prgramming online. Traditional school like universities, colleges also have a high number of people learning coding from them.**\n",
    "\n",
    "- **Udemy and Coursera are the top online certification platforms where people learning programming.**\n",
    "\n",
    "- **USA, Italy and Nigeria are the countries with the highest earnings in terms of renumeration.**\n",
    "\n",
    "- **Age groups of `18-24 years old` and `25-34 years old` have the highest number of `Trans`.**\n",
    "\n",
    "\n",
    "## References and Future Work\n",
    "\n",
    "**Here are the resources used in this notebook:**\n",
    "\n",
    "- **Stack Overflow Developer Survey: https://insights.stackoverflow.com/survey**\n",
    "- **Pandas user guide: https://pandas.pydata.org/docs/user_guide/index.html**\n",
    "- **Matplotlib user guide: https://matplotlib.org/3.3.1/users/index.html**\n",
    "- **Seaborn user guide & tutorial: https://seaborn.pydata.org/tutorial.html**\n",
    "\n",
    "**You can ivestigate the following:**\n",
    "\n",
    "- **Why Nigeria is among the top countries with highest earnings.**\n",
    "- **What countries have the highest number of responses relating to data science.**\n",
    "- **Compare this anaysis with the previous years and indentify interesting trends.**"
   ]
  }
 ],
 "metadata": {
  "kernelspec": {
   "display_name": "Python 3 (ipykernel)",
   "language": "python",
   "name": "python3"
  },
  "language_info": {
   "codemirror_mode": {
    "name": "ipython",
    "version": 3
   },
   "file_extension": ".py",
   "mimetype": "text/x-python",
   "name": "python",
   "nbconvert_exporter": "python",
   "pygments_lexer": "ipython3",
   "version": "3.11.5"
  }
 },
 "nbformat": 4,
 "nbformat_minor": 5
}
